{
 "cells": [
  {
   "cell_type": "markdown",
   "metadata": {},
   "source": [
    "<p style=\"text-align:center\">\n",
    "    <a href=\"https://skills.network/?utm_medium=Exinfluencer&utm_source=Exinfluencer&utm_content=000026UJ&utm_term=10006555&utm_id=NA-SkillsNetwork-Channel-SkillsNetworkCoursesIBMDeveloperSkillsNetworkPY0220ENSkillsNetwork900-2022-01-01\" target=\"_blank\">\n",
    "    <img src=\"https://cf-courses-data.s3.us.cloud-object-storage.appdomain.cloud/assets/logos/SN_web_lightmode.png\" width=\"200\" alt=\"Skills Network Logo\">\n",
    "    </a>\n",
    "</p>\n"
   ]
  },
  {
   "cell_type": "markdown",
   "metadata": {},
   "source": [
    "<h1>Extracting and Visualizing Stock Data</h1>\n",
    "<h2>Description</h2>\n"
   ]
  },
  {
   "cell_type": "markdown",
   "metadata": {},
   "source": [
    "Extracting essential data from a dataset and displaying it is a necessary part of data science; therefore individuals can make correct decisions based on the data. In this assignment, you will extract some stock data, you will then display this data in a graph.\n"
   ]
  },
  {
   "cell_type": "markdown",
   "metadata": {},
   "source": [
    "<h2>Table of Contents</h2>\n",
    "<div class=\"alert alert-block alert-info\" style=\"margin-top: 20px\">\n",
    "    <ul>\n",
    "        <li>Define a Function that Makes a Graph</li>\n",
    "        <li>Question 1: Use yfinance to Extract Stock Data</li>\n",
    "        <li>Question 2: Use Webscraping to Extract Tesla Revenue Data</li>\n",
    "        <li>Question 3: Use yfinance to Extract Stock Data</li>\n",
    "        <li>Question 4: Use Webscraping to Extract GME Revenue Data</li>\n",
    "        <li>Question 5: Plot Tesla Stock Graph</li>\n",
    "        <li>Question 6: Plot GameStop Stock Graph</li>\n",
    "    </ul>\n",
    "<p>\n",
    "    Estimated Time Needed: <strong>30 min</strong></p>\n",
    "</div>\n",
    "\n",
    "<hr>\n"
   ]
  },
  {
   "cell_type": "markdown",
   "metadata": {},
   "source": [
    "***Note***:- If you are working in IBM Cloud Watson Studio, please replace the command for installing nbformat from `!pip install nbformat==4.2.0` to simply `!pip install nbformat`\n"
   ]
  },
  {
   "cell_type": "code",
   "execution_count": 1,
   "metadata": {
    "tags": []
   },
   "outputs": [
    {
     "name": "stdout",
     "output_type": "stream",
     "text": [
      "Requirement already satisfied: yfinance in c:\\users\\17789\\appdata\\local\\programs\\python\\python311\\lib\\site-packages (0.2.4)\n",
      "Requirement already satisfied: pandas>=1.3.0 in c:\\users\\17789\\appdata\\local\\programs\\python\\python311\\lib\\site-packages (from yfinance) (2.1.1)\n",
      "Requirement already satisfied: numpy>=1.16.5 in c:\\users\\17789\\appdata\\local\\programs\\python\\python311\\lib\\site-packages (from yfinance) (1.26.1)\n",
      "Requirement already satisfied: requests>=2.26 in c:\\users\\17789\\appdata\\local\\programs\\python\\python311\\lib\\site-packages (from yfinance) (2.31.0)\n",
      "Requirement already satisfied: multitasking>=0.0.7 in c:\\users\\17789\\appdata\\local\\programs\\python\\python311\\lib\\site-packages (from yfinance) (0.0.11)\n",
      "Requirement already satisfied: lxml>=4.9.1 in c:\\users\\17789\\appdata\\local\\programs\\python\\python311\\lib\\site-packages (from yfinance) (4.9.3)\n",
      "Requirement already satisfied: appdirs>=1.4.4 in c:\\users\\17789\\appdata\\local\\programs\\python\\python311\\lib\\site-packages (from yfinance) (1.4.4)\n",
      "Requirement already satisfied: pytz>=2022.5 in c:\\users\\17789\\appdata\\local\\programs\\python\\python311\\lib\\site-packages (from yfinance) (2023.3.post1)\n",
      "Requirement already satisfied: frozendict>=2.3.4 in c:\\users\\17789\\appdata\\local\\programs\\python\\python311\\lib\\site-packages (from yfinance) (2.3.8)\n",
      "Requirement already satisfied: cryptography>=3.3.2 in c:\\users\\17789\\appdata\\local\\programs\\python\\python311\\lib\\site-packages (from yfinance) (41.0.5)\n",
      "Requirement already satisfied: beautifulsoup4>=4.11.1 in c:\\users\\17789\\appdata\\local\\programs\\python\\python311\\lib\\site-packages (from yfinance) (4.12.2)\n",
      "Requirement already satisfied: html5lib>=1.1 in c:\\users\\17789\\appdata\\local\\programs\\python\\python311\\lib\\site-packages (from yfinance) (1.1)\n",
      "Requirement already satisfied: soupsieve>1.2 in c:\\users\\17789\\appdata\\local\\programs\\python\\python311\\lib\\site-packages (from beautifulsoup4>=4.11.1->yfinance) (2.4.1)\n",
      "Requirement already satisfied: cffi>=1.12 in c:\\users\\17789\\appdata\\local\\programs\\python\\python311\\lib\\site-packages (from cryptography>=3.3.2->yfinance) (1.15.1)\n",
      "Requirement already satisfied: six>=1.9 in c:\\users\\17789\\appdata\\local\\programs\\python\\python311\\lib\\site-packages (from html5lib>=1.1->yfinance) (1.16.0)\n",
      "Requirement already satisfied: webencodings in c:\\users\\17789\\appdata\\local\\programs\\python\\python311\\lib\\site-packages (from html5lib>=1.1->yfinance) (0.5.1)\n",
      "Requirement already satisfied: python-dateutil>=2.8.2 in c:\\users\\17789\\appdata\\local\\programs\\python\\python311\\lib\\site-packages (from pandas>=1.3.0->yfinance) (2.8.2)\n",
      "Requirement already satisfied: tzdata>=2022.1 in c:\\users\\17789\\appdata\\local\\programs\\python\\python311\\lib\\site-packages (from pandas>=1.3.0->yfinance) (2023.3)\n",
      "Requirement already satisfied: charset-normalizer<4,>=2 in c:\\users\\17789\\appdata\\local\\programs\\python\\python311\\lib\\site-packages (from requests>=2.26->yfinance) (3.3.0)\n",
      "Requirement already satisfied: idna<4,>=2.5 in c:\\users\\17789\\appdata\\local\\programs\\python\\python311\\lib\\site-packages (from requests>=2.26->yfinance) (3.4)\n",
      "Requirement already satisfied: urllib3<3,>=1.21.1 in c:\\users\\17789\\appdata\\local\\programs\\python\\python311\\lib\\site-packages (from requests>=2.26->yfinance) (2.0.6)\n",
      "Requirement already satisfied: certifi>=2017.4.17 in c:\\users\\17789\\appdata\\local\\programs\\python\\python311\\lib\\site-packages (from requests>=2.26->yfinance) (2023.7.22)\n",
      "Requirement already satisfied: pycparser in c:\\users\\17789\\appdata\\local\\programs\\python\\python311\\lib\\site-packages (from cffi>=1.12->cryptography>=3.3.2->yfinance) (2.21)\n"
     ]
    },
    {
     "name": "stderr",
     "output_type": "stream",
     "text": [
      "\n",
      "[notice] A new release of pip is available: 23.3.1 -> 23.3.2\n",
      "[notice] To update, run: python.exe -m pip install --upgrade pip\n"
     ]
    },
    {
     "name": "stdout",
     "output_type": "stream",
     "text": [
      "Requirement already satisfied: bs4 in c:\\users\\17789\\appdata\\local\\programs\\python\\python311\\lib\\site-packages (0.0.1)\n",
      "Requirement already satisfied: beautifulsoup4 in c:\\users\\17789\\appdata\\local\\programs\\python\\python311\\lib\\site-packages (from bs4) (4.12.2)\n",
      "Requirement already satisfied: soupsieve>1.2 in c:\\users\\17789\\appdata\\local\\programs\\python\\python311\\lib\\site-packages (from beautifulsoup4->bs4) (2.4.1)\n"
     ]
    },
    {
     "name": "stderr",
     "output_type": "stream",
     "text": [
      "\n",
      "[notice] A new release of pip is available: 23.3.1 -> 23.3.2\n",
      "[notice] To update, run: python.exe -m pip install --upgrade pip\n"
     ]
    },
    {
     "name": "stdout",
     "output_type": "stream",
     "text": [
      "Requirement already satisfied: nbformat in c:\\users\\17789\\appdata\\local\\programs\\python\\python311\\lib\\site-packages (5.9.0)\n",
      "Requirement already satisfied: fastjsonschema in c:\\users\\17789\\appdata\\local\\programs\\python\\python311\\lib\\site-packages (from nbformat) (2.17.1)\n",
      "Requirement already satisfied: jsonschema>=2.6 in c:\\users\\17789\\appdata\\local\\programs\\python\\python311\\lib\\site-packages (from nbformat) (4.19.1)\n",
      "Requirement already satisfied: jupyter-core in c:\\users\\17789\\appdata\\local\\programs\\python\\python311\\lib\\site-packages (from nbformat) (5.3.1)\n",
      "Requirement already satisfied: traitlets>=5.1 in c:\\users\\17789\\appdata\\local\\programs\\python\\python311\\lib\\site-packages (from nbformat) (5.9.0)\n",
      "Requirement already satisfied: attrs>=22.2.0 in c:\\users\\17789\\appdata\\local\\programs\\python\\python311\\lib\\site-packages (from jsonschema>=2.6->nbformat) (23.1.0)\n",
      "Requirement already satisfied: jsonschema-specifications>=2023.03.6 in c:\\users\\17789\\appdata\\local\\programs\\python\\python311\\lib\\site-packages (from jsonschema>=2.6->nbformat) (2023.7.1)\n",
      "Requirement already satisfied: referencing>=0.28.4 in c:\\users\\17789\\appdata\\local\\programs\\python\\python311\\lib\\site-packages (from jsonschema>=2.6->nbformat) (0.30.2)\n",
      "Requirement already satisfied: rpds-py>=0.7.1 in c:\\users\\17789\\appdata\\local\\programs\\python\\python311\\lib\\site-packages (from jsonschema>=2.6->nbformat) (0.10.3)\n",
      "Requirement already satisfied: platformdirs>=2.5 in c:\\users\\17789\\appdata\\local\\programs\\python\\python311\\lib\\site-packages (from jupyter-core->nbformat) (3.8.0)\n",
      "Requirement already satisfied: pywin32>=300 in c:\\users\\17789\\appdata\\local\\programs\\python\\python311\\lib\\site-packages (from jupyter-core->nbformat) (306)\n"
     ]
    },
    {
     "name": "stderr",
     "output_type": "stream",
     "text": [
      "\n",
      "[notice] A new release of pip is available: 23.3.1 -> 23.3.2\n",
      "[notice] To update, run: python.exe -m pip install --upgrade pip\n"
     ]
    }
   ],
   "source": [
    "!pip install yfinance\n",
    "!pip install bs4\n",
    "!pip install nbformat"
   ]
  },
  {
   "cell_type": "code",
   "execution_count": 11,
   "metadata": {
    "tags": []
   },
   "outputs": [
    {
     "name": "stdout",
     "output_type": "stream",
     "text": [
      "Requirement already satisfied: pandas in c:\\users\\17789\\appdata\\local\\programs\\python\\python311\\lib\\site-packages (2.1.1)\n",
      "Requirement already satisfied: numpy>=1.23.2 in c:\\users\\17789\\appdata\\local\\programs\\python\\python311\\lib\\site-packages (from pandas) (1.26.1)\n",
      "Requirement already satisfied: python-dateutil>=2.8.2 in c:\\users\\17789\\appdata\\local\\programs\\python\\python311\\lib\\site-packages (from pandas) (2.8.2)\n",
      "Requirement already satisfied: pytz>=2020.1 in c:\\users\\17789\\appdata\\local\\programs\\python\\python311\\lib\\site-packages (from pandas) (2023.3.post1)\n",
      "Requirement already satisfied: tzdata>=2022.1 in c:\\users\\17789\\appdata\\local\\programs\\python\\python311\\lib\\site-packages (from pandas) (2023.3)\n",
      "Requirement already satisfied: six>=1.5 in c:\\users\\17789\\appdata\\local\\programs\\python\\python311\\lib\\site-packages (from python-dateutil>=2.8.2->pandas) (1.16.0)\n"
     ]
    },
    {
     "name": "stderr",
     "output_type": "stream",
     "text": [
      "\n",
      "[notice] A new release of pip is available: 23.3.1 -> 23.3.2\n",
      "[notice] To update, run: python.exe -m pip install --upgrade pip\n"
     ]
    }
   ],
   "source": [
    "import yfinance as yf\n",
    "!pip install pandas\n",
    "import pandas as pd\n",
    "import requests\n",
    "from bs4 import BeautifulSoup\n",
    "import plotly.graph_objects as go\n",
    "from plotly.subplots import make_subplots"
   ]
  },
  {
   "cell_type": "markdown",
   "metadata": {},
   "source": [
    "## Define Graphing Function\n"
   ]
  },
  {
   "cell_type": "markdown",
   "metadata": {},
   "source": [
    "In this section, we define the function `make_graph`. You don't have to know how the function works, you should only care about the inputs. It takes a dataframe with stock data (dataframe must contain Date and Close columns), a dataframe with revenue data (dataframe must contain Date and Revenue columns), and the name of the stock.\n"
   ]
  },
  {
   "cell_type": "code",
   "execution_count": 27,
   "metadata": {
    "tags": []
   },
   "outputs": [],
   "source": [
    "def make_graph(stock_data, revenue_data, stock):\n",
    "    fig = make_subplots(rows=2, cols=1, shared_xaxes=True, subplot_titles=(\"Historical Share Price\", \"Historical Revenue\"), vertical_spacing = .3)\n",
    "    stock_data_specific = stock_data[stock_data.Date <= '2021--06-14']\n",
    "    revenue_data_specific = revenue_data[revenue_data.Date <= '2021-04-30']\n",
    "    fig.add_trace(go.Scatter(x=pd.to_datetime(stock_data_specific.Date), y=stock_data_specific.Close.astype(\"float\"), name=\"Share Price\"), row=1, col=1)\n",
    "    fig.add_trace(go.Scatter(x=pd.to_datetime(revenue_data_specific.Date), y=revenue_data_specific.Revenue.astype(\"float\"), name=\"Revenue\"), row=2, col=1)\n",
    "    fig.update_xaxes(title_text=\"Date\", row=1, col=1)\n",
    "    fig.update_xaxes(title_text=\"Date\", row=2, col=1)\n",
    "    fig.update_yaxes(title_text=\"Price ($US)\", row=1, col=1)\n",
    "    fig.update_yaxes(title_text=\"Revenue ($US Millions)\", row=2, col=1)\n",
    "    fig.update_layout(showlegend=False,\n",
    "    height=900,\n",
    "    title=stock,\n",
    "    xaxis_rangeslider_visible=True)\n",
    "    fig.show()"
   ]
  },
  {
   "cell_type": "markdown",
   "metadata": {},
   "source": [
    "## Question 1: Use yfinance to Extract Stock Data\n"
   ]
  },
  {
   "cell_type": "markdown",
   "metadata": {},
   "source": [
    "Using the `Ticker` function enter the ticker symbol of the stock we want to extract data on to create a ticker object. The stock is Tesla and its ticker symbol is `TSLA`.\n"
   ]
  },
  {
   "cell_type": "code",
   "execution_count": 28,
   "metadata": {
    "tags": []
   },
   "outputs": [],
   "source": [
    "tesla=yf.Ticker(\"TSLA\")"
   ]
  },
  {
   "cell_type": "markdown",
   "metadata": {},
   "source": [
    "Using the ticker object and the function `history` extract stock information and save it in a dataframe named `tesla_data`. Set the `period` parameter to `max` so we get information for the maximum amount of time.\n"
   ]
  },
  {
   "cell_type": "code",
   "execution_count": 29,
   "metadata": {
    "tags": []
   },
   "outputs": [
    {
     "name": "stdout",
     "output_type": "stream",
     "text": [
      "TSLA: No data found for this date range, symbol may be delisted\n"
     ]
    }
   ],
   "source": [
    "tesla_data=tesla.history(period=\"max\")"
   ]
  },
  {
   "cell_type": "markdown",
   "metadata": {},
   "source": [
    "**Reset the index** using the `reset_index(inplace=True)` function on the tesla_data DataFrame and display the first five rows of the `tesla_data` dataframe using the `head` function. Take a screenshot of the results and code from the beginning of Question 1 to the results below.\n"
   ]
  },
  {
   "cell_type": "code",
   "execution_count": 30,
   "metadata": {
    "tags": []
   },
   "outputs": [
    {
     "data": {
      "text/html": [
       "<div>\n",
       "<style scoped>\n",
       "    .dataframe tbody tr th:only-of-type {\n",
       "        vertical-align: middle;\n",
       "    }\n",
       "\n",
       "    .dataframe tbody tr th {\n",
       "        vertical-align: top;\n",
       "    }\n",
       "\n",
       "    .dataframe thead th {\n",
       "        text-align: right;\n",
       "    }\n",
       "</style>\n",
       "<table border=\"1\" class=\"dataframe\">\n",
       "  <thead>\n",
       "    <tr style=\"text-align: right;\">\n",
       "      <th></th>\n",
       "      <th>Date</th>\n",
       "      <th>Open</th>\n",
       "      <th>High</th>\n",
       "      <th>Low</th>\n",
       "      <th>Close</th>\n",
       "      <th>Adj Close</th>\n",
       "      <th>Volume</th>\n",
       "    </tr>\n",
       "  </thead>\n",
       "  <tbody>\n",
       "  </tbody>\n",
       "</table>\n",
       "</div>"
      ],
      "text/plain": [
       "Empty DataFrame\n",
       "Columns: [Date, Open, High, Low, Close, Adj Close, Volume]\n",
       "Index: []"
      ]
     },
     "execution_count": 30,
     "metadata": {},
     "output_type": "execute_result"
    }
   ],
   "source": [
    "tesla_data.reset_index(inplace=True)\n",
    "tesla_data.head()"
   ]
  },
  {
   "cell_type": "markdown",
   "metadata": {},
   "source": [
    "## Question 2: Use Webscraping to Extract Tesla Revenue Data\n"
   ]
  },
  {
   "cell_type": "markdown",
   "metadata": {},
   "source": [
    "Use the `requests` library to download the webpage https://cf-courses-data.s3.us.cloud-object-storage.appdomain.cloud/IBMDeveloperSkillsNetwork-PY0220EN-SkillsNetwork/labs/project/revenue.htm Save the text of the response as a variable named `html_data`.\n"
   ]
  },
  {
   "cell_type": "code",
   "execution_count": 31,
   "metadata": {
    "tags": []
   },
   "outputs": [],
   "source": [
    "html_data=\"https://cf-courses-data.s3.us.cloud-object-storage.appdomain.cloud/IBMDeveloperSkillsNetwork-PY0220EN-SkillsNetwork/labs/project/revenue.htm\""
   ]
  },
  {
   "cell_type": "markdown",
   "metadata": {},
   "source": [
    "Parse the html data using `beautiful_soup`.\n"
   ]
  },
  {
   "cell_type": "code",
   "execution_count": 32,
   "metadata": {
    "tags": []
   },
   "outputs": [
    {
     "name": "stdout",
     "output_type": "stream",
     "text": [
      "\n",
      "<!DOCTYPE html>\n",
      "<!--[if lt IE 7]>      <html class=\"no-js lt-ie9 lt-ie8 lt-ie7\"> <![endif]-->\n",
      "<!--[if IE 7]>         <html class=\"no-js lt-ie9 lt-ie8\"> <![endif]-->\n",
      "<!--[if IE 8]>         <html class=\"no-js lt-ie9\"> <![endif]-->\n",
      "<!--[if gt IE 8]><!--> <html class=\"no-js\"> <!--<![endif]-->\n",
      "    <head>\n",
      "        <meta charset=\"utf-8\">\n",
      "        <meta http-equiv=\"X-UA-Compatible\" content=\"IE=edge,chrome=1\">\n",
      "\t\t<link rel=\"canonical\" href=\"https://www.macrotrends.net/stocks/charts/TSLA/tesla/revenue\" />\n",
      "\t\t<title>Tesla Revenue 2010-2022 | TSLA | MacroTrends</title>\n",
      "\t\t<meta name=\"description\" content=\"Tesla annual/quarterly revenue history and growth rate from 2010 to 2022. Revenue can be defined as the amount of money a company receives from its customers in exchange for the sales of goods or services.  Revenue is the top line item on an income statement from which all costs and expenses are subtracted to arrive at net income.    \n",
      "\t\t\t\t\n",
      "\t\t\t\t&lt;ul style='margin-top:10px;'&gt;\n",
      "\t\t\t\t&lt;li&gt;Tesla revenue for the quarter ending September 30, 2022 was &lt;strong&gt;$21.454B&lt;/strong&gt;, a &lt;strong&gt;55.95% increase&lt;/strong&gt; year-over-year.&lt;/li&gt;\n",
      "\t\t\t\t&lt;li&gt;Tesla revenue for the twelve months ending September 30, 2022 was &lt;strong&gt;$74.863B&lt;/strong&gt;, a &lt;strong&gt;59.8% increase&lt;/strong&gt; year-over-year.&lt;/li&gt;\n",
      "\t\t\t\t&lt;li&gt;Tesla annual revenue for 2021 was &lt;strong&gt;$53.823B&lt;/strong&gt;, a &lt;strong&gt;70.67% increase&lt;/strong&gt; from 2020.&lt;/li&gt;\n",
      "\t\t\t\t&lt;li&gt;Tesla annual revenue for 2020 was &lt;strong&gt;$31.536B&lt;/strong&gt;, a &lt;strong&gt;28.31% increase&lt;/strong&gt; from 2019.&lt;/li&gt;\n",
      "\t\t\t\t&lt;li&gt;Tesla annual revenue for 2019 was &lt;strong&gt;$24.578B&lt;/strong&gt;, a &lt;strong&gt;14.52% increase&lt;/strong&gt; from 2018.&lt;/li&gt;\n",
      "\t\t\t\t&lt;/ul&gt;\" />\n",
      "\t\t<meta name=\"robots\" content=\"\" />\n",
      "\t\t\t\t\n",
      "\t\t<link rel=\"shortcut icon\" href=\"/assets/images/icons/FAVICON/macro-trends_favicon.ico\" type=\"image/x-icon\">\n",
      "\n",
      "\t\t<meta name=\"msvalidate.01\" content=\"1228954C688F5907894001CD8E5E624B\" />\n",
      "\t\t<meta name=\"google-site-verification\" content=\"6MnD_3iDtAP1ZyoGK1YMyVIVck4r5Ws80I9xD3ue4_A\" />\n",
      "\n",
      "\t\t<!-- Load in Roboto Font -->\n",
      "\t\t<link rel='stylesheet' href='https://fonts.googleapis.com/css?family=Roboto:400,600,700'>\n",
      "\n",
      "\t\t<!-- Bootstrap -->\n",
      "\t\t<link rel=\"stylesheet\" href=\"//maxcdn.bootstrapcdn.com/bootstrap/3.3.7/css/bootstrap.min.css\"> <!--for Bootstrap CDN version-->\n",
      "\t\t<link rel=\"stylesheet\" href=\"//maxcdn.bootstrapcdn.com/bootstrap/3.3.7/css/bootstrap-theme.min.css\">\n",
      "\n",
      "\t\t<!-- Font Awesome -->\n",
      "\t\t<link rel=\"stylesheet\" href=\"//stackpath.bootstrapcdn.com/font-awesome/4.7.0/css/font-awesome.min.css\"> <!--for Font Awesome CDN version-->\n",
      "    \t\t\n",
      "\t\t<!-- Jquery, Bootstrap and Menu Javascript -->\t\n",
      "\t\t<script src=\"//code.jquery.com/jquery-1.12.4.min.js\" integrity=\"sha256-ZosEbRLbNQzLpnKIkEdrPv7lOy9C27hHQ+Xp8a4MxAQ=\" crossorigin=\"anonymous\"></script>\n",
      "\t\t<script src=\"//maxcdn.bootstrapcdn.com/bootstrap/3.3.7/js/bootstrap.min.js\"></script>\n",
      "\t\t\t\t\n",
      "\t\t<!-- Modernizr for cross-browser support -->\t\t\n",
      "\t\t<script type=\"text/javascript\" src=\"/assets/javascript/modernizr-2.6.2-respond-1.1.0.min.js\"></script>\n",
      "\n",
      "\t\t<!-- Latest compiled and minified CSS -->\n",
      "\t\t<link rel=\"stylesheet\" href=\"//www.fuelcdn.com/fuelux/3.13.0/css/fuelux.min.css\">\n",
      "\n",
      "\t\t<!-- Latest compiled and minified JavaScript -->\n",
      "\t\t<script src=\"//www.fuelcdn.com/fuelux/3.13.0/js/fuelux.min.js\"></script>\n",
      "\t\t\n",
      "\t\t\n",
      "\t\t <!-- Twitter Card data -->\n",
      "\t\t  <meta name=\"twitter:card\" content=\"summary_large_image\">\n",
      "\t\t  <meta name=\"twitter:site\" content=\"@tmacrotrends\">\n",
      "\t\t  <meta name=\"twitter:title\" content=\"Tesla Revenue 2010-2022 | TSLA\">\n",
      "\t\t  <meta name=\"twitter:description\" content=\"Tesla annual/quarterly revenue history and growth rate from 2010 to 2022. Revenue can be defined as the amount of money a company receives from its customers in exchange for the sales of goods or services.  Revenue is the top line item on an income statement from which all costs and expenses are subtracted to arrive at net income.    \n",
      "\t\t\t\t\n",
      "\t\t\t\t<ul style='margin-top:10px;'>\n",
      "\t\t\t\t<li>Tesla revenue for the quarter ending September 30, 2022 was <strong>$21.454B</strong>, a <strong>55.95% increase</strong> year-over-year.</li>\n",
      "\t\t\t\t<li>Tesla revenue for the twelve months ending September 30, 2022 was <strong>$74.863B</strong>, a <strong>59.8% increase</strong> year-over-year.</li>\n",
      "\t\t\t\t<li>Tesla annual revenue for 2021 was <strong>$53.823B</strong>, a <strong>70.67% increase</strong> from 2020.</li>\n",
      "\t\t\t\t<li>Tesla annual revenue for 2020 was <strong>$31.536B</strong>, a <strong>28.31% increase</strong> from 2019.</li>\n",
      "\t\t\t\t<li>Tesla annual revenue for 2019 was <strong>$24.578B</strong>, a <strong>14.52% increase</strong> from 2018.</li>\n",
      "\t\t\t\t</ul>\">\n",
      "\n",
      "\t\t  <!-- Open Graph data -->\n",
      "\t\t  <meta property=\"og:url\" content=\"https://www.macrotrends.net/stocks/charts/TSLA/tesla/revenue\" />  \n",
      "\t\t  <meta property=\"og:title\" content=\"Tesla Revenue 2010-2022 | TSLA\" />\n",
      "\t\t  <meta property=\"og:description\" content=\"Tesla annual/quarterly revenue history and growth rate from 2010 to 2022. Revenue can be defined as the amount of money a company receives from its customers in exchange for the sales of goods or services.  Revenue is the top line item on an income statement from which all costs and expenses are subtracted to arrive at net income.    \n",
      "\t\t\t\t\n",
      "\t\t\t\t<ul style='margin-top:10px;'>\n",
      "\t\t\t\t<li>Tesla revenue for the quarter ending September 30, 2022 was <strong>$21.454B</strong>, a <strong>55.95% increase</strong> year-over-year.</li>\n",
      "\t\t\t\t<li>Tesla revenue for the twelve months ending September 30, 2022 was <strong>$74.863B</strong>, a <strong>59.8% increase</strong> year-over-year.</li>\n",
      "\t\t\t\t<li>Tesla annual revenue for 2021 was <strong>$53.823B</strong>, a <strong>70.67% increase</strong> from 2020.</li>\n",
      "\t\t\t\t<li>Tesla annual revenue for 2020 was <strong>$31.536B</strong>, a <strong>28.31% increase</strong> from 2019.</li>\n",
      "\t\t\t\t<li>Tesla annual revenue for 2019 was <strong>$24.578B</strong>, a <strong>14.52% increase</strong> from 2018.</li>\n",
      "\t\t\t\t</ul>\" />\n",
      "\n",
      "\t\t<!-- JQXGRID STYLES AND JAVASCRIPT -->\n",
      "\t\t<link rel=\"stylesheet\" href=\"/assets/php/jqfiles/jqwidgets/styles/jqx.base.css\" type=\"text/css\" />\n",
      "\t\t<link rel=\"stylesheet\" href=\"/assets/php/jqfiles/jqwidgets/styles/jqx.bootstrap.css\" type=\"text/css\" />\n",
      "\n",
      "\t\t<!-- LOAD THESE SCRIPTS EARLY SO THE TICKER INPUT FIELD IS STYLED INSTANTLY -->\n",
      "\t\t<script type=\"text/javascript\" src=\"/assets/php/jqfiles/jqwidgets/jqxcore.js\"></script>\n",
      "\t\t<script type=\"text/javascript\" src=\"/assets/php/jqfiles/jqwidgets/jqxdata.js\"></script> \n",
      "\t\t<script type=\"text/javascript\" src=\"/assets/php/jqfiles/jqwidgets/jqxinput.js\"></script> \n",
      "\n",
      "\t\t<!-- Styling for search box -->\t\n",
      "\t\t<link rel=\"stylesheet\" type=\"text/css\" href=\"/assets/php/jquery-typeahead/jquery.typeahead_pages.css\">\n",
      "\n",
      "\t\t<!-- Search box javascript -->\n",
      "\t\t<script src=\"/assets/php/jquery-typeahead/jquery.typeahead.min.js\"></script>\n",
      "\t\t\n",
      "\n",
      "\t\t<link href=\"//cdnjs.cloudflare.com/ajax/libs/select2/4.0.3/css/select2.min.css\" rel=\"stylesheet\" />\n",
      "\t\t<script src=\"//cdnjs.cloudflare.com/ajax/libs/select2/4.0.3/js/select2.min.js\"></script>\n",
      "\t\n",
      "\t<!-- ToolTips -->\t\n",
      "\t\t<script src=\"/assets/php/tipped-4.6.1/js/tipped/tipped.js\"></script>\n",
      "\t\t<link rel=\"stylesheet\" href=\"/assets/php/tipped-4.6.1/css/tipped/tipped.css\">\n",
      "\t\t\n",
      "\t\t\t\n",
      "\t\t<!-- START IC AD INSERT -->\n",
      "\t\t\n",
      "    <script>InvestingChannelQueue = window.InvestingChannelQueue || [];</script>\n",
      "\n",
      "\t<script async src=\"https://u5.investingchannel.com/static/uat.js\"></script>\n",
      "\n",
      "    <script type=\"text/javascript\">\n",
      "    \n",
      "        //Push Run command with the API-Key, so that UAT will start processing publishers request.\n",
      "        InvestingChannelQueue.push(function() {\n",
      "            ic_page = InvestingChannel.UAT.Run(\"df17ac1e-cc7f-11e8-82a5-0abbb61c4a6a\");        \n",
      "        });\n",
      "\t\t\n",
      "\t\tvar tickerValue = 'TSLA';\t\t\t\n",
      "        var oopDivTag;\n",
      "\t\tvar subLeaderboardTag;\n",
      "\t\tvar rightSidebarTag1;\n",
      "\t\tvar rightSidebarTag2;\n",
      "\t\tvar searchButtonTag;\n",
      "\t\tvar partner_center_tag;\n",
      "\t\tvar videoTag;\n",
      "\t\tvar ic_3x7_1;\n",
      " \t\t//var IC_D_300x250_BCC;\n",
      "\t\t//var IC_D_3x7_BCC;\n",
      "   \n",
      "        //To define new tags/out of page tags.\n",
      "        InvestingChannelQueue.push(function() {\n",
      "\t\t\t\n",
      "\t\t\tic_page.setKval({'t': tickerValue});\n",
      "\t\t\t\n",
      "            //videoTag = ic_page.defineNativeTag(\"Macrotrends/fundamentalanalysis\",\"3x6, 728x90, Fluid\",\"IC_D_3x6\",35);\n",
      "\t\t\t\n",
      "            oopDivTag = ic_page.defineOutOfPageTag(\"Macrotrends/fundamentalanalysis\",\"oopDivTag_1\");\n",
      "\t\t\toopDivTag.setKval({\"adslot\":\"IC_OOP_1\"});\n",
      "            \n",
      "\t\t\t\n",
      "\t\t\tLeaderboardTag = ic_page.defineTag(\"Macrotrends/fundamentalanalysis\",\"970x250,728x90,970x90,fluid\", \"IC_D_970x250_1\");\n",
      "\t\t\tLeaderboardTag.setKval({\"adslot\":\"IC_D_970x250_1\"});\n",
      "\n",
      "\n",
      "\t\t\tsubLeaderboardTag = ic_page.defineTag(\"Macrotrends/fundamentalanalysis\",\"728x90\",\"ic_728x90_1\");\n",
      "\t\t\tsubLeaderboardTag.setKval({\"adslot\":\"IC_728x90_1\"});\n",
      "\t\t\t\n",
      "\t\t\t\n",
      "\t\t\trightSidebarTag1 = ic_page.defineTag(\"Macrotrends/fundamentalanalysis\",\"300x250,Fluid\",\"ic_300x250_1\");\n",
      "\t\t\trightSidebarTag1.setKval({\"adslot\":\"IC_300x250_1\"});\n",
      "\t\t\t\n",
      "\t\t\t\n",
      "\t\t\trightSidebarTag2 = ic_page.defineTag(\"Macrotrends/fundamentalanalysis\",\"300x600,300x250,160x600,300x1050,Fluid\",\"ic_300x600_1\");\n",
      "\t\t\trightSidebarTag2.setKval({\"adslot\":\"IC_300x600_1\"});\n",
      "\t\t\t\n",
      "\t\t\t\n",
      "\t\t\tsearchButtonTag = ic_page.defineTag(\"Macrotrends/fundamentalanalysis\",\"88x31\",\"ic_88x31_1\");\n",
      "\t\t\tsearchButtonTag.setKval({\"pc\":\"pc\",\"adslot\":\"IC_88x31\"});\n",
      "\t\t\t\n",
      "\t\t\tpartner_center_tag = ic_page.defineTag(\"macrotrends/fundamentalanalysis\",\"728x214, 728x90\",\"IC_728x214_1\");\n",
      "\t\t\tpartner_center_tag.setKval({\"pc\":\"pc\",\"adslot\":\"d_728x90_2\"});\n",
      "\n",
      "\t\t\tic_3x7_1 = ic_page.defineNativeTag(\"macrotrends/fundamentalanalysis\",\"3x7,728x90,Fluid\",\"IC_3x7_1\", 35);\n",
      "\t\t\t\n",
      "\t\t\t//IC_D_300x250_BCC = ic_page.defineTag(adCategory,\"300x250,Fluid\",\"IC_D_300x250_BCC\");\n",
      "\t\t\t//IC_D_300x250_BCC.setKval({\"adslot\":\"IC_D_300x250_BCC\"});\n",
      "\n",
      "\t\t\t//IC_D_3x7_BCC = ic_page.defineTag(adCategory,\"3x7, Fluid\",\"IC_D_3x7_BCC\");\n",
      "\t\t\t//IC_D_3x7_BCC.setKval({\"adslot\":\"IC_D_3x7_BCC\"});\n",
      "\t\t\t\n",
      "\n",
      "        });\n",
      "    \n",
      "        //To render tags.\n",
      "\t\t\tInvestingChannelQueue.push(function() {\n",
      "            ic_page.renderTags();\n",
      "        });\n",
      "        \n",
      "    </script>\n",
      "\n",
      "\t\t<!-- END IC AD INSERT -->\n",
      "\t\t\n",
      "\n",
      "\t\t<!-- Global site tag (gtag.js) - Google Analytics -->\n",
      "\t\t<script async src=\"https://www.googletagmanager.com/gtag/js?id=UA-62099500-1\"></script>\n",
      "\t\t<script>\n",
      "\t\t  window.dataLayer = window.dataLayer || [];\n",
      "\t\t  function gtag(){dataLayer.push(arguments);}\n",
      "\t\t  gtag('js', new Date());\n",
      "\n",
      "\t\t  gtag('config', 'UA-62099500-1');\n",
      "\t\t</script>\n",
      "\t\t\n",
      "\t\t<!-- Google tag (gtag.js) -->\n",
      "\t\t<script async src=\"https://www.googletagmanager.com/gtag/js?id=G-3KL0LYERBH\"></script>\n",
      "\t\t<script>\n",
      "\t\t  window.dataLayer = window.dataLayer || [];\n",
      "\t\t  function gtag(){dataLayer.push(arguments);}\n",
      "\t\t  gtag('js', new Date());\n",
      "\n",
      "\t\t  gtag('config', 'G-3KL0LYERBH');\n",
      "\t\t</script>\t\n",
      "\n",
      "\n",
      "\t\t<!--<script>\n",
      "\t\t\t(function(i,s,o,g,r,a,m){i['GoogleAnalyticsObject']=r;i[r]=i[r]||function(){\n",
      "\t\t\t(i[r].q=i[r].q||[]).push(arguments)},i[r].l=1*new Date();a=s.createElement(o),\n",
      "\t\t\tm=s.getElementsByTagName(o)[0];a.async=1;a.src=g;m.parentNode.insertBefore(a,m)\n",
      "\t\t\t})(window,document,'script','//www.google-analytics.com/analytics.js','ga');\n",
      "\n",
      "\t\t\tga('create', 'UA-62099500-1', 'auto');\n",
      "\t\t\tga('send', 'pageview');\n",
      "\t\t\t\n",
      "\t\t\t\n",
      "\t\t\t\n",
      "\t\t   \n",
      "\t\t\t//Send one event to GA at 30 seconds to control bounce rate\n",
      "\t\t\tsetTimeout(\"ga('send','event','Engaged User','30 Second Engagement')\",30000); \n",
      "\n",
      "\n",
      "\t\t  //This code sends events to ga every 30 seconds when the window is in focus\n",
      "\t\t\tvar count = 0;\n",
      "\t\t\tvar myInterval;\n",
      "\t\t\t\t\t\n",
      "\t\t\t// Active\n",
      "\t\t\twindow.addEventListener('load', startTimer);\n",
      "\t\t\twindow.addEventListener('focus', startTimer);\n",
      "\n",
      "\t\t\t// Inactive\n",
      "\t\t\twindow.addEventListener('blur', stopTimer);\n",
      "\n",
      "\t\t\tfunction timerHandler() {\n",
      "\t\t\t\tcount++;\n",
      "\t\t\t\t\n",
      "\t\t\t\tif(count % 60 == 0 && count <= 1800) {\n",
      "\t\t\t\t\t\n",
      "\t\t\t\t\tvar interval = (count/60);\n",
      "\t\t\t\t\tinterval = interval.toFixed(0);\n",
      "\t\t\t\t\t\n",
      "\t\t\t\t\tvar action = interval + \" Minute Engagement\";\n",
      "\t\t\t\t\t\n",
      "\t\t\t\t\tga('send','event','Engaged User',action);\n",
      "\n",
      "\t\t\t\t\t\n",
      "\t\t\t\t}\n",
      "\t\t\t\n",
      "\t\t\t}\n",
      "\n",
      "\t\t\t// Start timer\n",
      "\t\t\tfunction startTimer() {\n",
      "\t\t\tmyInterval = window.setInterval(timerHandler, 1000);\n",
      "\t\t\t}\n",
      "\n",
      "\t\t\t// Stop timer\n",
      "\t\t\tfunction stopTimer() {\n",
      "\t\t\twindow.clearInterval(myInterval);\n",
      "\t\t\t}\n",
      "\t\t\t\n",
      "\t\t\t\n",
      "\n",
      "\t\t</script>-->\n",
      "\t\t\n",
      "<style> \n",
      "\n",
      "#style-1::-webkit-scrollbar-track\n",
      "{\n",
      "\t-webkit-box-shadow: inset 0 0 6px rgba(0,0,0,0.3);\n",
      "\tborder-radius: 3px;\n",
      "\tbackground-color: #F5F5F5;\n",
      "}\n",
      "\n",
      "#style-1::-webkit-scrollbar\n",
      "{\n",
      "\twidth: 18px;\n",
      "\tbackground-color: #F5F5F5;\n",
      "}\n",
      "\n",
      "#style-1::-webkit-scrollbar-thumb\n",
      "{\n",
      "\tborder-radius: 3px;\n",
      "\t-webkit-box-shadow: inset 0 0 6px rgba(0,0,0,.3);\n",
      "\tbackground-color: #5B9BD5;\n",
      "}\n",
      "\n",
      "html {\n",
      "\twidth:100%;\n",
      "\tposition: relative;\n",
      "\tmin-height: 100%;\n",
      "}\n",
      "\n",
      "body {\n",
      "\t\n",
      "\twidth:100%;\n",
      "\n",
      "\t/* Margin bottom by footer height */\n",
      "\t  margin-bottom: 80px;\n",
      "\t  color: #444;\n",
      "\t  background-color:#fff;\n",
      "\t  font-family: 'Roboto', sans-serif;\n",
      "\t  font-size:14px;\n",
      "}\n",
      "\n",
      "\n",
      "\n",
      "\n",
      "\n",
      ".header_content_container {\n",
      "\t\n",
      "\tmin-width: 1280px;\n",
      "\tpadding: 0px;\n",
      "}\n",
      "\n",
      ".main_content_container {\n",
      "\t\n",
      "\tmin-width: 1280px;\n",
      "\tmax-width: 1280px;\n",
      "\tpadding: 0px 30px 100px 30px;\n",
      "\t\n",
      "}\n",
      "\n",
      ".sub_main_content_container {\n",
      "\t\n",
      "\t\n",
      "}\n",
      "\n",
      "\n",
      "\n",
      "#main_content {\n",
      "\t\n",
      "\tpadding:0px 20px 0px 0px;\n",
      "\twidth:826px;\n",
      "    float:left;\n",
      "\t\n",
      "}\n",
      "\n",
      "#right_sidebar {\n",
      "\t\n",
      "  width: 300px;\n",
      "  float:left;\n",
      "  height:3200px;\n",
      "\t\n",
      "}\n",
      "\n",
      "#sticky_ad_left {\n",
      "\t\n",
      "  position: -webkit-sticky;\n",
      "  position: sticky;\n",
      "  top: 30px;\n",
      "\t\n",
      "\t\n",
      "}\n",
      "\n",
      "#sticky_ad_right {\n",
      "\t\n",
      "  position: -webkit-sticky;\n",
      "  position: sticky;\n",
      "  top: 30px;\n",
      "\t\n",
      "\t\n",
      "}\n",
      "\n",
      "\n",
      "\n",
      "\n",
      "\n",
      ".footer {\n",
      "  position: absolute;\n",
      "  bottom: 0;\n",
      "  width: 100%;\n",
      "  /* Set the fixed height of the footer here */\n",
      "  height: 100px;\n",
      "  margin-top: 10px;\t\n",
      "  padding: 30px 20px 20px 20px;\n",
      "  color:#fff !important;\n",
      "  background-color:#444;\n",
      "  text-align: center;\n",
      "  font-size:16px;\n",
      "}\n",
      "\n",
      ".footer a {\n",
      "  color:#fff !important;\n",
      "}\n",
      "\n",
      ".ticker_search_box {\n",
      "\t\n",
      "\tbackground-color:#F5F5F5;\n",
      "\tborder: 1px solid #E0E0E0;\n",
      "\tborder-bottom:none;\n",
      "\tpadding:10px 30px 10px 10px;\n",
      "\tmargin:0px 0px 0px 0px;\n",
      "\ttext-align:center;\n",
      "\t\n",
      "}\n",
      "\n",
      ".related_tickers {\n",
      "\t\n",
      "\twidth:100%;\n",
      "\tbackground-color:#F5F5F5;\n",
      "\tborder: 1px solid #E0E0E0;\n",
      "\tborder-top: 0px;\n",
      "\tpadding:3px 30px 3px 10px;\n",
      "\tmargin:0px 0px 0px 0px;\n",
      "\ttext-align:center;\n",
      "\t\n",
      "}\n",
      "\n",
      ".statement_type_select {\n",
      "\n",
      "\twidth:100%;\n",
      "\theight:28px;\n",
      "\t\n",
      "}\n",
      "\n",
      ".frequency_select {\n",
      "\n",
      "\twidth:100%;\n",
      "\theight:28px;\n",
      "\tfont-weight:600;\n",
      "\t\n",
      "}\n",
      "\n",
      "\n",
      ".select2 {\n",
      "\t\n",
      "\ttext-align:left;\n",
      "\tfont-weight:600;\n",
      "\t\n",
      "\t}\n",
      "\t\n",
      "#jqxInput {\n",
      "\n",
      "\t\twidth:100%;\n",
      "\t\theight:28px;\n",
      "\t\t\n",
      "}\n",
      "\n",
      "\n",
      "\n",
      ".header__parent_container {\n",
      "\n",
      "\twidth:100%;\n",
      "\theight:50px;\n",
      "\tpadding:15px 0px 10px -20px; \n",
      "\tmargin:0px 0px 0px 0px;\n",
      "\tbackground-color:#444;\n",
      "\n",
      "}\n",
      "\n",
      ".header_container {\n",
      "\n",
      "\twidth:100%;\n",
      "\theight:50px;\n",
      "\tpadding:15px 0px 10px -20px; \n",
      "\tmargin:0px 0px 0px 0px;\n",
      "\tbackground-color:#444;\n",
      "\n",
      "}\n",
      "\n",
      ".header_logo {\n",
      "\t\n",
      "\tpadding-top:10px;\n",
      "\tmargin-left:50px;\n",
      "\t\n",
      "}\n",
      "\n",
      ".menu_parent_container {\n",
      "\t\n",
      "\twidth:100%;\n",
      "\theight:34px;\n",
      "\tfont-size:16px;\n",
      "\tpadding:15px 0px 10px -20px; \n",
      "\tmargin:0px 0px 0px 0px;\n",
      "\tbackground-color:#0089de;\n",
      "}\n",
      "\n",
      ".menu_container {\n",
      "\t\n",
      "\twidth:1280px;\n",
      "\theight:34px;\n",
      "\tfont-size:16px;\n",
      "\tpadding:11px 0px 0px -20px; \n",
      "\tmargin: 0 auto;\n",
      "\tbackground-color:#0089de;\n",
      "\tz-index:1000;\n",
      "}\n",
      "\n",
      ".menu_item {\n",
      "\n",
      "\theight:34px;\n",
      "\tfloat:left;\n",
      "\tfont-size:14px;\n",
      "\tfont-weight:bold;\n",
      "\tcolor:#fff;\n",
      "\ttext-align:center;\n",
      "\tpadding:7px 16px 0px 16px;\t\n",
      "\n",
      "}\n",
      "\n",
      ".menu_item:hover\n",
      "{\n",
      "\tbackground-color:#32a0e4;\n",
      "\tcursor: pointer;\n",
      "}\n",
      "\n",
      ".menu_item a\n",
      "{\n",
      "\tcolor:#fff;\n",
      "\tcursor: pointer;\n",
      "}\n",
      "\n",
      ".menu_item a:hover\n",
      "{\n",
      "\ttext-decoration:none;\n",
      "\tcursor: pointer;\n",
      "}\n",
      "\n",
      ".leaderboard_ad {\n",
      "\n",
      "\tmargin-top:20px;\n",
      "\tmargin-bottom:20px;\n",
      "\ttext-align:center;\n",
      "\tmin-height:100px;\n",
      "\n",
      "}\n",
      "\n",
      "#filter_result_count {\n",
      "\t\n",
      "\twidth:100%;\n",
      "\ttext-align:center;\n",
      "\tfont-size:24px;\n",
      "\tfont-weight:bold;\n",
      "\tpadding:10px 15px;\n",
      "\tbackground-color:#efefef;\n",
      "\tborder: 1px solid #dfdfdf;\n",
      "\tmargin:20px;\n",
      "\t\n",
      "}\n",
      "\n",
      "\n",
      "select {\n",
      "  color: #444;\n",
      "  background-color: #FFF;\n",
      "  border: 1px solid #AAA;\n",
      "  border-radius: 4px;\n",
      "  box-sizing: border-box;\n",
      "  cursor: pointer;\n",
      "  display: block;\n",
      "  height:40px;\n",
      "  line-height: 40px;\n",
      "}\n",
      "\n",
      ".historical_data_table  {\n",
      "    table-layout: fixed;\n",
      "\tmargin:20px;\n",
      "}\n",
      "\n",
      ".historical_data_table tbody tr td {\n",
      "\t\n",
      "\tpadding:6px;\n",
      "\tvertical-align: middle !important;\n",
      "\n",
      "}\n",
      "\n",
      "\n",
      ".descriptors {\n",
      "\t\n",
      "\ttext-align:center;\n",
      "\tfont-size:14px;\n",
      "\tpadding:15px;\n",
      "\t\n",
      "}\n",
      "\n",
      ".td_metric_name {\n",
      "\t\n",
      "\twidth:110px;\n",
      "\tpadding-top:17px;\n",
      "\t\n",
      "}\n",
      "\n",
      ".metric_link {\n",
      "\t\n",
      "\tfont-size:14px;\n",
      "\tfont-weight:bold;\n",
      "\n",
      "}\n",
      "\n",
      ".help_icon {\n",
      "\t\n",
      "\twidth:15px;\n",
      "\theight:18px; \n",
      "\tpadding-bottom:3px;\n",
      "\t\n",
      "}\n",
      "\n",
      ".td_min_value {\n",
      "\t\n",
      "\twidth:75px;\n",
      "\ttext-align:center;\n",
      "\tfont-size:13px;\n",
      "\t\n",
      "}\n",
      "\n",
      ".td_max_value {\n",
      "\t\n",
      "\twidth:75px;\n",
      "\ttext-align:center;\n",
      "\tfont-size:13px;\n",
      "\t\n",
      "}\n",
      "\n",
      "#myCombobox .form-control {\n",
      "\t\n",
      "\tbackground-color: #99d5ff;\n",
      "\n",
      "\t\n",
      "}\n",
      "\n",
      ".dropdown-toggle {\n",
      "\t\n",
      "\theight:24px;\n",
      "\tpadding-top:0px;\n",
      "\tpadding-left:7px;\n",
      "\twidth:24px;\n",
      "\t\n",
      "}\n",
      "\n",
      ".dropdown-menu-right {\n",
      "\t\n",
      "\tmin-width:75px;\n",
      "\tfont-size:13px;\n",
      "\t\n",
      "}\n",
      "\n",
      ".form-control {\n",
      "\t\n",
      "\tfont-size:12px;\t\n",
      "\tpadding:5px 10px;\n",
      "\theight:24px;\n",
      "\n",
      "\t\n",
      "}\n",
      "\n",
      "#myPills1 {\n",
      "\t\n",
      "\tmargin:0px 15px 10px 0px;\n",
      "\t\n",
      "}\n",
      "\n",
      "#jqxgrid {\n",
      "\t\n",
      "\tborder-radius:0px;\n",
      "\t\n",
      "}\n",
      "\n",
      ".jqx-widget-header {\n",
      "\t\n",
      "    font-family: 'Roboto', sans-serif;\n",
      "\tfont-size:13px;\t\n",
      "\t\n",
      "}\n",
      "\n",
      ".jqx-item {\n",
      "\t\n",
      "    font-family: 'Roboto', sans-serif;\n",
      "\tfont-size: 13px;\n",
      "\t\n",
      "}\n",
      "\n",
      ".jqx-widget-content {\n",
      "\t\n",
      "\tborder-color: #E0E0E0;\n",
      "\t\n",
      "}\n",
      "\n",
      "#jqxgrid .jqx-grid-cell {\n",
      "\t\n",
      "\tborder-color: #E0E0E0;\n",
      "\t\n",
      "}\n",
      "\n",
      "#jqxgrid .jqx-grid-cell-pinned {\n",
      "\t\n",
      "\tborder-color: #E0E0E0;\n",
      "\tbackground-color: #F5F5F5;\n",
      "\t\n",
      "}\n",
      "\n",
      "#jqxgrid .jqx-grid-column-header {\n",
      "\t\n",
      "\tborder-color: #E0E0E0;\n",
      "\tbackground-color: #F5F5F5;\n",
      "\t\n",
      "}\n",
      "\n",
      ".clear_zero {\n",
      "\n",
      "\theight:0px;\n",
      "\n",
      "}\n",
      "\n",
      "\n",
      "\n",
      "/* Styles for Popup Charts */\n",
      "\n",
      ".tpd-size-large {\n",
      "\t\n",
      "\tmargin:0px;\t\n",
      "\tpadding: 0px;\n",
      "}\n",
      "\n",
      ".popup_window_wrapper {\n",
      "\t\n",
      "\tmargin:15px;\n",
      "\t\n",
      "}\n",
      "\n",
      ".popup_stock_name {\n",
      "\n",
      "\tfont-size:16px;\n",
      "\tfont-weight:bold;\n",
      "\tmargin:5px;\n",
      "\n",
      "}\n",
      "\n",
      ".popup_stock_attributes {\n",
      "\n",
      "\tfont-size:13px;\n",
      "\tfont-weight:bold;\n",
      "\tmargin:5px;\n",
      "\n",
      "}\n",
      "\n",
      ".popup_stock_description {\n",
      "\n",
      "\tfont-size:12px;\n",
      "\tmargin:5px;\n",
      "\n",
      "}\n",
      "\n",
      ".jqx-input {\n",
      "\t\n",
      "\tfont-size:14px;\n",
      "\t\n",
      "} \n",
      "\n",
      ".jqx-menu-item {\n",
      "\t\n",
      "\tfont-size:14px;\n",
      "\t\n",
      "}\n",
      "\n",
      ".jqx-input {\n",
      "\t\n",
      "\tpadding:5px 10px;\n",
      "\t\n",
      "}\n",
      "\n",
      ".nav-tabs {\n",
      "    border: 1px solid #E0E0E0;\n",
      "\tbackground-color:#F5F5F5;\n",
      "\tpadding: 3px 5px 0px 5px;\n",
      "\tmargin: 0px 0px 10px 0px;\n",
      "}\n",
      "\n",
      ".nav-tabs>li>a {\n",
      "\tfont-size:13px;\n",
      "\tpadding:7px 11px;\n",
      "\tfont-weight:600;\n",
      "    margin-right: 0px;\n",
      "    line-height: 1.42857143;\n",
      "    border: 0px;\n",
      "    border-radius: 0px 0px 0 0;\n",
      "\tbackground-color:#F5F5F5;\n",
      "\n",
      "}\n",
      "\n",
      ".nav-tabs>li>a .active {\n",
      "    margin-right: 0px;\n",
      "    line-height: 1.42857143;\n",
      "    border: 1px solid #E0E0E0;\n",
      "    border-radius: 0px 0px 0 0;\n",
      "\tbackground-color:#F5F5F5;\n",
      "\n",
      "}\n",
      "\n",
      ".nav-tabs>li>a:hover { \n",
      "    background-color: #F5F5F5;\n",
      "\ttext-decoration: underline;\n",
      "\n",
      "}\n",
      "\n",
      ".donate_buttons {\n",
      "\n",
      "\tmargin-left:20px;\n",
      "\t\n",
      "\t}\n",
      "\n",
      ".modal-body {\n",
      "\n",
      "\tmargin:10px 40px 20px 40px;\n",
      "\ttext-align:left;\n",
      "\tfont-size:18px;\n",
      "\n",
      "}\n",
      "\n",
      ".modal-body li {\n",
      "\n",
      "\tmargin-top:20px;\n",
      "\tfont-size:14px;\n",
      "\n",
      "}\n",
      "\n",
      "\n",
      ".modal_title {\n",
      "\n",
      "\n",
      "\ttext-align:center;\n",
      "\tmargin-bottom:30px;\n",
      "\n",
      "}\n",
      "\n",
      ".modal-body th{\n",
      "\n",
      "\tmargin-left:10px;\n",
      "\tfont-size:14px;\n",
      "}\n",
      "\n",
      ".modal-body td {\n",
      "\n",
      "\tcolor: #337ab7;\n",
      "\tmargin-left:10px;\n",
      "\tfont-size:14px;\n",
      "}\n",
      "\n",
      ".modal_button {\n",
      "\n",
      "\tmargin-top:50px;\n",
      "\ttext-align:center;\n",
      "\tfont-size:16px;\n",
      "\n",
      "}\t\n",
      "\n",
      "\n",
      "</style>\t\n",
      "\n",
      "\n",
      "</head>\n",
      "\t<body class=\"fuelux\">\n",
      "        <!--[if lt IE 7]>\n",
      "            <p class=\"browsehappy\">You are using an <strong>outdated</strong> browser. Please <a href=\"https://browsehappy.com/\">upgrade your browser</a> to improve your experience.</p>\n",
      "        <![endif]-->\n",
      "\n",
      "<div class=\"header_content_container container-fluid\">\n",
      "\n",
      "\n",
      "<div class=\"header_parent_container\">\n",
      "\n",
      "<div class=\"header_container\">\n",
      "\n",
      "\t<div class=\"header_logo col-xs-2\">\n",
      "\t\t<a class=\"logo\" href=\"https://www.macrotrends.net\" title=\"MacroTrends Home Page\"><img src=\"/assets/images/logo_bright1.png\"/></a>\n",
      "\t</div>\n",
      "\n",
      "\n",
      "\t  <div class=\"col-xs-1 pull-right\" style=\"padding-top:8px; margin-right:10px; margin-left:0px; padding-left:0px;\">\n",
      "\t  \t \t\t\t\t\t\n",
      "\t\t<div id=\"ic_88x31_1\">\n",
      "\n",
      "\t\t\t\t\t\n",
      "\t\t</div> \n",
      "\t  \n",
      "\t  </div>\n",
      "\t  \n",
      "\n",
      "\t  <div class=\"col-xs-5 pull-right\" style=\"padding-top:8px;\">\n",
      "       <form>\n",
      "        <div class=\"typeahead__container\">\n",
      "            <div class=\"typeahead__field\">\n",
      "\n",
      "            <span class=\"typeahead__query\">\n",
      "                <input class=\"js-typeahead\"\n",
      "                       name=\"q\"\n",
      "                       type=\"search\"\n",
      "\t\t\t\t\t   placeholder=\"Search over 200,000 charts...\"\n",
      "                       autofocus\n",
      "                       autocomplete=\"off\">\n",
      "            </span>\n",
      "            <span class=\"typeahead__button\">\n",
      "                <button type=\"submit\">\n",
      "                    <span class=\"typeahead__search-icon\"></span>\n",
      "                </button>\n",
      "            </span>\n",
      "\n",
      "            </div>\n",
      "        </div>\n",
      "    </form>\n",
      "\t\t\n",
      "\t  </div>\n",
      "\t  \n",
      "\t  </div>\n",
      "\n",
      "\n",
      "\n",
      "</div>\n",
      "\n",
      "<div class=\"menu_parent_container\">\n",
      "\n",
      "<div class=\"menu_container\">\n",
      "\t\t\n",
      "\t<a href=\"/stocks/stock-screener\"><div class=\"menu_item\">Stock Screener</div></a>\n",
      "\t<a href=\"/stocks/research\"><div class=\"menu_item\">Stock Research</div></a>\n",
      "\t<a href=\"/charts/stock-indexes\"><div class=\"menu_item\">Market Indexes</div></a>\n",
      "\t<a href=\"/charts/precious-metals\"><div class=\"menu_item\">Precious Metals</div></a>\n",
      "\t<a href=\"/charts/energy\"><div class=\"menu_item\">Energy</div></a>\n",
      "\t<a href=\"/charts/commodities\"><div class=\"menu_item\">Commodities</div></a>\n",
      "\t<a href=\"/charts/exchange-rates\"><div class=\"menu_item\">Exchange Rates</div></a>\n",
      "\t<a href=\"/charts/interest-rates\"><div class=\"menu_item\">Interest Rates</div></a>\n",
      "\t<a href=\"/charts/economy\"><div class=\"menu_item\">Economy</div></a>\n",
      "\t<a href=\"/countries/topic-overview\"><div class=\"menu_item\">Global Metrics</div></a>\n",
      "\n",
      "\t\t\n",
      "</div>\n",
      "\n",
      "</div>\n",
      "\n",
      "</div>\n",
      "\n",
      "<div id=\"main_content_container\" class=\"main_content_container container-fluid\">\n",
      "\n",
      "\n",
      "\t<div id=\"ic_leaderboard\" class=\"adx_top_ad col-xs-12\" style=\"margin: 20px 20px 30px 20px; min-height:265px; text-align:center;\">\n",
      "\t\n",
      "\t\t<div id=\"IC_D_970x250_1\"></div>\n",
      "\n",
      "\t\t<!--Smartad # 4058: Macrotrends - 970x250 Image - Placement 2-->\n",
      "\t\t<!--<iframe id=\"dianomi_leaderboard\" WIDTH=\"970\" HEIGHT=\"250\" SCROLLING=\"NO\" src=\"//www.dianomi.com/smartads.epl?id=4058\"  style=\"height: 250px; border: none; overflow: hidden;\"></iframe>-->\n",
      "\t\t\t\t \t\t\n",
      "\t</div>\n",
      "\t\t\t\n",
      "\t\t\t<div style=\"margin:20px 20px 20px 5px;\">\n",
      "\t\t\t\n",
      "\t\t\t\t<h2 style=\"margin-left:0px; font-weight:600; color:#444;\">Tesla Revenue 2010-2022 | TSLA</h2>\n",
      "\t\t\t\n",
      "\t\t\t</div>\n",
      "\t\t\t\n",
      "\t\t\t\n",
      "\t<div class=\"sub_main_content_container\">\n",
      "\t\t\n",
      "\n",
      "\n",
      "\t\t\n",
      "\n",
      "\t\t\t<div id=\"main_content\">\n",
      "\t\t\t\n",
      "\t\t\t\n",
      "\t\t\t\n",
      "<div class=\"navigation_tabs\" style=\"margin-bottom:20px;\">\n",
      "\t\t\t\n",
      "\t<ul class=\"nav nav-tabs\" id=\"myTabs\" style=\"font-size:15px;\">\n",
      "\n",
      "\t\t\n",
      "\t\t\t\n",
      "\t\t\t\n",
      "\t\t\t\t<li><a href=\"https://www.macrotrends.net/stocks/charts/TSLA/tesla/stock-price-history\">Prices</a></li>\n",
      "\n",
      "\t\t\t\n",
      "\t\t\n",
      "\t\t\t\n",
      "\t\t\t\n",
      "\t\t\t\t<li><a href=\"https://www.macrotrends.net/stocks/charts/TSLA/tesla/financial-statements\">Financials</a></li>\n",
      "\n",
      "\t\t\t\n",
      "\t\t\n",
      "\t\t\t\n",
      "\t\t\t\n",
      "\t\t\t\t<li class=\"active\"><a href=\"https://www.macrotrends.net/stocks/charts/TSLA/tesla/revenue\">Revenue & Profit</a></li>\n",
      "\n",
      "\t\t\t\n",
      "\t\t\n",
      "\t\t\t\n",
      "\t\t\t\n",
      "\t\t\t\t<li><a href=\"https://www.macrotrends.net/stocks/charts/TSLA/tesla/total-assets\">Assets & Liabilities</a></li>\n",
      "\n",
      "\t\t\t\n",
      "\t\t\n",
      "\t\t\t\n",
      "\t\t\t\n",
      "\t\t\t\t<li><a href=\"https://www.macrotrends.net/stocks/charts/TSLA/tesla/profit-margins\">Margins</a></li>\n",
      "\n",
      "\t\t\t\n",
      "\t\t\n",
      "\t\t\t\n",
      "\t\t\t\n",
      "\t\t\t\t<li><a href=\"https://www.macrotrends.net/stocks/charts/TSLA/tesla/pe-ratio\">Price Ratios</a></li>\n",
      "\n",
      "\t\t\t\n",
      "\t\t\n",
      "\t\t\t\n",
      "\t\t\t\n",
      "\t\t\t\t<li><a href=\"https://www.macrotrends.net/stocks/charts/TSLA/tesla/current-ratio\">Other Ratios</a></li>\n",
      "\n",
      "\t\t\t\n",
      "\t\t\n",
      "\t\t\t\n",
      "\t\t\t\n",
      "\t\t\t\t<li><a href=\"https://www.macrotrends.net/stocks/charts/TSLA/tesla/dividend-yield-history\">Other Metrics</a></li>\n",
      "\n",
      "\t\t\t\n",
      "\t\t\n",
      "\t</ul>\n",
      "\n",
      "\n",
      "\t<ul class=\"nav nav-tabs\" id=\"myTabs\" style=\"font-size:15px;\">\n",
      "\n",
      "\t\t\n",
      "\t\t\t\n",
      "\t\t\t\n",
      "\t\t\t\t<li class=\"active\"><a href=\"https://www.macrotrends.net/stocks/charts/TSLA/tesla/revenue\">Revenue</a></li>\n",
      "\n",
      "\n",
      "\t\t\t\t\t\t\n",
      "\t\t\n",
      "\t\t\t\n",
      "\t\t\t\t\t\t\n",
      "\t\t\t\t<li><a href=\"https://www.macrotrends.net/stocks/charts/TSLA/tesla/gross-profit\">Gross Profit</a></li>\t\t\t\n",
      "\n",
      "\t\t\t\t\t\t\n",
      "\t\t\n",
      "\t\t\t\n",
      "\t\t\t\t\t\t\n",
      "\t\t\t\t<li><a href=\"https://www.macrotrends.net/stocks/charts/TSLA/tesla/operating-income\">Operating Income</a></li>\t\t\t\n",
      "\n",
      "\t\t\t\t\t\t\n",
      "\t\t\n",
      "\t\t\t\n",
      "\t\t\t\t\t\t\n",
      "\t\t\t\t<li><a href=\"https://www.macrotrends.net/stocks/charts/TSLA/tesla/ebitda\">EBITDA</a></li>\t\t\t\n",
      "\n",
      "\t\t\t\t\t\t\n",
      "\t\t\n",
      "\t\t\t\n",
      "\t\t\t\t\t\t\n",
      "\t\t\t\t<li><a href=\"https://www.macrotrends.net/stocks/charts/TSLA/tesla/net-income\">Net Income</a></li>\t\t\t\n",
      "\n",
      "\t\t\t\t\t\t\n",
      "\t\t\n",
      "\t\t\t\n",
      "\t\t\t\t\t\t\n",
      "\t\t\t\t<li><a href=\"https://www.macrotrends.net/stocks/charts/TSLA/tesla/eps-earnings-per-share-diluted\">EPS</a></li>\t\t\t\n",
      "\n",
      "\t\t\t\t\t\t\n",
      "\t\t\n",
      "\t\t\t\n",
      "\t\t\t\t\t\t\n",
      "\t\t\t\t<li><a href=\"https://www.macrotrends.net/stocks/charts/TSLA/tesla/shares-outstanding\">Shares Outstanding</a></li>\t\t\t\n",
      "\n",
      "\t\t\t\t\t\t\n",
      "\t\t\n",
      "\n",
      "\t</ul>\n",
      "\t\n",
      "\t\t\t\n",
      "</div>\n",
      "\n",
      "\n",
      "\n",
      "\n",
      "\t\t\t\n",
      "\n",
      "\t\t\n",
      "\n",
      "\t\t\t<div style=\"background-color:#fff; margin: 0px 0px 20px 0px; padding:20px 30px; border:1px solid #dfdfdf;\">\n",
      "\t\t\t\n",
      "\t\t\t\t<span style=\"color:#444; line-height: 1.8;\">Tesla annual/quarterly revenue history and growth rate from 2010 to 2022. Revenue can be defined as the amount of money a company receives from its customers in exchange for the sales of goods or services.  Revenue is the top line item on an income statement from which all costs and expenses are subtracted to arrive at net income.    \n",
      "\t\t\t\t\n",
      "\t\t\t\t<ul style='margin-top:10px;'>\n",
      "\t\t\t\t<li>Tesla revenue for the quarter ending September 30, 2022 was <strong>$21.454B</strong>, a <strong>55.95% increase</strong> year-over-year.</li>\n",
      "\t\t\t\t<li>Tesla revenue for the twelve months ending September 30, 2022 was <strong>$74.863B</strong>, a <strong>59.8% increase</strong> year-over-year.</li>\n",
      "\t\t\t\t<li>Tesla annual revenue for 2021 was <strong>$53.823B</strong>, a <strong>70.67% increase</strong> from 2020.</li>\n",
      "\t\t\t\t<li>Tesla annual revenue for 2020 was <strong>$31.536B</strong>, a <strong>28.31% increase</strong> from 2019.</li>\n",
      "\t\t\t\t<li>Tesla annual revenue for 2019 was <strong>$24.578B</strong>, a <strong>14.52% increase</strong> from 2018.</li>\n",
      "\t\t\t\t</ul></span>\n",
      "\t\t\t\n",
      "\t\t\t</div>\n",
      "\n",
      "\t\t\n",
      "\t\t\t\n",
      "\t\t\t<div style=\"background-color:#fff; margin: 30px 0px 30px 0px; text-align:center; min-height:90px;\">\n",
      "\n",
      "\n",
      "\t\t\t\t<div id=\"ic_728x90_1\" style=\"margin:10px 20px;\">\n",
      "\n",
      "\n",
      "\t\t\t\t</div>\n",
      "\t\t\t\n",
      "\t\t\t</div>\t\t\n",
      "\t\t\t\n",
      "\t\t\t\n",
      "\n",
      "\t\t\t<div class=\"ticker_search_box\" style=\"text-align:center;\">\t\t\t\n",
      "\n",
      "\t\t<div style=\"width:400px; margin-left:20px; border-bottom:none;\">\n",
      "\t\t\n",
      "\t\t\n",
      "\n",
      "\t\t\n",
      "        <script type=\"text/javascript\">\n",
      "            $(document).ready(function () {\n",
      "\t\t\t\t                \n",
      "\t\t\t\t\tvar url = \"https://www.macrotrends.net/assets/php/ticker_search_list.php\";\n",
      "\t\t\t\t\n",
      "                // prepare the data\n",
      "                var source =\n",
      "                {\n",
      "                    datatype: \"json\",\n",
      "                    datafields: [\n",
      "                        { name: 'n' },\n",
      "\t\t\t\t\t\t{ name: 's'}\n",
      "                    ],\n",
      "                    url: url\n",
      "                };\n",
      "                var dataAdapter = new $.jqx.dataAdapter(source);\n",
      "                // Create a jqxInput\n",
      "                $(\"#jqxInput\").jqxInput({ source: dataAdapter, minLength: 1, placeHolder: \"Search for ticker or company name...\", items: 20, searchMode: 'containsignorecase', displayMember: \"n\", valueMember: \"s\", width: '100%', height: 22, theme: 'bootstrap'});\n",
      "                $(\"#jqxInput\").on('select', function (event) {\n",
      "                    if (event.args) {\n",
      "                        var item = event.args.item;\n",
      "\t\t\t\t\t\t\n",
      "\t\t\t\t\t\t//Have to split the ticker and slug back out since jqxinput only seems to allow one data value\n",
      "\t\t\t\t\t\tvar itemArray = item.value.split(\"\\/\"); \n",
      "\t\t\t\t\t\tvar ticker = itemArray[0];\n",
      "\t\t\t\t\t\tvar slug = itemArray[1];\n",
      "                        if (item) {\n",
      "\t\t\t\t\t\t\t\n",
      "\t\t\t\t\t\t\t\t\t\t\t\t\t\t\n",
      "\t\t\t\t\t\t\t\twindow.location = \"https://www.macrotrends.net/stocks/charts/\" + ticker + \"/\" + slug + \"/revenue\";\n",
      "\t\t\t\t\t\t\t\n",
      "\t\t\t\t\t\t\t                        }\n",
      "                    }\n",
      "                });\n",
      "            });\n",
      "        </script>\n",
      "        <input id=\"jqxInput\" autocomplete=\"off\"/>\n",
      "\n",
      "\t\t</div>\n",
      "\t\t\t\t\n",
      "\t\t<div style=\"width:280px; margin-top: -32px; margin-left:80px; border-bottom:none; float:right;\">\n",
      "\t\t\n",
      "\t\t\n",
      "<button id=\"compareStocks\" style=\"margin-right:15px;\" class=\"chart_buttons btn btn-success btn-sm\"><span class=\"glyphicon glyphicon-stats\"></span>&nbsp;&nbsp;<strong>Compare TSLA With Other Stocks</strong></button>&nbsp;&nbsp;\n",
      "\n",
      "</div>\t\n",
      "\t\t\n",
      "\t\t</div>\n",
      "\t\t\n",
      "\t\t<div style=\"height:690px; background-color:#fff; border:1px solid #dfdfdf;\">\n",
      "\t\t\n",
      "<iframe id=\"chart_iframe\" title=\"Interactive chart: Tesla Revenue 2010-2022 | TSLA\" valign=\"middle\" margin=\"0px\" width=\"800\" height=\"680\" marginheight=0 marginwidth=0 frameborder=0 vspace=0 hspace=0 scrolling=NO  src=\"https://www.macrotrends.net/assets/php/fundamental_iframe.php?t=TSLA&type=revenue&statement=income-statement&freq=Q\"></iframe>\t\n",
      "\t\n",
      "\t\t\n",
      "\t\t</div>\n",
      "\t\t\n",
      "\t\t\n",
      "\n",
      "\t\t\t<div id=\"ic_video_ad\" style=\"height:317px; margin:30px;\">\n",
      "\t\t\t\n",
      "\t\t\t\n",
      "\t\t\t\t<div id=\"IC_D_3x6\"></div>\n",
      "\t\t\t\t\t\t\n",
      "\t\t\t\n",
      "\t\t\t</div>\n",
      "\n",
      "\t\t\t\n",
      "\n",
      "\t\t\t<div style=\"background-color:#fff; margin: 30px 0px; padding:10px 30px; border:1px solid #dfdfdf;\">\n",
      "\t\t\n",
      "\t\t\n",
      "\t\t\t<iframe id=\"dianomi_below_chart\" valign=\"middle\" width=\"100%\" height=\"300\" marginheight=0 marginwidth=0 frameborder=0 vspace=0 hspace=0 scrolling=NO  src=\"//www.dianomi.com/smartads.epl?id=4057\"></iframe>\n",
      "\n",
      "\t\t\t<!--<div id=\"IC_D_3x7_BCC\"></div>-->\n",
      "\t\t\t\n",
      "\t\t\n",
      "\t\t</div>\t\t\n",
      "\n",
      "\t\t\t\n",
      " \n",
      "\t\t\t\n",
      "\t\t\t<div id=\"style-1\" style=\"background-color:#fff; height:510px; overflow:auto; margin: 30px 0px 30px 0px; padding:0px 30px 20px 0px; border:1px solid #dfdfdf;\">\n",
      "\t\t\t\n",
      "\t\t\t  \t<div class=\"col-xs-6\">\n",
      "\t\t\t\n",
      "\t\t\t\t<table class=\"historical_data_table table\">\n",
      "\t\t\t\t<thead>\n",
      "\t\t\t\t  <tr>\n",
      "\t\t\t\t\t<th colspan=2 style=\"text-align:center\">Tesla Annual Revenue<br /><span style=\"font-size:14px;\">(Millions of US $)</span></th>\n",
      "\t\t\t\t  </tr>\n",
      "\t\t\t\t</thead>\t\t\t\t\t\n",
      "\t\t\t\t<tbody>\n",
      "\t\t\t\t\t\t\t\t\n",
      "\t\t\t\t\t\t\t\t\t\t\t\t\n",
      "\t\t\t\t<tr>\n",
      "\t\t\t\t\t<td style=\"text-align:center\">2021</td>\n",
      "\t\t\t\t\n",
      "\t\t\t\t\n",
      "\t\t\t\t\n",
      "\t\t\t\t\t\t\t\t\t\t<td style=\"text-align:center\">$53,823</td>\n",
      "\t\t\t\t\n",
      "\t\t\t\t\t\t\t\t\n",
      "\t\t\t\t</tr>\n",
      "\t\t\t\t  \n",
      "\t\t\t\t\t\t\t\t\t\t\t\t\n",
      "\t\t\t\t<tr>\n",
      "\t\t\t\t\t<td style=\"text-align:center\">2020</td>\n",
      "\t\t\t\t\n",
      "\t\t\t\t\n",
      "\t\t\t\t\n",
      "\t\t\t\t\t\t\t\t\t\t<td style=\"text-align:center\">$31,536</td>\n",
      "\t\t\t\t\n",
      "\t\t\t\t\t\t\t\t\n",
      "\t\t\t\t</tr>\n",
      "\t\t\t\t  \n",
      "\t\t\t\t\t\t\t\t\t\t\t\t\n",
      "\t\t\t\t<tr>\n",
      "\t\t\t\t\t<td style=\"text-align:center\">2019</td>\n",
      "\t\t\t\t\n",
      "\t\t\t\t\n",
      "\t\t\t\t\n",
      "\t\t\t\t\t\t\t\t\t\t<td style=\"text-align:center\">$24,578</td>\n",
      "\t\t\t\t\n",
      "\t\t\t\t\t\t\t\t\n",
      "\t\t\t\t</tr>\n",
      "\t\t\t\t  \n",
      "\t\t\t\t\t\t\t\t\t\t\t\t\n",
      "\t\t\t\t<tr>\n",
      "\t\t\t\t\t<td style=\"text-align:center\">2018</td>\n",
      "\t\t\t\t\n",
      "\t\t\t\t\n",
      "\t\t\t\t\n",
      "\t\t\t\t\t\t\t\t\t\t<td style=\"text-align:center\">$21,461</td>\n",
      "\t\t\t\t\n",
      "\t\t\t\t\t\t\t\t\n",
      "\t\t\t\t</tr>\n",
      "\t\t\t\t  \n",
      "\t\t\t\t\t\t\t\t\t\t\t\t\n",
      "\t\t\t\t<tr>\n",
      "\t\t\t\t\t<td style=\"text-align:center\">2017</td>\n",
      "\t\t\t\t\n",
      "\t\t\t\t\n",
      "\t\t\t\t\n",
      "\t\t\t\t\t\t\t\t\t\t<td style=\"text-align:center\">$11,759</td>\n",
      "\t\t\t\t\n",
      "\t\t\t\t\t\t\t\t\n",
      "\t\t\t\t</tr>\n",
      "\t\t\t\t  \n",
      "\t\t\t\t\t\t\t\t\t\t\t\t\n",
      "\t\t\t\t<tr>\n",
      "\t\t\t\t\t<td style=\"text-align:center\">2016</td>\n",
      "\t\t\t\t\n",
      "\t\t\t\t\n",
      "\t\t\t\t\n",
      "\t\t\t\t\t\t\t\t\t\t<td style=\"text-align:center\">$7,000</td>\n",
      "\t\t\t\t\n",
      "\t\t\t\t\t\t\t\t\n",
      "\t\t\t\t</tr>\n",
      "\t\t\t\t  \n",
      "\t\t\t\t\t\t\t\t\t\t\t\t\n",
      "\t\t\t\t<tr>\n",
      "\t\t\t\t\t<td style=\"text-align:center\">2015</td>\n",
      "\t\t\t\t\n",
      "\t\t\t\t\n",
      "\t\t\t\t\n",
      "\t\t\t\t\t\t\t\t\t\t<td style=\"text-align:center\">$4,046</td>\n",
      "\t\t\t\t\n",
      "\t\t\t\t\t\t\t\t\n",
      "\t\t\t\t</tr>\n",
      "\t\t\t\t  \n",
      "\t\t\t\t\t\t\t\t\t\t\t\t\n",
      "\t\t\t\t<tr>\n",
      "\t\t\t\t\t<td style=\"text-align:center\">2014</td>\n",
      "\t\t\t\t\n",
      "\t\t\t\t\n",
      "\t\t\t\t\n",
      "\t\t\t\t\t\t\t\t\t\t<td style=\"text-align:center\">$3,198</td>\n",
      "\t\t\t\t\n",
      "\t\t\t\t\t\t\t\t\n",
      "\t\t\t\t</tr>\n",
      "\t\t\t\t  \n",
      "\t\t\t\t\t\t\t\t\t\t\t\t\n",
      "\t\t\t\t<tr>\n",
      "\t\t\t\t\t<td style=\"text-align:center\">2013</td>\n",
      "\t\t\t\t\n",
      "\t\t\t\t\n",
      "\t\t\t\t\n",
      "\t\t\t\t\t\t\t\t\t\t<td style=\"text-align:center\">$2,013</td>\n",
      "\t\t\t\t\n",
      "\t\t\t\t\t\t\t\t\n",
      "\t\t\t\t</tr>\n",
      "\t\t\t\t  \n",
      "\t\t\t\t\t\t\t\t\t\t\t\t\n",
      "\t\t\t\t<tr>\n",
      "\t\t\t\t\t<td style=\"text-align:center\">2012</td>\n",
      "\t\t\t\t\n",
      "\t\t\t\t\n",
      "\t\t\t\t\n",
      "\t\t\t\t\t\t\t\t\t\t<td style=\"text-align:center\">$413</td>\n",
      "\t\t\t\t\n",
      "\t\t\t\t\t\t\t\t\n",
      "\t\t\t\t</tr>\n",
      "\t\t\t\t  \n",
      "\t\t\t\t\t\t\t\t\t\t\t\t\n",
      "\t\t\t\t<tr>\n",
      "\t\t\t\t\t<td style=\"text-align:center\">2011</td>\n",
      "\t\t\t\t\n",
      "\t\t\t\t\n",
      "\t\t\t\t\n",
      "\t\t\t\t\t\t\t\t\t\t<td style=\"text-align:center\">$204</td>\n",
      "\t\t\t\t\n",
      "\t\t\t\t\t\t\t\t\n",
      "\t\t\t\t</tr>\n",
      "\t\t\t\t  \n",
      "\t\t\t\t\t\t\t\t\t\t\t\t\n",
      "\t\t\t\t<tr>\n",
      "\t\t\t\t\t<td style=\"text-align:center\">2010</td>\n",
      "\t\t\t\t\n",
      "\t\t\t\t\n",
      "\t\t\t\t\n",
      "\t\t\t\t\t\t\t\t\t\t<td style=\"text-align:center\">$117</td>\n",
      "\t\t\t\t\n",
      "\t\t\t\t\t\t\t\t\n",
      "\t\t\t\t</tr>\n",
      "\t\t\t\t  \n",
      "\t\t\t\t\t\t\t\t\t\t\t\t\n",
      "\t\t\t\t<tr>\n",
      "\t\t\t\t\t<td style=\"text-align:center\">2009</td>\n",
      "\t\t\t\t\n",
      "\t\t\t\t\n",
      "\t\t\t\t\n",
      "\t\t\t\t\t\t\t\t\t\t<td style=\"text-align:center\">$112</td>\n",
      "\t\t\t\t\n",
      "\t\t\t\t\t\t\t\t\n",
      "\t\t\t\t</tr>\n",
      "\t\t\t\t  \n",
      "\t\t\t\t  \n",
      "\t\t\t\t</tbody>\n",
      "\t\t\t  </table>\n",
      "\t\t\t  \n",
      "\t\t\t  </div>\n",
      "\n",
      "\t\t\t  <div class=\"col-xs-6\">\n",
      "\t\t\t\n",
      "\t\t\t\t<table class=\"historical_data_table table\">\n",
      "\t\t\t\t<thead>\n",
      "\t\t\t\t  <tr>\n",
      "\t\t\t\t\t<th colspan=2 style=\"text-align:center\">Tesla Quarterly Revenue<br /><span style=\"font-size:14px;\">(Millions of US $)</span></th>\n",
      "\t\t\t\t  </tr>\n",
      "\t\t\t\t</thead>\t\t\t\t\n",
      "\t\t\t\t<tbody>\n",
      "\t\t\t\t\n",
      "\t\t\t\t\t\t\t\t\t\t\t\t\n",
      "\t\t\t\t<tr>\n",
      "\t\t\t\t\t<td style=\"text-align:center\">2022-09-30</td>\n",
      "\t\t\t\t\n",
      "\t\t\t\t\n",
      "\t\t\t\t\n",
      "\t\t\t\t\t\t\t\t\t\t\n",
      "\t\t\t\t\t\t\t\t\t\t\n",
      "\t\t\t\t\t\t<td style=\"text-align:center\">$21,454</td>\n",
      "\t\t\t\t\t\t\n",
      "\t\t\t\t\t\t\t\t\t\n",
      "\t\t\t\t\t\t\t\t\n",
      "\t\t\t\t  </tr>\n",
      "\t\t\t\t  \n",
      "\t\t\t\t\t\t\t\t\t\t\t\t\n",
      "\t\t\t\t<tr>\n",
      "\t\t\t\t\t<td style=\"text-align:center\">2022-06-30</td>\n",
      "\t\t\t\t\n",
      "\t\t\t\t\n",
      "\t\t\t\t\n",
      "\t\t\t\t\t\t\t\t\t\t\n",
      "\t\t\t\t\t\t\t\t\t\t\n",
      "\t\t\t\t\t\t<td style=\"text-align:center\">$16,934</td>\n",
      "\t\t\t\t\t\t\n",
      "\t\t\t\t\t\t\t\t\t\n",
      "\t\t\t\t\t\t\t\t\n",
      "\t\t\t\t  </tr>\n",
      "\t\t\t\t  \n",
      "\t\t\t\t\t\t\t\t\t\t\t\t\n",
      "\t\t\t\t<tr>\n",
      "\t\t\t\t\t<td style=\"text-align:center\">2022-03-31</td>\n",
      "\t\t\t\t\n",
      "\t\t\t\t\n",
      "\t\t\t\t\n",
      "\t\t\t\t\t\t\t\t\t\t\n",
      "\t\t\t\t\t\t\t\t\t\t\n",
      "\t\t\t\t\t\t<td style=\"text-align:center\">$18,756</td>\n",
      "\t\t\t\t\t\t\n",
      "\t\t\t\t\t\t\t\t\t\n",
      "\t\t\t\t\t\t\t\t\n",
      "\t\t\t\t  </tr>\n",
      "\t\t\t\t  \n",
      "\t\t\t\t\t\t\t\t\t\t\t\t\n",
      "\t\t\t\t<tr>\n",
      "\t\t\t\t\t<td style=\"text-align:center\">2021-12-31</td>\n",
      "\t\t\t\t\n",
      "\t\t\t\t\n",
      "\t\t\t\t\n",
      "\t\t\t\t\t\t\t\t\t\t\n",
      "\t\t\t\t\t\t\t\t\t\t\n",
      "\t\t\t\t\t\t<td style=\"text-align:center\">$17,719</td>\n",
      "\t\t\t\t\t\t\n",
      "\t\t\t\t\t\t\t\t\t\n",
      "\t\t\t\t\t\t\t\t\n",
      "\t\t\t\t  </tr>\n",
      "\t\t\t\t  \n",
      "\t\t\t\t\t\t\t\t\t\t\t\t\n",
      "\t\t\t\t<tr>\n",
      "\t\t\t\t\t<td style=\"text-align:center\">2021-09-30</td>\n",
      "\t\t\t\t\n",
      "\t\t\t\t\n",
      "\t\t\t\t\n",
      "\t\t\t\t\t\t\t\t\t\t\n",
      "\t\t\t\t\t\t\t\t\t\t\n",
      "\t\t\t\t\t\t<td style=\"text-align:center\">$13,757</td>\n",
      "\t\t\t\t\t\t\n",
      "\t\t\t\t\t\t\t\t\t\n",
      "\t\t\t\t\t\t\t\t\n",
      "\t\t\t\t  </tr>\n",
      "\t\t\t\t  \n",
      "\t\t\t\t\t\t\t\t\t\t\t\t\n",
      "\t\t\t\t<tr>\n",
      "\t\t\t\t\t<td style=\"text-align:center\">2021-06-30</td>\n",
      "\t\t\t\t\n",
      "\t\t\t\t\n",
      "\t\t\t\t\n",
      "\t\t\t\t\t\t\t\t\t\t\n",
      "\t\t\t\t\t\t\t\t\t\t\n",
      "\t\t\t\t\t\t<td style=\"text-align:center\">$11,958</td>\n",
      "\t\t\t\t\t\t\n",
      "\t\t\t\t\t\t\t\t\t\n",
      "\t\t\t\t\t\t\t\t\n",
      "\t\t\t\t  </tr>\n",
      "\t\t\t\t  \n",
      "\t\t\t\t\t\t\t\t\t\t\t\t\n",
      "\t\t\t\t<tr>\n",
      "\t\t\t\t\t<td style=\"text-align:center\">2021-03-31</td>\n",
      "\t\t\t\t\n",
      "\t\t\t\t\n",
      "\t\t\t\t\n",
      "\t\t\t\t\t\t\t\t\t\t\n",
      "\t\t\t\t\t\t\t\t\t\t\n",
      "\t\t\t\t\t\t<td style=\"text-align:center\">$10,389</td>\n",
      "\t\t\t\t\t\t\n",
      "\t\t\t\t\t\t\t\t\t\n",
      "\t\t\t\t\t\t\t\t\n",
      "\t\t\t\t  </tr>\n",
      "\t\t\t\t  \n",
      "\t\t\t\t\t\t\t\t\t\t\t\t\n",
      "\t\t\t\t<tr>\n",
      "\t\t\t\t\t<td style=\"text-align:center\">2020-12-31</td>\n",
      "\t\t\t\t\n",
      "\t\t\t\t\n",
      "\t\t\t\t\n",
      "\t\t\t\t\t\t\t\t\t\t\n",
      "\t\t\t\t\t\t\t\t\t\t\n",
      "\t\t\t\t\t\t<td style=\"text-align:center\">$10,744</td>\n",
      "\t\t\t\t\t\t\n",
      "\t\t\t\t\t\t\t\t\t\n",
      "\t\t\t\t\t\t\t\t\n",
      "\t\t\t\t  </tr>\n",
      "\t\t\t\t  \n",
      "\t\t\t\t\t\t\t\t\t\t\t\t\n",
      "\t\t\t\t<tr>\n",
      "\t\t\t\t\t<td style=\"text-align:center\">2020-09-30</td>\n",
      "\t\t\t\t\n",
      "\t\t\t\t\n",
      "\t\t\t\t\n",
      "\t\t\t\t\t\t\t\t\t\t\n",
      "\t\t\t\t\t\t\t\t\t\t\n",
      "\t\t\t\t\t\t<td style=\"text-align:center\">$8,771</td>\n",
      "\t\t\t\t\t\t\n",
      "\t\t\t\t\t\t\t\t\t\n",
      "\t\t\t\t\t\t\t\t\n",
      "\t\t\t\t  </tr>\n",
      "\t\t\t\t  \n",
      "\t\t\t\t\t\t\t\t\t\t\t\t\n",
      "\t\t\t\t<tr>\n",
      "\t\t\t\t\t<td style=\"text-align:center\">2020-06-30</td>\n",
      "\t\t\t\t\n",
      "\t\t\t\t\n",
      "\t\t\t\t\n",
      "\t\t\t\t\t\t\t\t\t\t\n",
      "\t\t\t\t\t\t\t\t\t\t\n",
      "\t\t\t\t\t\t<td style=\"text-align:center\">$6,036</td>\n",
      "\t\t\t\t\t\t\n",
      "\t\t\t\t\t\t\t\t\t\n",
      "\t\t\t\t\t\t\t\t\n",
      "\t\t\t\t  </tr>\n",
      "\t\t\t\t  \n",
      "\t\t\t\t\t\t\t\t\t\t\t\t\n",
      "\t\t\t\t<tr>\n",
      "\t\t\t\t\t<td style=\"text-align:center\">2020-03-31</td>\n",
      "\t\t\t\t\n",
      "\t\t\t\t\n",
      "\t\t\t\t\n",
      "\t\t\t\t\t\t\t\t\t\t\n",
      "\t\t\t\t\t\t\t\t\t\t\n",
      "\t\t\t\t\t\t<td style=\"text-align:center\">$5,985</td>\n",
      "\t\t\t\t\t\t\n",
      "\t\t\t\t\t\t\t\t\t\n",
      "\t\t\t\t\t\t\t\t\n",
      "\t\t\t\t  </tr>\n",
      "\t\t\t\t  \n",
      "\t\t\t\t\t\t\t\t\t\t\t\t\n",
      "\t\t\t\t<tr>\n",
      "\t\t\t\t\t<td style=\"text-align:center\">2019-12-31</td>\n",
      "\t\t\t\t\n",
      "\t\t\t\t\n",
      "\t\t\t\t\n",
      "\t\t\t\t\t\t\t\t\t\t\n",
      "\t\t\t\t\t\t\t\t\t\t\n",
      "\t\t\t\t\t\t<td style=\"text-align:center\">$7,384</td>\n",
      "\t\t\t\t\t\t\n",
      "\t\t\t\t\t\t\t\t\t\n",
      "\t\t\t\t\t\t\t\t\n",
      "\t\t\t\t  </tr>\n",
      "\t\t\t\t  \n",
      "\t\t\t\t\t\t\t\t\t\t\t\t\n",
      "\t\t\t\t<tr>\n",
      "\t\t\t\t\t<td style=\"text-align:center\">2019-09-30</td>\n",
      "\t\t\t\t\n",
      "\t\t\t\t\n",
      "\t\t\t\t\n",
      "\t\t\t\t\t\t\t\t\t\t\n",
      "\t\t\t\t\t\t\t\t\t\t\n",
      "\t\t\t\t\t\t<td style=\"text-align:center\">$6,303</td>\n",
      "\t\t\t\t\t\t\n",
      "\t\t\t\t\t\t\t\t\t\n",
      "\t\t\t\t\t\t\t\t\n",
      "\t\t\t\t  </tr>\n",
      "\t\t\t\t  \n",
      "\t\t\t\t\t\t\t\t\t\t\t\t\n",
      "\t\t\t\t<tr>\n",
      "\t\t\t\t\t<td style=\"text-align:center\">2019-06-30</td>\n",
      "\t\t\t\t\n",
      "\t\t\t\t\n",
      "\t\t\t\t\n",
      "\t\t\t\t\t\t\t\t\t\t\n",
      "\t\t\t\t\t\t\t\t\t\t\n",
      "\t\t\t\t\t\t<td style=\"text-align:center\">$6,350</td>\n",
      "\t\t\t\t\t\t\n",
      "\t\t\t\t\t\t\t\t\t\n",
      "\t\t\t\t\t\t\t\t\n",
      "\t\t\t\t  </tr>\n",
      "\t\t\t\t  \n",
      "\t\t\t\t\t\t\t\t\t\t\t\t\n",
      "\t\t\t\t<tr>\n",
      "\t\t\t\t\t<td style=\"text-align:center\">2019-03-31</td>\n",
      "\t\t\t\t\n",
      "\t\t\t\t\n",
      "\t\t\t\t\n",
      "\t\t\t\t\t\t\t\t\t\t\n",
      "\t\t\t\t\t\t\t\t\t\t\n",
      "\t\t\t\t\t\t<td style=\"text-align:center\">$4,541</td>\n",
      "\t\t\t\t\t\t\n",
      "\t\t\t\t\t\t\t\t\t\n",
      "\t\t\t\t\t\t\t\t\n",
      "\t\t\t\t  </tr>\n",
      "\t\t\t\t  \n",
      "\t\t\t\t\t\t\t\t\t\t\t\t\n",
      "\t\t\t\t<tr>\n",
      "\t\t\t\t\t<td style=\"text-align:center\">2018-12-31</td>\n",
      "\t\t\t\t\n",
      "\t\t\t\t\n",
      "\t\t\t\t\n",
      "\t\t\t\t\t\t\t\t\t\t\n",
      "\t\t\t\t\t\t\t\t\t\t\n",
      "\t\t\t\t\t\t<td style=\"text-align:center\">$7,226</td>\n",
      "\t\t\t\t\t\t\n",
      "\t\t\t\t\t\t\t\t\t\n",
      "\t\t\t\t\t\t\t\t\n",
      "\t\t\t\t  </tr>\n",
      "\t\t\t\t  \n",
      "\t\t\t\t\t\t\t\t\t\t\t\t\n",
      "\t\t\t\t<tr>\n",
      "\t\t\t\t\t<td style=\"text-align:center\">2018-09-30</td>\n",
      "\t\t\t\t\n",
      "\t\t\t\t\n",
      "\t\t\t\t\n",
      "\t\t\t\t\t\t\t\t\t\t\n",
      "\t\t\t\t\t\t\t\t\t\t\n",
      "\t\t\t\t\t\t<td style=\"text-align:center\">$6,824</td>\n",
      "\t\t\t\t\t\t\n",
      "\t\t\t\t\t\t\t\t\t\n",
      "\t\t\t\t\t\t\t\t\n",
      "\t\t\t\t  </tr>\n",
      "\t\t\t\t  \n",
      "\t\t\t\t\t\t\t\t\t\t\t\t\n",
      "\t\t\t\t<tr>\n",
      "\t\t\t\t\t<td style=\"text-align:center\">2018-06-30</td>\n",
      "\t\t\t\t\n",
      "\t\t\t\t\n",
      "\t\t\t\t\n",
      "\t\t\t\t\t\t\t\t\t\t\n",
      "\t\t\t\t\t\t\t\t\t\t\n",
      "\t\t\t\t\t\t<td style=\"text-align:center\">$4,002</td>\n",
      "\t\t\t\t\t\t\n",
      "\t\t\t\t\t\t\t\t\t\n",
      "\t\t\t\t\t\t\t\t\n",
      "\t\t\t\t  </tr>\n",
      "\t\t\t\t  \n",
      "\t\t\t\t\t\t\t\t\t\t\t\t\n",
      "\t\t\t\t<tr>\n",
      "\t\t\t\t\t<td style=\"text-align:center\">2018-03-31</td>\n",
      "\t\t\t\t\n",
      "\t\t\t\t\n",
      "\t\t\t\t\n",
      "\t\t\t\t\t\t\t\t\t\t\n",
      "\t\t\t\t\t\t\t\t\t\t\n",
      "\t\t\t\t\t\t<td style=\"text-align:center\">$3,409</td>\n",
      "\t\t\t\t\t\t\n",
      "\t\t\t\t\t\t\t\t\t\n",
      "\t\t\t\t\t\t\t\t\n",
      "\t\t\t\t  </tr>\n",
      "\t\t\t\t  \n",
      "\t\t\t\t\t\t\t\t\t\t\t\t\n",
      "\t\t\t\t<tr>\n",
      "\t\t\t\t\t<td style=\"text-align:center\">2017-12-31</td>\n",
      "\t\t\t\t\n",
      "\t\t\t\t\n",
      "\t\t\t\t\n",
      "\t\t\t\t\t\t\t\t\t\t\n",
      "\t\t\t\t\t\t\t\t\t\t\n",
      "\t\t\t\t\t\t<td style=\"text-align:center\">$3,288</td>\n",
      "\t\t\t\t\t\t\n",
      "\t\t\t\t\t\t\t\t\t\n",
      "\t\t\t\t\t\t\t\t\n",
      "\t\t\t\t  </tr>\n",
      "\t\t\t\t  \n",
      "\t\t\t\t\t\t\t\t\t\t\t\t\n",
      "\t\t\t\t<tr>\n",
      "\t\t\t\t\t<td style=\"text-align:center\">2017-09-30</td>\n",
      "\t\t\t\t\n",
      "\t\t\t\t\n",
      "\t\t\t\t\n",
      "\t\t\t\t\t\t\t\t\t\t\n",
      "\t\t\t\t\t\t\t\t\t\t\n",
      "\t\t\t\t\t\t<td style=\"text-align:center\">$2,985</td>\n",
      "\t\t\t\t\t\t\n",
      "\t\t\t\t\t\t\t\t\t\n",
      "\t\t\t\t\t\t\t\t\n",
      "\t\t\t\t  </tr>\n",
      "\t\t\t\t  \n",
      "\t\t\t\t\t\t\t\t\t\t\t\t\n",
      "\t\t\t\t<tr>\n",
      "\t\t\t\t\t<td style=\"text-align:center\">2017-06-30</td>\n",
      "\t\t\t\t\n",
      "\t\t\t\t\n",
      "\t\t\t\t\n",
      "\t\t\t\t\t\t\t\t\t\t\n",
      "\t\t\t\t\t\t\t\t\t\t\n",
      "\t\t\t\t\t\t<td style=\"text-align:center\">$2,790</td>\n",
      "\t\t\t\t\t\t\n",
      "\t\t\t\t\t\t\t\t\t\n",
      "\t\t\t\t\t\t\t\t\n",
      "\t\t\t\t  </tr>\n",
      "\t\t\t\t  \n",
      "\t\t\t\t\t\t\t\t\t\t\t\t\n",
      "\t\t\t\t<tr>\n",
      "\t\t\t\t\t<td style=\"text-align:center\">2017-03-31</td>\n",
      "\t\t\t\t\n",
      "\t\t\t\t\n",
      "\t\t\t\t\n",
      "\t\t\t\t\t\t\t\t\t\t\n",
      "\t\t\t\t\t\t\t\t\t\t\n",
      "\t\t\t\t\t\t<td style=\"text-align:center\">$2,696</td>\n",
      "\t\t\t\t\t\t\n",
      "\t\t\t\t\t\t\t\t\t\n",
      "\t\t\t\t\t\t\t\t\n",
      "\t\t\t\t  </tr>\n",
      "\t\t\t\t  \n",
      "\t\t\t\t\t\t\t\t\t\t\t\t\n",
      "\t\t\t\t<tr>\n",
      "\t\t\t\t\t<td style=\"text-align:center\">2016-12-31</td>\n",
      "\t\t\t\t\n",
      "\t\t\t\t\n",
      "\t\t\t\t\n",
      "\t\t\t\t\t\t\t\t\t\t\n",
      "\t\t\t\t\t\t\t\t\t\t\n",
      "\t\t\t\t\t\t<td style=\"text-align:center\">$2,285</td>\n",
      "\t\t\t\t\t\t\n",
      "\t\t\t\t\t\t\t\t\t\n",
      "\t\t\t\t\t\t\t\t\n",
      "\t\t\t\t  </tr>\n",
      "\t\t\t\t  \n",
      "\t\t\t\t\t\t\t\t\t\t\t\t\n",
      "\t\t\t\t<tr>\n",
      "\t\t\t\t\t<td style=\"text-align:center\">2016-09-30</td>\n",
      "\t\t\t\t\n",
      "\t\t\t\t\n",
      "\t\t\t\t\n",
      "\t\t\t\t\t\t\t\t\t\t\n",
      "\t\t\t\t\t\t\t\t\t\t\n",
      "\t\t\t\t\t\t<td style=\"text-align:center\">$2,298</td>\n",
      "\t\t\t\t\t\t\n",
      "\t\t\t\t\t\t\t\t\t\n",
      "\t\t\t\t\t\t\t\t\n",
      "\t\t\t\t  </tr>\n",
      "\t\t\t\t  \n",
      "\t\t\t\t\t\t\t\t\t\t\t\t\n",
      "\t\t\t\t<tr>\n",
      "\t\t\t\t\t<td style=\"text-align:center\">2016-06-30</td>\n",
      "\t\t\t\t\n",
      "\t\t\t\t\n",
      "\t\t\t\t\n",
      "\t\t\t\t\t\t\t\t\t\t\n",
      "\t\t\t\t\t\t\t\t\t\t\n",
      "\t\t\t\t\t\t<td style=\"text-align:center\">$1,270</td>\n",
      "\t\t\t\t\t\t\n",
      "\t\t\t\t\t\t\t\t\t\n",
      "\t\t\t\t\t\t\t\t\n",
      "\t\t\t\t  </tr>\n",
      "\t\t\t\t  \n",
      "\t\t\t\t\t\t\t\t\t\t\t\t\n",
      "\t\t\t\t<tr>\n",
      "\t\t\t\t\t<td style=\"text-align:center\">2016-03-31</td>\n",
      "\t\t\t\t\n",
      "\t\t\t\t\n",
      "\t\t\t\t\n",
      "\t\t\t\t\t\t\t\t\t\t\n",
      "\t\t\t\t\t\t\t\t\t\t\n",
      "\t\t\t\t\t\t<td style=\"text-align:center\">$1,147</td>\n",
      "\t\t\t\t\t\t\n",
      "\t\t\t\t\t\t\t\t\t\n",
      "\t\t\t\t\t\t\t\t\n",
      "\t\t\t\t  </tr>\n",
      "\t\t\t\t  \n",
      "\t\t\t\t\t\t\t\t\t\t\t\t\n",
      "\t\t\t\t<tr>\n",
      "\t\t\t\t\t<td style=\"text-align:center\">2015-12-31</td>\n",
      "\t\t\t\t\n",
      "\t\t\t\t\n",
      "\t\t\t\t\n",
      "\t\t\t\t\t\t\t\t\t\t\n",
      "\t\t\t\t\t\t\t\t\t\t\n",
      "\t\t\t\t\t\t<td style=\"text-align:center\">$1,214</td>\n",
      "\t\t\t\t\t\t\n",
      "\t\t\t\t\t\t\t\t\t\n",
      "\t\t\t\t\t\t\t\t\n",
      "\t\t\t\t  </tr>\n",
      "\t\t\t\t  \n",
      "\t\t\t\t\t\t\t\t\t\t\t\t\n",
      "\t\t\t\t<tr>\n",
      "\t\t\t\t\t<td style=\"text-align:center\">2015-09-30</td>\n",
      "\t\t\t\t\n",
      "\t\t\t\t\n",
      "\t\t\t\t\n",
      "\t\t\t\t\t\t\t\t\t\t\n",
      "\t\t\t\t\t\t\t\t\t\t\n",
      "\t\t\t\t\t\t<td style=\"text-align:center\">$937</td>\n",
      "\t\t\t\t\t\t\n",
      "\t\t\t\t\t\t\t\t\t\n",
      "\t\t\t\t\t\t\t\t\n",
      "\t\t\t\t  </tr>\n",
      "\t\t\t\t  \n",
      "\t\t\t\t\t\t\t\t\t\t\t\t\n",
      "\t\t\t\t<tr>\n",
      "\t\t\t\t\t<td style=\"text-align:center\">2015-06-30</td>\n",
      "\t\t\t\t\n",
      "\t\t\t\t\n",
      "\t\t\t\t\n",
      "\t\t\t\t\t\t\t\t\t\t\n",
      "\t\t\t\t\t\t\t\t\t\t\n",
      "\t\t\t\t\t\t<td style=\"text-align:center\">$955</td>\n",
      "\t\t\t\t\t\t\n",
      "\t\t\t\t\t\t\t\t\t\n",
      "\t\t\t\t\t\t\t\t\n",
      "\t\t\t\t  </tr>\n",
      "\t\t\t\t  \n",
      "\t\t\t\t\t\t\t\t\t\t\t\t\n",
      "\t\t\t\t<tr>\n",
      "\t\t\t\t\t<td style=\"text-align:center\">2015-03-31</td>\n",
      "\t\t\t\t\n",
      "\t\t\t\t\n",
      "\t\t\t\t\n",
      "\t\t\t\t\t\t\t\t\t\t\n",
      "\t\t\t\t\t\t\t\t\t\t\n",
      "\t\t\t\t\t\t<td style=\"text-align:center\">$940</td>\n",
      "\t\t\t\t\t\t\n",
      "\t\t\t\t\t\t\t\t\t\n",
      "\t\t\t\t\t\t\t\t\n",
      "\t\t\t\t  </tr>\n",
      "\t\t\t\t  \n",
      "\t\t\t\t\t\t\t\t\t\t\t\t\n",
      "\t\t\t\t<tr>\n",
      "\t\t\t\t\t<td style=\"text-align:center\">2014-12-31</td>\n",
      "\t\t\t\t\n",
      "\t\t\t\t\n",
      "\t\t\t\t\n",
      "\t\t\t\t\t\t\t\t\t\t\n",
      "\t\t\t\t\t\t\t\t\t\t\n",
      "\t\t\t\t\t\t<td style=\"text-align:center\">$957</td>\n",
      "\t\t\t\t\t\t\n",
      "\t\t\t\t\t\t\t\t\t\n",
      "\t\t\t\t\t\t\t\t\n",
      "\t\t\t\t  </tr>\n",
      "\t\t\t\t  \n",
      "\t\t\t\t\t\t\t\t\t\t\t\t\n",
      "\t\t\t\t<tr>\n",
      "\t\t\t\t\t<td style=\"text-align:center\">2014-09-30</td>\n",
      "\t\t\t\t\n",
      "\t\t\t\t\n",
      "\t\t\t\t\n",
      "\t\t\t\t\t\t\t\t\t\t\n",
      "\t\t\t\t\t\t\t\t\t\t\n",
      "\t\t\t\t\t\t<td style=\"text-align:center\">$852</td>\n",
      "\t\t\t\t\t\t\n",
      "\t\t\t\t\t\t\t\t\t\n",
      "\t\t\t\t\t\t\t\t\n",
      "\t\t\t\t  </tr>\n",
      "\t\t\t\t  \n",
      "\t\t\t\t\t\t\t\t\t\t\t\t\n",
      "\t\t\t\t<tr>\n",
      "\t\t\t\t\t<td style=\"text-align:center\">2014-06-30</td>\n",
      "\t\t\t\t\n",
      "\t\t\t\t\n",
      "\t\t\t\t\n",
      "\t\t\t\t\t\t\t\t\t\t\n",
      "\t\t\t\t\t\t\t\t\t\t\n",
      "\t\t\t\t\t\t<td style=\"text-align:center\">$769</td>\n",
      "\t\t\t\t\t\t\n",
      "\t\t\t\t\t\t\t\t\t\n",
      "\t\t\t\t\t\t\t\t\n",
      "\t\t\t\t  </tr>\n",
      "\t\t\t\t  \n",
      "\t\t\t\t\t\t\t\t\t\t\t\t\n",
      "\t\t\t\t<tr>\n",
      "\t\t\t\t\t<td style=\"text-align:center\">2014-03-31</td>\n",
      "\t\t\t\t\n",
      "\t\t\t\t\n",
      "\t\t\t\t\n",
      "\t\t\t\t\t\t\t\t\t\t\n",
      "\t\t\t\t\t\t\t\t\t\t\n",
      "\t\t\t\t\t\t<td style=\"text-align:center\">$621</td>\n",
      "\t\t\t\t\t\t\n",
      "\t\t\t\t\t\t\t\t\t\n",
      "\t\t\t\t\t\t\t\t\n",
      "\t\t\t\t  </tr>\n",
      "\t\t\t\t  \n",
      "\t\t\t\t\t\t\t\t\t\t\t\t\n",
      "\t\t\t\t<tr>\n",
      "\t\t\t\t\t<td style=\"text-align:center\">2013-12-31</td>\n",
      "\t\t\t\t\n",
      "\t\t\t\t\n",
      "\t\t\t\t\n",
      "\t\t\t\t\t\t\t\t\t\t\n",
      "\t\t\t\t\t\t\t\t\t\t\n",
      "\t\t\t\t\t\t<td style=\"text-align:center\">$615</td>\n",
      "\t\t\t\t\t\t\n",
      "\t\t\t\t\t\t\t\t\t\n",
      "\t\t\t\t\t\t\t\t\n",
      "\t\t\t\t  </tr>\n",
      "\t\t\t\t  \n",
      "\t\t\t\t\t\t\t\t\t\t\t\t\n",
      "\t\t\t\t<tr>\n",
      "\t\t\t\t\t<td style=\"text-align:center\">2013-09-30</td>\n",
      "\t\t\t\t\n",
      "\t\t\t\t\n",
      "\t\t\t\t\n",
      "\t\t\t\t\t\t\t\t\t\t\n",
      "\t\t\t\t\t\t\t\t\t\t\n",
      "\t\t\t\t\t\t<td style=\"text-align:center\">$431</td>\n",
      "\t\t\t\t\t\t\n",
      "\t\t\t\t\t\t\t\t\t\n",
      "\t\t\t\t\t\t\t\t\n",
      "\t\t\t\t  </tr>\n",
      "\t\t\t\t  \n",
      "\t\t\t\t\t\t\t\t\t\t\t\t\n",
      "\t\t\t\t<tr>\n",
      "\t\t\t\t\t<td style=\"text-align:center\">2013-06-30</td>\n",
      "\t\t\t\t\n",
      "\t\t\t\t\n",
      "\t\t\t\t\n",
      "\t\t\t\t\t\t\t\t\t\t\n",
      "\t\t\t\t\t\t\t\t\t\t\n",
      "\t\t\t\t\t\t<td style=\"text-align:center\">$405</td>\n",
      "\t\t\t\t\t\t\n",
      "\t\t\t\t\t\t\t\t\t\n",
      "\t\t\t\t\t\t\t\t\n",
      "\t\t\t\t  </tr>\n",
      "\t\t\t\t  \n",
      "\t\t\t\t\t\t\t\t\t\t\t\t\n",
      "\t\t\t\t<tr>\n",
      "\t\t\t\t\t<td style=\"text-align:center\">2013-03-31</td>\n",
      "\t\t\t\t\n",
      "\t\t\t\t\n",
      "\t\t\t\t\n",
      "\t\t\t\t\t\t\t\t\t\t\n",
      "\t\t\t\t\t\t\t\t\t\t\n",
      "\t\t\t\t\t\t<td style=\"text-align:center\">$562</td>\n",
      "\t\t\t\t\t\t\n",
      "\t\t\t\t\t\t\t\t\t\n",
      "\t\t\t\t\t\t\t\t\n",
      "\t\t\t\t  </tr>\n",
      "\t\t\t\t  \n",
      "\t\t\t\t\t\t\t\t\t\t\t\t\n",
      "\t\t\t\t<tr>\n",
      "\t\t\t\t\t<td style=\"text-align:center\">2012-12-31</td>\n",
      "\t\t\t\t\n",
      "\t\t\t\t\n",
      "\t\t\t\t\n",
      "\t\t\t\t\t\t\t\t\t\t\n",
      "\t\t\t\t\t\t\t\t\t\t\n",
      "\t\t\t\t\t\t<td style=\"text-align:center\">$306</td>\n",
      "\t\t\t\t\t\t\n",
      "\t\t\t\t\t\t\t\t\t\n",
      "\t\t\t\t\t\t\t\t\n",
      "\t\t\t\t  </tr>\n",
      "\t\t\t\t  \n",
      "\t\t\t\t\t\t\t\t\t\t\t\t\n",
      "\t\t\t\t<tr>\n",
      "\t\t\t\t\t<td style=\"text-align:center\">2012-09-30</td>\n",
      "\t\t\t\t\n",
      "\t\t\t\t\n",
      "\t\t\t\t\n",
      "\t\t\t\t\t\t\t\t\t\t\n",
      "\t\t\t\t\t\t\t\t\t\t\n",
      "\t\t\t\t\t\t<td style=\"text-align:center\">$50</td>\n",
      "\t\t\t\t\t\t\n",
      "\t\t\t\t\t\t\t\t\t\n",
      "\t\t\t\t\t\t\t\t\n",
      "\t\t\t\t  </tr>\n",
      "\t\t\t\t  \n",
      "\t\t\t\t\t\t\t\t\t\t\t\t\n",
      "\t\t\t\t<tr>\n",
      "\t\t\t\t\t<td style=\"text-align:center\">2012-06-30</td>\n",
      "\t\t\t\t\n",
      "\t\t\t\t\n",
      "\t\t\t\t\n",
      "\t\t\t\t\t\t\t\t\t\t\n",
      "\t\t\t\t\t\t\t\t\t\t\n",
      "\t\t\t\t\t\t<td style=\"text-align:center\">$27</td>\n",
      "\t\t\t\t\t\t\n",
      "\t\t\t\t\t\t\t\t\t\n",
      "\t\t\t\t\t\t\t\t\n",
      "\t\t\t\t  </tr>\n",
      "\t\t\t\t  \n",
      "\t\t\t\t\t\t\t\t\t\t\t\t\n",
      "\t\t\t\t<tr>\n",
      "\t\t\t\t\t<td style=\"text-align:center\">2012-03-31</td>\n",
      "\t\t\t\t\n",
      "\t\t\t\t\n",
      "\t\t\t\t\n",
      "\t\t\t\t\t\t\t\t\t\t\n",
      "\t\t\t\t\t\t\t\t\t\t\n",
      "\t\t\t\t\t\t<td style=\"text-align:center\">$30</td>\n",
      "\t\t\t\t\t\t\n",
      "\t\t\t\t\t\t\t\t\t\n",
      "\t\t\t\t\t\t\t\t\n",
      "\t\t\t\t  </tr>\n",
      "\t\t\t\t  \n",
      "\t\t\t\t\t\t\t\t\t\t\t\t\n",
      "\t\t\t\t<tr>\n",
      "\t\t\t\t\t<td style=\"text-align:center\">2011-12-31</td>\n",
      "\t\t\t\t\n",
      "\t\t\t\t\n",
      "\t\t\t\t\n",
      "\t\t\t\t\t\t\t\t\t\t\n",
      "\t\t\t\t\t\t\t\t\t\t\n",
      "\t\t\t\t\t\t<td style=\"text-align:center\">$39</td>\n",
      "\t\t\t\t\t\t\n",
      "\t\t\t\t\t\t\t\t\t\n",
      "\t\t\t\t\t\t\t\t\n",
      "\t\t\t\t  </tr>\n",
      "\t\t\t\t  \n",
      "\t\t\t\t\t\t\t\t\t\t\t\t\n",
      "\t\t\t\t<tr>\n",
      "\t\t\t\t\t<td style=\"text-align:center\">2011-09-30</td>\n",
      "\t\t\t\t\n",
      "\t\t\t\t\n",
      "\t\t\t\t\n",
      "\t\t\t\t\t\t\t\t\t\t\n",
      "\t\t\t\t\t\t\t\t\t\t\n",
      "\t\t\t\t\t\t<td style=\"text-align:center\">$58</td>\n",
      "\t\t\t\t\t\t\n",
      "\t\t\t\t\t\t\t\t\t\n",
      "\t\t\t\t\t\t\t\t\n",
      "\t\t\t\t  </tr>\n",
      "\t\t\t\t  \n",
      "\t\t\t\t\t\t\t\t\t\t\t\t\n",
      "\t\t\t\t<tr>\n",
      "\t\t\t\t\t<td style=\"text-align:center\">2011-06-30</td>\n",
      "\t\t\t\t\n",
      "\t\t\t\t\n",
      "\t\t\t\t\n",
      "\t\t\t\t\t\t\t\t\t\t\n",
      "\t\t\t\t\t\t\t\t\t\t\n",
      "\t\t\t\t\t\t<td style=\"text-align:center\">$58</td>\n",
      "\t\t\t\t\t\t\n",
      "\t\t\t\t\t\t\t\t\t\n",
      "\t\t\t\t\t\t\t\t\n",
      "\t\t\t\t  </tr>\n",
      "\t\t\t\t  \n",
      "\t\t\t\t\t\t\t\t\t\t\t\t\n",
      "\t\t\t\t<tr>\n",
      "\t\t\t\t\t<td style=\"text-align:center\">2011-03-31</td>\n",
      "\t\t\t\t\n",
      "\t\t\t\t\n",
      "\t\t\t\t\n",
      "\t\t\t\t\t\t\t\t\t\t\n",
      "\t\t\t\t\t\t\t\t\t\t\n",
      "\t\t\t\t\t\t<td style=\"text-align:center\">$49</td>\n",
      "\t\t\t\t\t\t\n",
      "\t\t\t\t\t\t\t\t\t\n",
      "\t\t\t\t\t\t\t\t\n",
      "\t\t\t\t  </tr>\n",
      "\t\t\t\t  \n",
      "\t\t\t\t\t\t\t\t\t\t\t\t\n",
      "\t\t\t\t<tr>\n",
      "\t\t\t\t\t<td style=\"text-align:center\">2010-12-31</td>\n",
      "\t\t\t\t\n",
      "\t\t\t\t\n",
      "\t\t\t\t\n",
      "\t\t\t\t\t\t\t\t\t\t\n",
      "\t\t\t\t\t\t\t\t\t\t\n",
      "\t\t\t\t\t\t<td style=\"text-align:center\">$36</td>\n",
      "\t\t\t\t\t\t\n",
      "\t\t\t\t\t\t\t\t\t\n",
      "\t\t\t\t\t\t\t\t\n",
      "\t\t\t\t  </tr>\n",
      "\t\t\t\t  \n",
      "\t\t\t\t\t\t\t\t\t\t\t\t\n",
      "\t\t\t\t<tr>\n",
      "\t\t\t\t\t<td style=\"text-align:center\">2010-09-30</td>\n",
      "\t\t\t\t\n",
      "\t\t\t\t\n",
      "\t\t\t\t\n",
      "\t\t\t\t\t\t\t\t\t\t\n",
      "\t\t\t\t\t\t\t\t\t\t\n",
      "\t\t\t\t\t\t<td style=\"text-align:center\">$31</td>\n",
      "\t\t\t\t\t\t\n",
      "\t\t\t\t\t\t\t\t\t\n",
      "\t\t\t\t\t\t\t\t\n",
      "\t\t\t\t  </tr>\n",
      "\t\t\t\t  \n",
      "\t\t\t\t\t\t\t\t\t\t\t\t\n",
      "\t\t\t\t<tr>\n",
      "\t\t\t\t\t<td style=\"text-align:center\">2010-06-30</td>\n",
      "\t\t\t\t\n",
      "\t\t\t\t\n",
      "\t\t\t\t\n",
      "\t\t\t\t\t\t\t\t\t\t\n",
      "\t\t\t\t\t\t\t\t\t\t\n",
      "\t\t\t\t\t\t<td style=\"text-align:center\">$28</td>\n",
      "\t\t\t\t\t\t\n",
      "\t\t\t\t\t\t\t\t\t\n",
      "\t\t\t\t\t\t\t\t\n",
      "\t\t\t\t  </tr>\n",
      "\t\t\t\t  \n",
      "\t\t\t\t\t\t\t\t\t\t\t\t\n",
      "\t\t\t\t<tr>\n",
      "\t\t\t\t\t<td style=\"text-align:center\">2010-03-31</td>\n",
      "\t\t\t\t\n",
      "\t\t\t\t\n",
      "\t\t\t\t\n",
      "\t\t\t\t\t\t\t\t\t\t\n",
      "\t\t\t\t\t\t\t\t\t\t\n",
      "\t\t\t\t\t\t<td style=\"text-align:center\">$21</td>\n",
      "\t\t\t\t\t\t\n",
      "\t\t\t\t\t\t\t\t\t\n",
      "\t\t\t\t\t\t\t\t\n",
      "\t\t\t\t  </tr>\n",
      "\t\t\t\t  \n",
      "\t\t\t\t\t\t\t\t\t\t\t\t\n",
      "\t\t\t\t<tr>\n",
      "\t\t\t\t\t<td style=\"text-align:center\">2009-12-31</td>\n",
      "\t\t\t\t\n",
      "\t\t\t\t\n",
      "\t\t\t\t\n",
      "\t\t\t\t\t\t\t\t\t\t\n",
      "\t\t\t\t\t\n",
      "\t\t\t\t\t\t<td style=\"text-align:center\"></td>\t\t\t\t\t\n",
      "\t\t\t\t\t\n",
      "\t\t\t\t\t\t\t\t\t\n",
      "\t\t\t\t\t\t\t\t\n",
      "\t\t\t\t  </tr>\n",
      "\t\t\t\t  \n",
      "\t\t\t\t\t\t\t\t\t\t\t\t\n",
      "\t\t\t\t<tr>\n",
      "\t\t\t\t\t<td style=\"text-align:center\">2009-09-30</td>\n",
      "\t\t\t\t\n",
      "\t\t\t\t\n",
      "\t\t\t\t\n",
      "\t\t\t\t\t\t\t\t\t\t\n",
      "\t\t\t\t\t\t\t\t\t\t\n",
      "\t\t\t\t\t\t<td style=\"text-align:center\">$46</td>\n",
      "\t\t\t\t\t\t\n",
      "\t\t\t\t\t\t\t\t\t\n",
      "\t\t\t\t\t\t\t\t\n",
      "\t\t\t\t  </tr>\n",
      "\t\t\t\t  \n",
      "\t\t\t\t\t\t\t\t\t\t\t\t\n",
      "\t\t\t\t<tr>\n",
      "\t\t\t\t\t<td style=\"text-align:center\">2009-06-30</td>\n",
      "\t\t\t\t\n",
      "\t\t\t\t\n",
      "\t\t\t\t\n",
      "\t\t\t\t\t\t\t\t\t\t\n",
      "\t\t\t\t\t\t\t\t\t\t\n",
      "\t\t\t\t\t\t<td style=\"text-align:center\">$27</td>\n",
      "\t\t\t\t\t\t\n",
      "\t\t\t\t\t\t\t\t\t\n",
      "\t\t\t\t\t\t\t\t\n",
      "\t\t\t\t  </tr>\n",
      "\t\t\t\t  \n",
      "\t\t\t\t  \n",
      "\t\t\t\t</tbody>\n",
      "\t\t\t  </table>\n",
      "\t\t\t  \n",
      "\t\t\t  </div>\n",
      "\t\t\t  \n",
      "\n",
      "\t\t\t\n",
      "</div>\t\t\t\n",
      "\t\t\t\n",
      "\t\t\t\n",
      "\t\t\n",
      "\t\t<div style=\"background-color:#fff; margin: 0px 0px 20px 0px; padding:5px 50px 5px 10px; border:1px solid #dfdfdf;\">\n",
      "\n",
      "\t\t\t  <table class=\"historical_data_table table\">\n",
      "\t\t\t\t<thead>\n",
      "\t\t\t\t  <tr>\n",
      "\t\t\t\t\t<th style=\"text-align:center\">Sector</th>\n",
      "\t\t\t\t\t<th style=\"text-align:center\">Industry</th>\n",
      "\t\t\t\t\t<th style=\"text-align:center\">Market Cap</th>\n",
      "\t\t\t\t\t<th style=\"text-align:center\">Revenue</th>\n",
      "\t\t\t\t  </tr>\n",
      "\t\t\t\t</thead>\n",
      "\t\t\t\t<tbody>\n",
      "\t\t\t\t  <tr>\n",
      "\t\t\t\t\t<td style=\"text-align:center\"><a href='https://www.macrotrends.net/stocks/sector/5/auto-tires-trucks'>Auto/Tires/Trucks</a></td>\n",
      "\t\t\t\t\t<td style=\"text-align:center\"><a href='https://www.macrotrends.net/stocks/industry/7/'>Auto Manufacturers - Domestic</a></td>\n",
      "\t\t\t\t\t<td style=\"text-align:center\">$549.575B</td>\n",
      "\t\t\t\t\t<td style=\"text-align:center\">$53.823B</td>\n",
      "\t\t\t\t  </tr>\n",
      "\t\t\t\t  <tr>\n",
      "\t\t\t\t\t  <td colspan=\"4\" style=\"padding:15px;\">\n",
      "\t\t\t\t\t\t<span>Tesla is the market leader in battery-powered electric car sales in the United States, with roughly 70% market share. The company's flagship Model 3 is the best-selling EV model in the United States. Tesla, which has managed to garner the reputation of a gold standard over the years, is now a far bigger entity that what it started off since its IPO in 2010, with its market cap crossing $1 trillion for the first time in October 2021.? The EV king's market capitalization is more than the combined value of legacy automakers including Toyota, Volkswagen, Daimler, General Motors and Ford.Over the years, Tesla has shifted from developing niche products for affluent buyers to making more affordable EVs for the masses. The firm's three-pronged business model approach of direct sales, servicing, and charging its EVs sets it apart from other carmakers. Tesla, which is touted as the clean energy revolutionary automaker, is much more than just a car manufacturer.</span>\n",
      "\t\t\t\t\t  </td>\n",
      "\t\t\t\t  </tr>\n",
      "\t\t\t\t</tbody>\n",
      "\t\t\t  </table>\t\t\t\n",
      "\t\t\t</div>\t\n",
      "\t\n",
      "\t\t\n",
      "\t\t<div style=\"background-color:#fff; margin: 20px 0px 30px 0px; padding:5px 50px 5px 10px; border:1px solid #dfdfdf;\">\n",
      "\t\t\t\n",
      "\n",
      "\t\t\t\t<table class=\"historical_data_table table\">\n",
      "\t\t\t\t<thead>\n",
      "\t\t\t\t  <tr>\n",
      "\t\t\t\t\t<th style=\"text-align:center; width:40%;\">Stock Name</th>\n",
      "\t\t\t\t\t<th style=\"text-align:center; width:20%;\">Country</th>\n",
      "\t\t\t\t\t<th style=\"text-align:center; width:20%;\">Market Cap</th>\n",
      "\t\t\t\t\t<th style=\"text-align:center; width:20%;\">PE Ratio</th>\n",
      "\t\t\t\t  </tr>\n",
      "\t\t\t\t</thead>\n",
      "\t\t\t\t<tbody>\t\t\t\n",
      "\n",
      "\t\t\t\t\t\t\n",
      "\t\t\t\t\t\t\n",
      "\t\t\t\t<tr>\n",
      "\t\t\t\t\t<td style=\"text-align:left\"><a href='/stocks/charts/GM/general-motors/revenue'>General Motors (GM)</a></td>\n",
      "\t\t\t\t\t<td style=\"text-align:center\">United States</td>\n",
      "\t\t\t\t\t<td style=\"text-align:center\">$53.930B</td>\n",
      "\t\t\t\t\t<td style=\"text-align:center\">5.56</td>\n",
      "\t\t\t\t </tr>\n",
      "\n",
      "\t\t\t\t\t\t\n",
      "\t\t\t\t\t\t\n",
      "\t\t\t\t<tr>\n",
      "\t\t\t\t\t<td style=\"text-align:left\"><a href='/stocks/charts/F/ford-motor/revenue'>Ford Motor (F)</a></td>\n",
      "\t\t\t\t\t<td style=\"text-align:center\">United States</td>\n",
      "\t\t\t\t\t<td style=\"text-align:center\">$52.668B</td>\n",
      "\t\t\t\t\t<td style=\"text-align:center\">8.09</td>\n",
      "\t\t\t\t </tr>\n",
      "\n",
      "\t\t\t\t\t\t\n",
      "\t\t\t\t\t\t\n",
      "\t\t\t\t<tr>\n",
      "\t\t\t\t\t<td style=\"text-align:left\"><a href='/stocks/charts/HOG/harley-davidson/revenue'>Harley-Davidson (HOG)</a></td>\n",
      "\t\t\t\t\t<td style=\"text-align:center\">United States</td>\n",
      "\t\t\t\t\t<td style=\"text-align:center\">$6.762B</td>\n",
      "\t\t\t\t\t<td style=\"text-align:center\">9.56</td>\n",
      "\t\t\t\t </tr>\n",
      "\n",
      "\t\t\t\t\t\t\n",
      "\t\t\t\t\t\t\n",
      "\t\t\t\t<tr>\n",
      "\t\t\t\t\t<td style=\"text-align:left\"><a href='/stocks/charts/PII/polaris/revenue'>Polaris (PII)</a></td>\n",
      "\t\t\t\t\t<td style=\"text-align:center\">United States</td>\n",
      "\t\t\t\t\t<td style=\"text-align:center\">$6.267B</td>\n",
      "\t\t\t\t\t<td style=\"text-align:center\">11.86</td>\n",
      "\t\t\t\t </tr>\n",
      "\n",
      "\t\t\t\t\t\t\n",
      "\t\t\t\t\t\t\n",
      "\t\t\t\t<tr>\n",
      "\t\t\t\t\t<td style=\"text-align:left\"><a href='/stocks/charts/IAA/iaa/revenue'>IAA (IAA)</a></td>\n",
      "\t\t\t\t\t<td style=\"text-align:center\">United States</td>\n",
      "\t\t\t\t\t<td style=\"text-align:center\">$5.134B</td>\n",
      "\t\t\t\t\t<td style=\"text-align:center\">16.40</td>\n",
      "\t\t\t\t </tr>\n",
      "\n",
      "\t\t\t\t\t\t\n",
      "\t\t\t\t\t\t\n",
      "\t\t\t\t<tr>\n",
      "\t\t\t\t\t<td style=\"text-align:left\"><a href='/stocks/charts/FSR/fisker/revenue'>Fisker (FSR)</a></td>\n",
      "\t\t\t\t\t<td style=\"text-align:center\">United States</td>\n",
      "\t\t\t\t\t<td style=\"text-align:center\">$2.261B</td>\n",
      "\t\t\t\t\t<td style=\"text-align:center\">0.00</td>\n",
      "\t\t\t\t </tr>\n",
      "\n",
      "\t\t\t\t\t\t\n",
      "\t\t\t\t\t\t\n",
      "\t\t\t\t<tr>\n",
      "\t\t\t\t\t<td style=\"text-align:left\"><a href='/stocks/charts/LEV/lion-electric/revenue'>Lion Electric (LEV)</a></td>\n",
      "\t\t\t\t\t<td style=\"text-align:center\">Canada</td>\n",
      "\t\t\t\t\t<td style=\"text-align:center\">$0.551B</td>\n",
      "\t\t\t\t\t<td style=\"text-align:center\">0.00</td>\n",
      "\t\t\t\t </tr>\n",
      "\n",
      "\t\t\t\t\t\t\n",
      "\t\t\t\t\t\t\n",
      "\t\t\t\t<tr>\n",
      "\t\t\t\t\t<td style=\"text-align:left\"><a href='/stocks/charts/VLTA/volta/revenue'>Volta (VLTA)</a></td>\n",
      "\t\t\t\t\t<td style=\"text-align:center\">United States</td>\n",
      "\t\t\t\t\t<td style=\"text-align:center\">$0.071B</td>\n",
      "\t\t\t\t\t<td style=\"text-align:center\">0.00</td>\n",
      "\t\t\t\t </tr>\n",
      "\n",
      "\t\t\t\t\t\t\n",
      "\t\t\t\t\t\t\n",
      "\t\t\t\t<tr>\n",
      "\t\t\t\t\t<td style=\"text-align:left\"><a href='/stocks/charts/BRDS/bird-global/revenue'>Bird Global (BRDS)</a></td>\n",
      "\t\t\t\t\t<td style=\"text-align:center\">United States</td>\n",
      "\t\t\t\t\t<td style=\"text-align:center\">$0.054B</td>\n",
      "\t\t\t\t\t<td style=\"text-align:center\">0.00</td>\n",
      "\t\t\t\t </tr>\n",
      "\n",
      "\t\t\t\t\t\t\n",
      "\t\t\t\t\t\t\n",
      "\t\t\t\t<tr>\n",
      "\t\t\t\t\t<td style=\"text-align:left\"><a href='/stocks/charts/ZEV/lightning-emotors/revenue'>Lightning EMotors (ZEV)</a></td>\n",
      "\t\t\t\t\t<td style=\"text-align:center\">United States</td>\n",
      "\t\t\t\t\t<td style=\"text-align:center\">$0.043B</td>\n",
      "\t\t\t\t\t<td style=\"text-align:center\">0.00</td>\n",
      "\t\t\t\t </tr>\n",
      "\n",
      "\t\t\t\t\t\t\n",
      "\t\t\t\t</tbody>\n",
      "\t\t\t  </table>\t\t\t\n",
      "\t\t\t\n",
      "\t\t\t</div>\n",
      "\t\t\t\n",
      "\t\t\t\n",
      "\t\t\t<div>\n",
      "\t\t\t\n",
      "\t\t\t<!-- Partner Center Ad Unit -->\n",
      "\t\t\t<div id=\"IC_728x214_1\" style=\"width:728px; height:214px; margin-left:30px;\">\n",
      "\t\t\t\n",
      "\t\t\t\n",
      "\t\t\t</div>\n",
      "\t\t\t\n",
      "\t\t\t\n",
      "\t\t\t</div>\n",
      "\t\t\t\n",
      "\t\t\t\n",
      "\n",
      "\t\t\t</div>\n",
      "\t\t\t\n",
      "\n",
      "\t\t\t<div id=\"right_sidebar\"\">\n",
      "\n",
      "\t\t\t\t<!--<a href=\"/stocks/stock-screener\" style=\"text-decoration:none; color: #fff; \">\n",
      "\t\t\t\t\t<div style=\"margin:0px; padding: 20px; width:300px; background-color: #01579b; min-height:150px; text-align:center;\">\n",
      "\n",
      "\t\t\t\t\t\t<h2 style=\"font-weight:600;\">Try our new<br />stock screener!</h2></a>\n",
      "\n",
      "\t\t\t\t\t</div>\n",
      "\t\t\t\t</a>-->\n",
      "\n",
      "\t\t\t\t<!--<div style=\"margin-top:0px; min-height:250px;\">\n",
      "\n",
      "\t\t\t\t\t<script src='//ads.investingchannel.com/adtags/Macrotrends/fundamentalanalysis/300x600.js?zhpos=300_2&multi_size=false' type='text/javascript' charset='utf-8'></script>\n",
      "\n",
      "\t\t\t\t</div>-->\n",
      "\t\t\t\t\n",
      "\t\t\t\t\t\t\t\n",
      "\t\t\t\t\n",
      "\t\t\t\t\n",
      "\t\t\t\t\n",
      "\t\t\t\t\n",
      "\t\t\t\t<div style=\"margin-top:0px; min-height:250px;\">\n",
      "\n",
      "\t\t\t\t\t<div id=\"ic_300x250_1\">\n",
      "\n",
      "\t\t\t\t\t\n",
      "\t\t\t\t\t</div>\n",
      "\t\t\t\t\t\n",
      "\t\t\t\t</div>\n",
      "\t\t\t\t\n",
      "\t\t\t\t<div id=\"sticky_ad_right\" style=\"margin-top:30px; height:1000px;\">\n",
      "\t\t\t\t\n",
      "\t\t\t\t\t<script type=\"text/javascript\" id=\"dianomi_context_script\" src=\"https://www.dianomi.com/js/contextfeed.js\"></script>\n",
      "\t\t\t\t\t<div class=\"dianomi_context\" data-dianomi-context-id=\"743\"></div>\n",
      "\n",
      "\t\t\t\t\t<!-- <div id=\"IC_D_300x250_BCC\"></div>-->\n",
      "\n",
      "\t\t\t\t\t<!--Smartad # 2981: Macrotrends - 300x670 Right Rail-->\n",
      "\t\t\t\t\t<iframe id=\"dianomi_sidebar\" width=\"300\" height=\"670\" scrolling=\"NO\" src=\"//www.dianomi.com/smartads.epl?id=4059\"  style=\"width: 300px; border: none; overflow: hidden;\"></iframe>\n",
      "\t\t\t\t\t\n",
      "\t\t\t\t\t<div id=\"IC_D_300x250_BCC\"></div>\n",
      "\n",
      "\n",
      "\t\t\t\t</div>\t\t\t\n",
      "\n",
      "\t\n",
      "\t\t\t\t\n",
      "\n",
      "\t\t\t\t\n",
      "\t\t\t</div>\n",
      "\t\t\t\n",
      "\t\t\t\n",
      "\t\t\t\n",
      "\t\t\t\t\t\t\n",
      "\t\t</div>\n",
      "\t\t</div>\n",
      "\t\t\n",
      "\n",
      "<!--This is the div for the IC OOP ad-->\n",
      "<div id=\"oopDivTag_1\" style=\"width:1px;height:1px;\"></div>\n",
      "\t\t\n",
      "\n",
      "<footer class=\"footer\">\n",
      "\n",
      "\t\t<span>&copy; 2010-2022 Macrotrends LLC</span>&nbsp;&nbsp;|&nbsp;&nbsp;\n",
      "\t\t  <a href=\"/terms\">Terms of Service</a>\n",
      "\t\t  &nbsp;&nbsp;|&nbsp;&nbsp;\n",
      "\t\t  <a href=\"/privacy\">Privacy Policy</a>&nbsp;&nbsp;|&nbsp;&nbsp;\n",
      "\t\t  <a href=\"ma&#105;lt&#111;&#58;%&#54;&#57;n%66&#111;&#64;%6D&#97;c%72&#111;&#116;rends&#37;2&#69;&#110;%65t\">Contact Us</a>&nbsp;&nbsp;|&nbsp;&nbsp;\n",
      "\t\t  <a href=\"/ccpa\">Do Not Sell My Personal Information</a>\n",
      "\t\t  <br />\n",
      "\t\t  <span>Fundamental data from </span><a target=\"_blank\" rel=\"nofollow\" href=\"https://www.zacksdata.com\">Zacks Investment Research, Inc.</a>\n",
      "\n",
      "\n",
      "</footer>\n",
      "\n",
      "<div class=\"modal\" id=\"smallWidthModal1\" tabindex=\"-1\" role=\"dialog\" aria-labelledby=\"exampleModalLabel\" aria-hidden=\"true\">\n",
      "  <div class=\"modal-dialog modal-lg\">\n",
      "    <div class=\"modal-content\">\n",
      "      <div class=\"modal-body\">\n",
      "\t  \t  \n",
      "\t\t<div class=\"modal_title\"><h2><strong>We Need Your Support!</strong></h2></div>\n",
      "\n",
      "\t\t<p>Backlinks from other websites are the lifeblood of our site and a primary source of new traffic.<p>\n",
      "\t\t\n",
      "<p>If you use our chart images on your site or blog, we ask that you provide attribution via a \"dofollow\" link back to this page.  We have provided a few examples below that you can copy and paste to your site:</p>\n",
      "\n",
      "<br />\n",
      "\n",
      "<table class=\"table\">\n",
      "<thead>\n",
      "<tr>\n",
      "<th>Link Preview</th>\n",
      "<th>HTML Code (Click to Copy)</th>\n",
      "</tr>\n",
      "</thead>\n",
      "<tbody>\n",
      "<tr>\n",
      "<td><a>Tesla Revenue 2010-2022 | TSLA</a></td>\n",
      "<td><input type=\"text\" class=\"modal_link\" size=\"60\" value=\"<a href='https://www.macrotrends.net/stocks/charts/TSLA/tesla/revenue'>Tesla Revenue 2010-2022 | TSLA</a>\"></td>\n",
      "</tr>\n",
      "<tr>\n",
      "<td><a>Macrotrends</a></td>\n",
      "<td><input type=\"text\" class=\"modal_link\" size=\"60\" value=\"<a href='https://www.macrotrends.net/stocks/charts/TSLA/tesla/revenue'>Macrotrends</a>\"></td>\n",
      "</tr>\n",
      "<tr>\n",
      "<td><a>Source</a></td>\n",
      "<td><input type=\"text\" class=\"modal_link\" size=\"60\" value=\"<a href='https://www.macrotrends.net/stocks/charts/TSLA/tesla/revenue'>Source</a>\"></td>\n",
      "</tr>\n",
      "\n",
      "\n",
      "\n",
      "</tbody>\n",
      "</table>\n",
      "\n",
      "<br />\n",
      "\n",
      "<p style=\"text-align:center\">Your image export is now complete.  Please check your download folder. </p>\n",
      "\n",
      "      </div>\n",
      "      <div class=\"modal-footer\">\n",
      "        <button type=\"button\" class=\"btn btn-primary\" data-dismiss=\"modal\">Close Window</button>\n",
      "      </div>\n",
      "    </div>\n",
      "  </div>\n",
      "</div>\n",
      "\n",
      "\n",
      "<div class=\"modal\" id=\"smallWidthModal2\" tabindex=\"-1\" role=\"dialog\" aria-labelledby=\"exampleModalLabel\" aria-hidden=\"true\">\n",
      "  <div class=\"modal-dialog modal-lg\">\n",
      "    <div class=\"modal-content\">\n",
      "      <div class=\"modal-body\">\n",
      "\t  \t  \n",
      "\t\t<div class=\"modal_title\"><h2><strong>We Need Your Support!</strong></h2></div>\n",
      "\n",
      "\t\t<p>Backlinks from other websites are the lifeblood of our site and a primary source of new traffic.<p>\n",
      "\t\t\n",
      "<p>If you use our datasets on your site or blog, we ask that you provide attribution via a \"dofollow\" link back to this page.  We have provided a few examples below that you can copy and paste to your site:</p>\n",
      "\n",
      "<br />\n",
      "\n",
      "<table class=\"table\">\n",
      "<thead>\n",
      "<tr>\n",
      "<th>Link Preview</th>\n",
      "<th>HTML Code (Click to Copy)</th>\n",
      "</tr>\n",
      "</thead>\n",
      "<tbody>\n",
      "<tr>\n",
      "<td><a>Tesla Revenue 2010-2022 | TSLA</a></td>\n",
      "<td><input type=\"text\" class=\"modal_link\" size=\"50\" value=\"<a href='https://www.macrotrends.net/stocks/charts/TSLA/tesla/revenue'>Tesla Revenue 2010-2022 | TSLA</a>\"></td>\n",
      "</tr>\n",
      "<tr>\n",
      "<td><a>Macrotrends</a></td>\n",
      "<td><input type=\"text\" class=\"modal_link\" size=\"50\" value=\"<a href='https://www.macrotrends.net/stocks/charts/TSLA/tesla/revenue'>Macrotrends</a>\"></td>\n",
      "</tr>\n",
      "<tr>\n",
      "<td><a>Source</a></td>\n",
      "<td><input type=\"text\" class=\"modal_link\" size=\"50\" value=\"<a href='https://www.macrotrends.net/stocks/charts/TSLA/tesla/revenue'>Source</a>\"></td>\n",
      "</tr>\n",
      "\n",
      "\n",
      "\n",
      "</tbody>\n",
      "</table>\n",
      "\n",
      "<br />\n",
      "\n",
      "<p style=\"text-align:center\">Your data export is now complete.  Please check your download folder. </p>\n",
      "\n",
      "      </div>\n",
      "      <div class=\"modal-footer\">\n",
      "        <button type=\"button\" class=\"btn btn-primary\" data-dismiss=\"modal\">Close Window</button>\n",
      "      </div>\n",
      "    </div>\n",
      "  </div>\n",
      "</div>\t\n",
      "\n",
      "\n",
      "<script type=\"text/javascript\">\n",
      "\t$.typeahead({\n",
      "\t\tinput: '.js-typeahead',\n",
      "\t\tminLength: 1,\n",
      "\t\tfilter: false,  //Disables typahead filter to just show everything in the results from the database\n",
      "\t\tdebug: false,\n",
      "\t\thighlight: true,\n",
      "\t\tmaxItem: 10,\n",
      "\t\tdynamic: true,\n",
      "\t\tdelay: 200,\n",
      "\t\tsearchOnFocus: true,\n",
      "\t\tbackdrop: {\n",
      "\t\t\t\"background-color\": \"#fff\"\n",
      "\t\t},\n",
      "\t\thref: \"{{url}}\",\n",
      "\t\temptyTemplate: \"no result for {{query}}\",\n",
      "\t\tdisplay: [\"name\"],\n",
      "\t\tsource: {\n",
      "\t\t\tusers: {\n",
      "\t\t\t\tajax: {\n",
      "\t\t\t\t\turl: '/assets/php/all_pages_query.php',\n",
      "\t\t\t\t\tdata: {\n",
      "\t\t\t\t\t\tq: '{{query}}'\n",
      "\t\t\t\t\t}\n",
      "\t\t\t\t}\n",
      "\t\t\t}\n",
      "\t\t}\n",
      "\t});\n",
      "</script>\n",
      "\n",
      "<script>\n",
      "\n",
      "\t// /*! js-cookie v3.0.0-rc.1 | MIT */\n",
      "\t// !function(e,t){\"object\"==typeof exports&&\"undefined\"!=typeof module?module.exports=t():\"function\"==typeof define&&define.amd?define(t):(e=e||self,function(){var n=e.Cookies,r=e.Cookies=t();r.noConflict=function(){return e.Cookies=n,r}}())}(this,function(){\"use strict\";function e(e){for(var t=1;t<arguments.length;t++){var n=arguments[t];for(var r in n)e[r]=n[r]}return e}var t={read:function(e){return e.replace(/(%[\\dA-F]{2})+/gi,decodeURIComponent)},write:function(e){return encodeURIComponent(e).replace(/%(2[346BF]|3[AC-F]|40|5[BDE]|60|7[BCD])/g,decodeURIComponent)}};return function n(r,o){function i(t,n,i){if(\"undefined\"!=typeof document){\"number\"==typeof(i=e({},o,i)).expires&&(i.expires=new Date(Date.now()+864e5*i.expires)),i.expires&&(i.expires=i.expires.toUTCString()),t=encodeURIComponent(t).replace(/%(2[346B]|5E|60|7C)/g,decodeURIComponent).replace(/[()]/g,escape),n=r.write(n,t);var c=\"\";for(var u in i)i[u]&&(c+=\"; \"+u,!0!==i[u]&&(c+=\"=\"+i[u].split(\";\")[0]));return document.cookie=t+\"=\"+n+c}}return Object.create({set:i,get:function(e){if(\"undefined\"!=typeof document&&(!arguments.length||e)){for(var n=document.cookie?document.cookie.split(\"; \"):[],o={},i=0;i<n.length;i++){var c=n[i].split(\"=\"),u=c.slice(1).join(\"=\");'\"'===u[0]&&(u=u.slice(1,-1));try{var f=t.read(c[0]);if(o[f]=r.read(u,f),e===f)break}catch(e){}}return e?o[e]:o}},remove:function(t,n){i(t,\"\",e({},n,{expires:-1}))},withAttributes:function(t){return n(this.converter,e({},this.attributes,t))},withConverter:function(t){return n(e({},this.converter,t),this.attributes)}},{attributes:{value:Object.freeze(o)},converter:{value:Object.freeze(r)}})}(t,{path:\"/\"})});\n",
      "\n",
      "\t\t\t\n",
      "\t// // Cookie Settings\n",
      "\t// var maxCookieValue = 4, initCookie = 1, expirationDays = 1;\n",
      "\t// var cookieName = \"session_pageviews\";\n",
      "\t// var getCookie = Cookies.get(cookieName);\n",
      "\n",
      "\t// // Under the Hood\n",
      "\t// if (getCookie == null) {\n",
      "\t\t// Cookies.set(cookieName, initCookie, { expires: expirationDays });\n",
      "\t\t// console.log('Cookie set to value 1');\n",
      "\t\t// $( \"#ic_video_ad\" ).append( \"<div id=\\\"IC_D_3x6\\\" style=\\\"margin:30px;\\\"></div>\" );\n",
      "\t// } else {\n",
      "\t\t// if (getCookie >= initCookie && getCookie < maxCookieValue) {\n",
      "\t\t\t// getCookie++;\n",
      "\t\t\t// Cookies.set(cookieName, getCookie, { expires: expirationDays });\n",
      "\t\t\t// console.log('Cookie incremented. New value is ' + getCookie);\n",
      "\t\t\t// $( \"#ic_video_ad\" ).append( \"<div id=\\\"IC_D_3x6\\\" style=\\\"margin:30px;\\\"></div>\" );\n",
      "\t\t// }\n",
      "\t\t// else if (getCookie >= maxCookieValue && getCookie < 7) {\n",
      "\t\t\t// getCookie++;\n",
      "\t\t\t// Cookies.set(cookieName, getCookie, { expires: expirationDays });\n",
      "\t\t\t// console.log('Cookie max allowed value reached. No video ads showing. New value is ' + getCookie);\n",
      "\t\t\t// //Cookies.remove(cookieName);\n",
      "\t\t\t// // if cookie is equal with the number you've set, then do something\n",
      "\t\t\t// // hide an element, delete the cookie etc...\n",
      "\t\t// }\n",
      "\t\t// else if (getCookie >= 7) {\n",
      "\t\t\t// Cookies.remove(cookieName);\n",
      "\t\t\t// // if cookie is equal with the number you've set, then do something\n",
      "\t\t\t// // hide an element, delete the cookie etc...\n",
      "\t\t// }\t\n",
      "\t// }\n",
      "\n",
      "</script>\t\t\t\t\t\n",
      "\n",
      "\n",
      "<script>\n",
      "\n",
      "\n",
      "\n",
      "\n",
      "\t\t\n",
      "\n",
      "$(document).ready(function() {\n",
      "\t\n",
      "\tvar user_data = '171.76.81.154';\tvar country_code = 'United States';\n",
      "\t$.post('https://www.macrotrends.net/assets/php/user_frequency_tracking.php', {user_ip: user_data, user_country: country_code}); \n",
      "\n",
      "\t// Selects all of the text in the chart export window when clicked\n",
      "\t$(\".modal_link\").focus(function() {\n",
      "\t\tvar $this = $(this);\n",
      "\t\t$this.select();\n",
      "\n",
      "\t\t// Work around Chrome's little problem\n",
      "\t\t$this.mouseup(function() {\n",
      "\t\t\t// Prevent further mouseup intervention\n",
      "\t\t\t$this.unbind(\"mouseup\");\n",
      "\t\t\treturn false;\n",
      "\t\t});\n",
      "\t});\t\n",
      "\t\n",
      "\t\n",
      "\t$('[data-toggle=\"tooltip\"]').tooltip();\n",
      "\t\n",
      "    $('.statement_type_select').select2({\n",
      "\t\n",
      "\ttheme: \"classic\",\n",
      "\tminimumResultsForSearch: 20\n",
      "\t\n",
      "\t});\n",
      "\n",
      "    $('.frequency_select').select2({\n",
      "\t\n",
      "\ttheme: \"classic\",\n",
      "\tminimumResultsForSearch: 20\n",
      "\t\n",
      "\t});\n",
      "\t\n",
      "\t\n",
      "});\n",
      "\n",
      "$( \"#compareStocks\" ).click(function() {\n",
      "\t\n",
      "\t\n",
      "\twindow.location.href = '/stocks/stock-comparison?s=revenue&axis=single&comp=TSLA';\n",
      "\t\n",
      "\t\n",
      "});\n",
      "\n",
      "$( \"#chartExport\" ).click(function() {\n",
      "\t\n",
      "\t\twindow.$('#smallWidthModal1').modal();\n",
      "\n",
      "\t\t//Turn off scroll bar for image export\n",
      "\t\tchart.chartScrollbarSettings.enabled = false;\n",
      "\t\tchart.validateNow(); \n",
      "\t\t\n",
      "\t\t\n",
      "\t\tchart.export.capture({},function() {\n",
      "\t\t\tthis.toPNG({},function(data) {\n",
      "\t\t\t\t// Download the image to the browser\n",
      "\t\t\t\tthis.download( data, \"image/png\", \"TSLA-revenue-2022-12-09-macrotrends.png\" );\n",
      "\t\t\t\t\n",
      "\t\t\t\t});\n",
      "\n",
      "\t\t//Turn scroll bar back on again\n",
      "\t\tchart.chartScrollbarSettings.enabled = true;\n",
      "\t\tchart.validateNow(); \n",
      "\t\t\t\t\n",
      "\t});\n",
      "\n",
      "});\n",
      "\n",
      "$( \".statement_type_select\" ).change(function() {\n",
      "  \n",
      "  window.location.href = 'https://testing.macrotrends.net/assets/php/income_statement_testing.php?t=ZEV&type=' + this.value + '&freq=Q';\n",
      "\n",
      "});\n",
      "\n",
      "$( \".frequency_select\" ).change(function() {\n",
      "  \n",
      "  window.location.href = '/assets/php/new_chart_page.php?t=ZEV&type=revenue&freq=' + this.value;\n",
      "\n",
      "});\n",
      "\n",
      "</script>\n",
      "\n",
      "<!--<div class=\"modal\" id=\"contribute_modal\" tabindex=\"-1\" role=\"dialog\" aria-labelledby=\"exampleModalLabel\" aria-hidden=\"false\">\n",
      "  <div class=\"modal-dialog modal-lg\">\n",
      "    <div class=\"modal-content\">\n",
      "      <div class=\"modal-body\" style=\"margin:20px 40px 20px 40px; text-align:left;font-size:18px;\">\n",
      "\t  \t  \n",
      "\n",
      "\n",
      "<div class=\"row\">\n",
      "\n",
      "<div class=\"col-xs-6\">\n",
      "\n",
      "<script src=\"https://donorbox.org/widget.js\" paypalExpress=\"true\"></script><iframe src=\"https://donorbox.org/embed/macrotrends-donations?hide_donation_meter=true\" height=\"685px\" width=\"100%\" style=\"max-width:500px; min-width:310px; max-height:none!important\" seamless=\"seamless\" name=\"donorbox\" frameborder=\"0\" scrolling=\"no\" allowpaymentrequest></iframe>\n",
      "\n",
      "</div>\n",
      "\n",
      "<div class=\"col-xs-6\">\n",
      "\n",
      "\t\t<div class=\"modal_title\"><h1><strong>We Need Your Support!</strong></h1></div>\n",
      "\n",
      "\t\t<p><strong>Macrotrends has been subscription-free since 2010 and we want to keep it that way.</strong></p>\n",
      "\n",
      "<p>Our goal has always been to serve as an easily accessible, high quality source of investment research for both professionals and amateurs alike.</p>\n",
      "\n",
      "<p>Any amount that you can contribute will help ensure we can keep the site completely free for many years to come.</p>\n",
      "\n",
      "<p style=\"margin-top:20px;\">Regards,</p>\n",
      "<p>The Macrotrends Team</p>\n",
      "\n",
      "</div>\n",
      "\n",
      "</div>\n",
      "\n",
      "</div>\n",
      "\n",
      "      <div class=\"modal-footer\" style=\"text-align:center;\">\n",
      "        <button type=\"button\" class=\"btn btn-success\" data-dismiss=\"modal\">Maybe Next Time...</button>\n",
      "      </div>\n",
      "    </div>\n",
      "  </div>\n",
      "</div>\t\n",
      "\n",
      "\n",
      "<script src=\"/ads.js\" type=\"text/javascript\"></script>\n",
      "\n",
      "<script>\n",
      "\n",
      "$(document).ready(function() {\n",
      "\t\n",
      "\tvar botPattern = \"(googlebot\\/|Googlebot-Mobile|Googlebot-Image|Google favicon|Mediapartners-Google|bingbot|slurp|java|wget|curl|Commons-HttpClient|Python-urllib|libwww|httpunit|nutch|phpcrawl|msnbot|jyxobot|FAST-WebCrawler|FAST Enterprise Crawler|biglotron|teoma|convera|seekbot|gigablast|exabot|ngbot|ia_archiver|GingerCrawler|webmon |httrack|webcrawler|grub.org|UsineNouvelleCrawler|antibot|netresearchserver|speedy|fluffy|bibnum.bnf|findlink|msrbot|panscient|yacybot|AISearchBot|IOI|ips-agent|tagoobot|MJ12bot|dotbot|woriobot|yanga|buzzbot|mlbot|yandexbot|purebot|Linguee Bot|Voyager|CyberPatrol|voilabot|baiduspider|citeseerxbot|spbot|twengabot|postrank|turnitinbot|scribdbot|page2rss|sitebot|linkdex|Adidxbot|blekkobot|ezooms|dotbot|Mail.RU_Bot|discobot|heritrix|findthatfile|europarchive.org|NerdByNature.Bot|sistrix crawler|ahrefsbot|Aboundex|domaincrawler|wbsearchbot|summify|ccbot|edisterbot|seznambot|ec2linkfinder|gslfbot|aihitbot|intelium_bot|facebookexternalhit|yeti|RetrevoPageAnalyzer|lb-spider|sogou|lssbot|careerbot|wotbox|wocbot|ichiro|DuckDuckBot|lssrocketcrawler|drupact|webcompanycrawler|acoonbot|openindexspider|gnam gnam spider|web-archive-net.com.bot|backlinkcrawler|coccoc|integromedb|content crawler spider|toplistbot|seokicks-robot|it2media-domain-crawler|ip-web-crawler.com|siteexplorer.info|elisabot|proximic|changedetection|blexbot|arabot|WeSEE:Search|niki-bot|CrystalSemanticsBot|rogerbot|360Spider|psbot|InterfaxScanBot|Lipperhey SEO Service|CC Metadata Scaper|g00g1e.net|GrapeshotCrawler|urlappendbot|brainobot|fr-crawler|binlar|SimpleCrawler|Livelapbot|Twitterbot|cXensebot|smtbot|bnf.fr_bot|A6-Indexer|ADmantX|Facebot|Twitterbot|OrangeBot|memorybot|AdvBot|MegaIndex|SemanticScholarBot|ltx71|nerdybot|xovibot|BUbiNG|Qwantify|archive.org_bot|Applebot|TweetmemeBot|crawler4j|findxbot|SemrushBot|yoozBot|lipperhey|y!j-asr|Domain Re-Animator Bot|AddThis)\";\n",
      "\n",
      "\tvar re = new RegExp(botPattern, 'i');\n",
      "\n",
      "\tif (re.test(navigator.userAgent)) {\n",
      "\t\t\n",
      "\t} else {\n",
      "\t\t\n",
      "\t\t//Check to see whether they are running an ad blocker\n",
      "\t\tif(document.getElementById('12mORwMnaEkJXlxz')){\n",
      "\t\t  var ad_blocker = 'N';\n",
      "\t\t} else {\n",
      "\t\t  var ad_blocker = 'Y';\n",
      "\t\t}\n",
      "\n",
      "\t\t$.post('https://api.ipstack.com/check?access_key=14fe63e83d5cfefa0b3d4cec498479ba&output=json&fields=ip,continent_name,country_name,region_name,city', \n",
      "\t\tfunction(ip_data){\n",
      "\t\t\t\n",
      "\t\t\t$.post('https://www.macrotrends.net/assets/php/page_view_tracking.php', {ip: ip_data.ip,continent: ip_data.continent_name, country: ip_data.country_name, state: ip_data.region_name, city: ip_data.city, screen_width: screen.width, ads: ad_blocker, page_type: 'stock'}, \n",
      "\t\t\t\tfunction(data){\n",
      "\t\t\t\t\t/*\t\t\t\t\t\n",
      "\t\t\t\t\tif(data % 20 === 0) {\n",
      "\t\t\t\t\t\t\n",
      "\t\t\t\t\t\t//$('#contribute_modal').modal();\n",
      "\t\t\t\t\t\t\n",
      "\t\t\t\t\t}\n",
      "\t\t\t\t\t*/\n",
      "\t\t\t\t});\n",
      "\t\t\n",
      "\t\t});\n",
      "\n",
      "\n",
      "\t}\n",
      "\t\n",
      "\n",
      "});\n",
      "\n",
      "\n",
      "$.post('https://api.ipstack.com/check?access_key=14fe63e83d5cfefa0b3d4cec498479ba&output=json&fields=ip,continent_name,country_name,region_name,city', \n",
      "function(ip_data){\n",
      "\t\n",
      "\t$(\".contribute_user_id\").val(ip_data.ip);\n",
      "\t\n",
      "});\n",
      "\n",
      "$( \".donate_buttons\" ).click(function() {\n",
      "  \n",
      "\tvar payment = $(this).attr(\"value\");\n",
      "\n",
      "\t$.post('https://api.ipstack.com/check?access_key=14fe63e83d5cfefa0b3d4cec498479ba&output=json&fields=ip,continent_name,country_name,region_name,city', \n",
      "\t\tfunction(ip_data){\n",
      "\t\t\t\t\t\n",
      "\t\t$.post('https://www.macrotrends.net/assets/php/page_view_tracking.php', {ip: ip_data.ip, paid: payment}); \n",
      "\t\n",
      "\t});\n",
      "\t\t \n",
      "});\n",
      "\n",
      "</script>\n",
      "\n",
      "-->\t\n",
      "\n",
      "<script type=\"text/javascript\">\n",
      "var clicky_site_ids = clicky_site_ids || [];\n",
      "clicky_site_ids.push(100827248);\n",
      "(function() {\n",
      "  var s = document.createElement('script');\n",
      "  s.type = 'text/javascript';\n",
      "  s.async = true;\n",
      "  s.src = '//static.getclicky.com/js';\n",
      "  ( document.getElementsByTagName('head')[0] || document.getElementsByTagName('body')[0] ).appendChild( s );\n",
      "})();\n",
      "</script>\n",
      "<noscript><p><img alt=\"Clicky\" width=\"1\" height=\"1\" src=\"//in.getclicky.com/100827248ns.gif\" /></p></noscript>\n",
      "\n",
      "\n",
      "\n",
      "<!-- This site is converting visitors into subscribers and customers with OptinMonster - https://optinmonster.com -->\n",
      "<!-- <script type=\"text/javascript\" src=\"https://a.omappapi.com/app/js/api.min.js\" data-account=\"6392\" data-user=\"15772\" async></script> -->\n",
      "<!-- / OptinMonster -->\n",
      "\n",
      "\n",
      "</body>\n",
      "\n",
      "</html>\n",
      "\n",
      "\t\n",
      "\n"
     ]
    }
   ],
   "source": [
    "data=requests.get(html_data).text\n",
    "print(data)"
   ]
  },
  {
   "cell_type": "markdown",
   "metadata": {},
   "source": [
    "<details><summary>Click here if you need help locating the table</summary>\n",
    "\n",
    "```\n",
    "    \n",
    "Below is the code to isolate the table, you will now need to loop through the rows and columns like in the previous lab\n",
    "    \n",
    "soup.find_all(\"tbody\")[1]\n",
    "    \n",
    "If you want to use the read_html function the table is located at index 1\n",
    "\n",
    "\n",
    "```\n",
    "\n",
    "</details>\n"
   ]
  },
  {
   "cell_type": "markdown",
   "metadata": {},
   "source": [
    "Using `BeautifulSoup` or the `read_html` function extract the table with `Tesla Revenue` and store it into a dataframe named `tesla_revenue`. The dataframe should have columns `Date` and `Revenue`.\n"
   ]
  },
  {
   "cell_type": "markdown",
   "metadata": {},
   "source": [
    "Execute the following line to remove the comma and dollar sign from the `Revenue` column. \n"
   ]
  },
  {
   "cell_type": "code",
   "execution_count": 33,
   "metadata": {
    "tags": []
   },
   "outputs": [],
   "source": [
    "\n",
    "soup = BeautifulSoup(data, \"html.parser\")\n",
    "soup.find_all('title')\n",
    "tesla_revenue=pd.DataFrame(columns=[\"Date\", \"Revenue\"])\n",
    "for row in soup.find_all(\"tbody\")[1].find_all(\"tr\"):\n",
    "    col = row.find_all(\"td\")\n",
    "    date = col[0].text\n",
    "    revenue = col[1].text.replace(\"$\", \"\").replace(\",\", \"\")\n",
    "\n",
    "    tesla_revenue = tesla_revenue._append({\"Date\": date, \"Revenue\": revenue}, ignore_index = True)\n",
    "   "
   ]
  },
  {
   "cell_type": "markdown",
   "metadata": {},
   "source": [
    "Execute the following lines to remove an null or empty strings in the Revenue column.\n"
   ]
  },
  {
   "cell_type": "code",
   "execution_count": 34,
   "metadata": {
    "tags": []
   },
   "outputs": [],
   "source": [
    "tesla_revenue[\"Revenue\"] = tesla_revenue['Revenue'].str.replace(',|\\$',\"\")"
   ]
  },
  {
   "cell_type": "markdown",
   "metadata": {},
   "source": [
    "Display the last 5 row of the `tesla_revenue` dataframe using the `tail` function. Take a screenshot of the results.\n"
   ]
  },
  {
   "cell_type": "code",
   "execution_count": 35,
   "metadata": {
    "tags": []
   },
   "outputs": [],
   "source": [
    "tesla_revenue.dropna(inplace=True)\n",
    "\n",
    "tesla_revenue = tesla_revenue[tesla_revenue['Revenue'] != \"\"]"
   ]
  },
  {
   "cell_type": "markdown",
   "metadata": {},
   "source": [
    "## Question 3: Use yfinance to Extract Stock Data\n"
   ]
  },
  {
   "cell_type": "code",
   "execution_count": 36,
   "metadata": {
    "tags": []
   },
   "outputs": [
    {
     "data": {
      "text/html": [
       "<div>\n",
       "<style scoped>\n",
       "    .dataframe tbody tr th:only-of-type {\n",
       "        vertical-align: middle;\n",
       "    }\n",
       "\n",
       "    .dataframe tbody tr th {\n",
       "        vertical-align: top;\n",
       "    }\n",
       "\n",
       "    .dataframe thead th {\n",
       "        text-align: right;\n",
       "    }\n",
       "</style>\n",
       "<table border=\"1\" class=\"dataframe\">\n",
       "  <thead>\n",
       "    <tr style=\"text-align: right;\">\n",
       "      <th></th>\n",
       "      <th>Date</th>\n",
       "      <th>Revenue</th>\n",
       "    </tr>\n",
       "  </thead>\n",
       "  <tbody>\n",
       "    <tr>\n",
       "      <th>48</th>\n",
       "      <td>2010-09-30</td>\n",
       "      <td>31</td>\n",
       "    </tr>\n",
       "    <tr>\n",
       "      <th>49</th>\n",
       "      <td>2010-06-30</td>\n",
       "      <td>28</td>\n",
       "    </tr>\n",
       "    <tr>\n",
       "      <th>50</th>\n",
       "      <td>2010-03-31</td>\n",
       "      <td>21</td>\n",
       "    </tr>\n",
       "    <tr>\n",
       "      <th>52</th>\n",
       "      <td>2009-09-30</td>\n",
       "      <td>46</td>\n",
       "    </tr>\n",
       "    <tr>\n",
       "      <th>53</th>\n",
       "      <td>2009-06-30</td>\n",
       "      <td>27</td>\n",
       "    </tr>\n",
       "  </tbody>\n",
       "</table>\n",
       "</div>"
      ],
      "text/plain": [
       "          Date Revenue\n",
       "48  2010-09-30      31\n",
       "49  2010-06-30      28\n",
       "50  2010-03-31      21\n",
       "52  2009-09-30      46\n",
       "53  2009-06-30      27"
      ]
     },
     "execution_count": 36,
     "metadata": {},
     "output_type": "execute_result"
    }
   ],
   "source": [
    "tesla_revenue.tail()"
   ]
  },
  {
   "cell_type": "markdown",
   "metadata": {},
   "source": [
    "Using the `Ticker` function enter the ticker symbol of the stock we want to extract data on to create a ticker object. The stock is GameStop and its ticker symbol is `GME`.\n"
   ]
  },
  {
   "cell_type": "code",
   "execution_count": 37,
   "metadata": {
    "tags": []
   },
   "outputs": [],
   "source": [
    "GameStop=yf.Ticker(\"GME\")"
   ]
  },
  {
   "cell_type": "markdown",
   "metadata": {},
   "source": [
    "Using the ticker object and the function `history` extract stock information and save it in a dataframe named `gme_data`. Set the `period` parameter to `max` so we get information for the maximum amount of time.\n"
   ]
  },
  {
   "cell_type": "code",
   "execution_count": 38,
   "metadata": {
    "tags": []
   },
   "outputs": [
    {
     "name": "stdout",
     "output_type": "stream",
     "text": [
      "GME: No data found for this date range, symbol may be delisted\n"
     ]
    }
   ],
   "source": [
    "gme_data = GameStop.history(period = 'max')"
   ]
  },
  {
   "cell_type": "markdown",
   "metadata": {},
   "source": [
    "**Reset the index** using the `reset_index(inplace=True)` function on the gme_data DataFrame and display the first five rows of the `gme_data` dataframe using the `head` function. Take a screenshot of the results and code from the beginning of Question 3 to the results below.\n"
   ]
  },
  {
   "cell_type": "code",
   "execution_count": 39,
   "metadata": {
    "tags": []
   },
   "outputs": [
    {
     "data": {
      "text/html": [
       "<div>\n",
       "<style scoped>\n",
       "    .dataframe tbody tr th:only-of-type {\n",
       "        vertical-align: middle;\n",
       "    }\n",
       "\n",
       "    .dataframe tbody tr th {\n",
       "        vertical-align: top;\n",
       "    }\n",
       "\n",
       "    .dataframe thead th {\n",
       "        text-align: right;\n",
       "    }\n",
       "</style>\n",
       "<table border=\"1\" class=\"dataframe\">\n",
       "  <thead>\n",
       "    <tr style=\"text-align: right;\">\n",
       "      <th></th>\n",
       "      <th>Date</th>\n",
       "      <th>Open</th>\n",
       "      <th>High</th>\n",
       "      <th>Low</th>\n",
       "      <th>Close</th>\n",
       "      <th>Adj Close</th>\n",
       "      <th>Volume</th>\n",
       "    </tr>\n",
       "  </thead>\n",
       "  <tbody>\n",
       "  </tbody>\n",
       "</table>\n",
       "</div>"
      ],
      "text/plain": [
       "Empty DataFrame\n",
       "Columns: [Date, Open, High, Low, Close, Adj Close, Volume]\n",
       "Index: []"
      ]
     },
     "execution_count": 39,
     "metadata": {},
     "output_type": "execute_result"
    }
   ],
   "source": [
    "gme_data.reset_index(inplace = True)\n",
    "gme_data.head()"
   ]
  },
  {
   "cell_type": "markdown",
   "metadata": {},
   "source": [
    "## Question 4: Use Webscraping to Extract GME Revenue Data\n"
   ]
  },
  {
   "cell_type": "markdown",
   "metadata": {},
   "source": [
    "Use the `requests` library to download the webpage https://cf-courses-data.s3.us.cloud-object-storage.appdomain.cloud/IBMDeveloperSkillsNetwork-PY0220EN-SkillsNetwork/labs/project/stock.html. Save the text of the response as a variable named `html_data`.\n"
   ]
  },
  {
   "cell_type": "code",
   "execution_count": 40,
   "metadata": {
    "tags": []
   },
   "outputs": [],
   "source": [
    "url= \"https://cf-courses-data.s3.us.cloud-object-storage.appdomain.cloud/IBMDeveloperSkillsNetwork-PY0220EN-SkillsNetwork/labs/project/stock.html\"\n",
    "html_data = requests.get(url).text"
   ]
  },
  {
   "cell_type": "markdown",
   "metadata": {},
   "source": [
    "Parse the html data using `beautiful_soup`.\n"
   ]
  },
  {
   "cell_type": "code",
   "execution_count": 41,
   "metadata": {
    "tags": []
   },
   "outputs": [
    {
     "data": {
      "text/plain": [
       "[<title>GameStop Revenue 2006-2020 | GME | MacroTrends</title>]"
      ]
     },
     "execution_count": 41,
     "metadata": {},
     "output_type": "execute_result"
    }
   ],
   "source": [
    "soup = BeautifulSoup(html_data, \"html.parser\")\n",
    "soup.find_all('title')"
   ]
  },
  {
   "cell_type": "markdown",
   "metadata": {},
   "source": [
    "Using `BeautifulSoup` or the `read_html` function extract the table with `GameStop Revenue` and store it into a dataframe named `gme_revenue`. The dataframe should have columns `Date` and `Revenue`. Make sure the comma and dollar sign is removed from the `Revenue` column using a method similar to what you did in Question 2.\n"
   ]
  },
  {
   "cell_type": "markdown",
   "metadata": {},
   "source": [
    "<details><summary>Click here if you need help locating the table</summary>\n",
    "\n",
    "```\n",
    "    \n",
    "Below is the code to isolate the table, you will now need to loop through the rows and columns like in the previous lab\n",
    "    \n",
    "soup.find_all(\"tbody\")[1]\n",
    "    \n",
    "If you want to use the read_html function the table is located at index 1\n",
    "\n",
    "\n",
    "```\n",
    "\n",
    "</details>\n"
   ]
  },
  {
   "cell_type": "code",
   "execution_count": 42,
   "metadata": {
    "tags": []
   },
   "outputs": [],
   "source": [
    "gme_revenue = pd.DataFrame(columns = ['Date', 'Revenue'])\n",
    "\n",
    "for row in soup.find_all(\"tbody\")[1].find_all(\"tr\"):\n",
    "    col = row.find_all(\"td\")\n",
    "    date = col[0].text\n",
    "    revenue = col[1].text.replace(\"$\", \"\").replace(\",\", \"\")\n",
    "    \n",
    "    gme_revenue = gme_revenue._append({\"Date\": date, \"Revenue\": revenue}, ignore_index = True)"
   ]
  },
  {
   "cell_type": "markdown",
   "metadata": {},
   "source": [
    "Display the last five rows of the `gme_revenue` dataframe using the `tail` function. Take a screenshot of the results.\n"
   ]
  },
  {
   "cell_type": "code",
   "execution_count": 43,
   "metadata": {
    "tags": []
   },
   "outputs": [
    {
     "data": {
      "text/html": [
       "<div>\n",
       "<style scoped>\n",
       "    .dataframe tbody tr th:only-of-type {\n",
       "        vertical-align: middle;\n",
       "    }\n",
       "\n",
       "    .dataframe tbody tr th {\n",
       "        vertical-align: top;\n",
       "    }\n",
       "\n",
       "    .dataframe thead th {\n",
       "        text-align: right;\n",
       "    }\n",
       "</style>\n",
       "<table border=\"1\" class=\"dataframe\">\n",
       "  <thead>\n",
       "    <tr style=\"text-align: right;\">\n",
       "      <th></th>\n",
       "      <th>Date</th>\n",
       "      <th>Revenue</th>\n",
       "    </tr>\n",
       "  </thead>\n",
       "  <tbody>\n",
       "    <tr>\n",
       "      <th>57</th>\n",
       "      <td>2006-01-31</td>\n",
       "      <td>1667</td>\n",
       "    </tr>\n",
       "    <tr>\n",
       "      <th>58</th>\n",
       "      <td>2005-10-31</td>\n",
       "      <td>534</td>\n",
       "    </tr>\n",
       "    <tr>\n",
       "      <th>59</th>\n",
       "      <td>2005-07-31</td>\n",
       "      <td>416</td>\n",
       "    </tr>\n",
       "    <tr>\n",
       "      <th>60</th>\n",
       "      <td>2005-04-30</td>\n",
       "      <td>475</td>\n",
       "    </tr>\n",
       "    <tr>\n",
       "      <th>61</th>\n",
       "      <td>2005-01-31</td>\n",
       "      <td>709</td>\n",
       "    </tr>\n",
       "  </tbody>\n",
       "</table>\n",
       "</div>"
      ],
      "text/plain": [
       "          Date Revenue\n",
       "57  2006-01-31    1667\n",
       "58  2005-10-31     534\n",
       "59  2005-07-31     416\n",
       "60  2005-04-30     475\n",
       "61  2005-01-31     709"
      ]
     },
     "execution_count": 43,
     "metadata": {},
     "output_type": "execute_result"
    }
   ],
   "source": [
    "tesla_revenue.dropna(inplace=True)\n",
    "tesla_revenue = tesla_revenue[tesla_revenue['Revenue'] != \"\"]\n",
    "gme_revenue.tail()"
   ]
  },
  {
   "cell_type": "markdown",
   "metadata": {},
   "source": [
    "## Question 5: Plot Tesla Stock Graph\n"
   ]
  },
  {
   "cell_type": "markdown",
   "metadata": {},
   "source": [
    "Use the `make_graph` function to graph the Tesla Stock Data, also provide a title for the graph. The structure to call the `make_graph` function is `make_graph(tesla_data, tesla_revenue, 'Tesla')`. Note the graph will only show data upto June 2021.\n"
   ]
  },
  {
   "cell_type": "code",
   "execution_count": 44,
   "metadata": {
    "tags": []
   },
   "outputs": [
    {
     "data": {
      "application/vnd.plotly.v1+json": {
       "config": {
        "plotlyServerURL": "https://plot.ly"
       },
       "data": [
        {
         "name": "Share Price",
         "type": "scatter",
         "x": [],
         "xaxis": "x",
         "y": [],
         "yaxis": "y"
        },
        {
         "name": "Revenue",
         "type": "scatter",
         "x": [
          "2021-03-31T00:00:00",
          "2020-12-31T00:00:00",
          "2020-09-30T00:00:00",
          "2020-06-30T00:00:00",
          "2020-03-31T00:00:00",
          "2019-12-31T00:00:00",
          "2019-09-30T00:00:00",
          "2019-06-30T00:00:00",
          "2019-03-31T00:00:00",
          "2018-12-31T00:00:00",
          "2018-09-30T00:00:00",
          "2018-06-30T00:00:00",
          "2018-03-31T00:00:00",
          "2017-12-31T00:00:00",
          "2017-09-30T00:00:00",
          "2017-06-30T00:00:00",
          "2017-03-31T00:00:00",
          "2016-12-31T00:00:00",
          "2016-09-30T00:00:00",
          "2016-06-30T00:00:00",
          "2016-03-31T00:00:00",
          "2015-12-31T00:00:00",
          "2015-09-30T00:00:00",
          "2015-06-30T00:00:00",
          "2015-03-31T00:00:00",
          "2014-12-31T00:00:00",
          "2014-09-30T00:00:00",
          "2014-06-30T00:00:00",
          "2014-03-31T00:00:00",
          "2013-12-31T00:00:00",
          "2013-09-30T00:00:00",
          "2013-06-30T00:00:00",
          "2013-03-31T00:00:00",
          "2012-12-31T00:00:00",
          "2012-09-30T00:00:00",
          "2012-06-30T00:00:00",
          "2012-03-31T00:00:00",
          "2011-12-31T00:00:00",
          "2011-09-30T00:00:00",
          "2011-06-30T00:00:00",
          "2011-03-31T00:00:00",
          "2010-12-31T00:00:00",
          "2010-09-30T00:00:00",
          "2010-06-30T00:00:00",
          "2010-03-31T00:00:00",
          "2009-09-30T00:00:00",
          "2009-06-30T00:00:00"
         ],
         "xaxis": "x2",
         "y": [
          10389,
          10744,
          8771,
          6036,
          5985,
          7384,
          6303,
          6350,
          4541,
          7226,
          6824,
          4002,
          3409,
          3288,
          2985,
          2790,
          2696,
          2285,
          2298,
          1270,
          1147,
          1214,
          937,
          955,
          940,
          957,
          852,
          769,
          621,
          615,
          431,
          405,
          562,
          306,
          50,
          27,
          30,
          39,
          58,
          58,
          49,
          36,
          31,
          28,
          21,
          46,
          27
         ],
         "yaxis": "y2"
        }
       ],
       "layout": {
        "annotations": [
         {
          "font": {
           "size": 16
          },
          "showarrow": false,
          "text": "Historical Share Price",
          "x": 0.5,
          "xanchor": "center",
          "xref": "paper",
          "y": 0.9999999999999999,
          "yanchor": "bottom",
          "yref": "paper"
         },
         {
          "font": {
           "size": 16
          },
          "showarrow": false,
          "text": "Historical Revenue",
          "x": 0.5,
          "xanchor": "center",
          "xref": "paper",
          "y": 0.35,
          "yanchor": "bottom",
          "yref": "paper"
         }
        ],
        "autosize": true,
        "showlegend": false,
        "template": {
         "data": {
          "bar": [
           {
            "error_x": {
             "color": "#2a3f5f"
            },
            "error_y": {
             "color": "#2a3f5f"
            },
            "marker": {
             "line": {
              "color": "#E5ECF6",
              "width": 0.5
             },
             "pattern": {
              "fillmode": "overlay",
              "size": 10,
              "solidity": 0.2
             }
            },
            "type": "bar"
           }
          ],
          "barpolar": [
           {
            "marker": {
             "line": {
              "color": "#E5ECF6",
              "width": 0.5
             },
             "pattern": {
              "fillmode": "overlay",
              "size": 10,
              "solidity": 0.2
             }
            },
            "type": "barpolar"
           }
          ],
          "carpet": [
           {
            "aaxis": {
             "endlinecolor": "#2a3f5f",
             "gridcolor": "white",
             "linecolor": "white",
             "minorgridcolor": "white",
             "startlinecolor": "#2a3f5f"
            },
            "baxis": {
             "endlinecolor": "#2a3f5f",
             "gridcolor": "white",
             "linecolor": "white",
             "minorgridcolor": "white",
             "startlinecolor": "#2a3f5f"
            },
            "type": "carpet"
           }
          ],
          "choropleth": [
           {
            "colorbar": {
             "outlinewidth": 0,
             "ticks": ""
            },
            "type": "choropleth"
           }
          ],
          "contour": [
           {
            "colorbar": {
             "outlinewidth": 0,
             "ticks": ""
            },
            "colorscale": [
             [
              0,
              "#0d0887"
             ],
             [
              0.1111111111111111,
              "#46039f"
             ],
             [
              0.2222222222222222,
              "#7201a8"
             ],
             [
              0.3333333333333333,
              "#9c179e"
             ],
             [
              0.4444444444444444,
              "#bd3786"
             ],
             [
              0.5555555555555556,
              "#d8576b"
             ],
             [
              0.6666666666666666,
              "#ed7953"
             ],
             [
              0.7777777777777778,
              "#fb9f3a"
             ],
             [
              0.8888888888888888,
              "#fdca26"
             ],
             [
              1,
              "#f0f921"
             ]
            ],
            "type": "contour"
           }
          ],
          "contourcarpet": [
           {
            "colorbar": {
             "outlinewidth": 0,
             "ticks": ""
            },
            "type": "contourcarpet"
           }
          ],
          "heatmap": [
           {
            "colorbar": {
             "outlinewidth": 0,
             "ticks": ""
            },
            "colorscale": [
             [
              0,
              "#0d0887"
             ],
             [
              0.1111111111111111,
              "#46039f"
             ],
             [
              0.2222222222222222,
              "#7201a8"
             ],
             [
              0.3333333333333333,
              "#9c179e"
             ],
             [
              0.4444444444444444,
              "#bd3786"
             ],
             [
              0.5555555555555556,
              "#d8576b"
             ],
             [
              0.6666666666666666,
              "#ed7953"
             ],
             [
              0.7777777777777778,
              "#fb9f3a"
             ],
             [
              0.8888888888888888,
              "#fdca26"
             ],
             [
              1,
              "#f0f921"
             ]
            ],
            "type": "heatmap"
           }
          ],
          "heatmapgl": [
           {
            "colorbar": {
             "outlinewidth": 0,
             "ticks": ""
            },
            "colorscale": [
             [
              0,
              "#0d0887"
             ],
             [
              0.1111111111111111,
              "#46039f"
             ],
             [
              0.2222222222222222,
              "#7201a8"
             ],
             [
              0.3333333333333333,
              "#9c179e"
             ],
             [
              0.4444444444444444,
              "#bd3786"
             ],
             [
              0.5555555555555556,
              "#d8576b"
             ],
             [
              0.6666666666666666,
              "#ed7953"
             ],
             [
              0.7777777777777778,
              "#fb9f3a"
             ],
             [
              0.8888888888888888,
              "#fdca26"
             ],
             [
              1,
              "#f0f921"
             ]
            ],
            "type": "heatmapgl"
           }
          ],
          "histogram": [
           {
            "marker": {
             "pattern": {
              "fillmode": "overlay",
              "size": 10,
              "solidity": 0.2
             }
            },
            "type": "histogram"
           }
          ],
          "histogram2d": [
           {
            "colorbar": {
             "outlinewidth": 0,
             "ticks": ""
            },
            "colorscale": [
             [
              0,
              "#0d0887"
             ],
             [
              0.1111111111111111,
              "#46039f"
             ],
             [
              0.2222222222222222,
              "#7201a8"
             ],
             [
              0.3333333333333333,
              "#9c179e"
             ],
             [
              0.4444444444444444,
              "#bd3786"
             ],
             [
              0.5555555555555556,
              "#d8576b"
             ],
             [
              0.6666666666666666,
              "#ed7953"
             ],
             [
              0.7777777777777778,
              "#fb9f3a"
             ],
             [
              0.8888888888888888,
              "#fdca26"
             ],
             [
              1,
              "#f0f921"
             ]
            ],
            "type": "histogram2d"
           }
          ],
          "histogram2dcontour": [
           {
            "colorbar": {
             "outlinewidth": 0,
             "ticks": ""
            },
            "colorscale": [
             [
              0,
              "#0d0887"
             ],
             [
              0.1111111111111111,
              "#46039f"
             ],
             [
              0.2222222222222222,
              "#7201a8"
             ],
             [
              0.3333333333333333,
              "#9c179e"
             ],
             [
              0.4444444444444444,
              "#bd3786"
             ],
             [
              0.5555555555555556,
              "#d8576b"
             ],
             [
              0.6666666666666666,
              "#ed7953"
             ],
             [
              0.7777777777777778,
              "#fb9f3a"
             ],
             [
              0.8888888888888888,
              "#fdca26"
             ],
             [
              1,
              "#f0f921"
             ]
            ],
            "type": "histogram2dcontour"
           }
          ],
          "mesh3d": [
           {
            "colorbar": {
             "outlinewidth": 0,
             "ticks": ""
            },
            "type": "mesh3d"
           }
          ],
          "parcoords": [
           {
            "line": {
             "colorbar": {
              "outlinewidth": 0,
              "ticks": ""
             }
            },
            "type": "parcoords"
           }
          ],
          "pie": [
           {
            "automargin": true,
            "type": "pie"
           }
          ],
          "scatter": [
           {
            "fillpattern": {
             "fillmode": "overlay",
             "size": 10,
             "solidity": 0.2
            },
            "type": "scatter"
           }
          ],
          "scatter3d": [
           {
            "line": {
             "colorbar": {
              "outlinewidth": 0,
              "ticks": ""
             }
            },
            "marker": {
             "colorbar": {
              "outlinewidth": 0,
              "ticks": ""
             }
            },
            "type": "scatter3d"
           }
          ],
          "scattercarpet": [
           {
            "marker": {
             "colorbar": {
              "outlinewidth": 0,
              "ticks": ""
             }
            },
            "type": "scattercarpet"
           }
          ],
          "scattergeo": [
           {
            "marker": {
             "colorbar": {
              "outlinewidth": 0,
              "ticks": ""
             }
            },
            "type": "scattergeo"
           }
          ],
          "scattergl": [
           {
            "marker": {
             "colorbar": {
              "outlinewidth": 0,
              "ticks": ""
             }
            },
            "type": "scattergl"
           }
          ],
          "scattermapbox": [
           {
            "marker": {
             "colorbar": {
              "outlinewidth": 0,
              "ticks": ""
             }
            },
            "type": "scattermapbox"
           }
          ],
          "scatterpolar": [
           {
            "marker": {
             "colorbar": {
              "outlinewidth": 0,
              "ticks": ""
             }
            },
            "type": "scatterpolar"
           }
          ],
          "scatterpolargl": [
           {
            "marker": {
             "colorbar": {
              "outlinewidth": 0,
              "ticks": ""
             }
            },
            "type": "scatterpolargl"
           }
          ],
          "scatterternary": [
           {
            "marker": {
             "colorbar": {
              "outlinewidth": 0,
              "ticks": ""
             }
            },
            "type": "scatterternary"
           }
          ],
          "surface": [
           {
            "colorbar": {
             "outlinewidth": 0,
             "ticks": ""
            },
            "colorscale": [
             [
              0,
              "#0d0887"
             ],
             [
              0.1111111111111111,
              "#46039f"
             ],
             [
              0.2222222222222222,
              "#7201a8"
             ],
             [
              0.3333333333333333,
              "#9c179e"
             ],
             [
              0.4444444444444444,
              "#bd3786"
             ],
             [
              0.5555555555555556,
              "#d8576b"
             ],
             [
              0.6666666666666666,
              "#ed7953"
             ],
             [
              0.7777777777777778,
              "#fb9f3a"
             ],
             [
              0.8888888888888888,
              "#fdca26"
             ],
             [
              1,
              "#f0f921"
             ]
            ],
            "type": "surface"
           }
          ],
          "table": [
           {
            "cells": {
             "fill": {
              "color": "#EBF0F8"
             },
             "line": {
              "color": "white"
             }
            },
            "header": {
             "fill": {
              "color": "#C8D4E3"
             },
             "line": {
              "color": "white"
             }
            },
            "type": "table"
           }
          ]
         },
         "layout": {
          "annotationdefaults": {
           "arrowcolor": "#2a3f5f",
           "arrowhead": 0,
           "arrowwidth": 1
          },
          "autotypenumbers": "strict",
          "coloraxis": {
           "colorbar": {
            "outlinewidth": 0,
            "ticks": ""
           }
          },
          "colorscale": {
           "diverging": [
            [
             0,
             "#8e0152"
            ],
            [
             0.1,
             "#c51b7d"
            ],
            [
             0.2,
             "#de77ae"
            ],
            [
             0.3,
             "#f1b6da"
            ],
            [
             0.4,
             "#fde0ef"
            ],
            [
             0.5,
             "#f7f7f7"
            ],
            [
             0.6,
             "#e6f5d0"
            ],
            [
             0.7,
             "#b8e186"
            ],
            [
             0.8,
             "#7fbc41"
            ],
            [
             0.9,
             "#4d9221"
            ],
            [
             1,
             "#276419"
            ]
           ],
           "sequential": [
            [
             0,
             "#0d0887"
            ],
            [
             0.1111111111111111,
             "#46039f"
            ],
            [
             0.2222222222222222,
             "#7201a8"
            ],
            [
             0.3333333333333333,
             "#9c179e"
            ],
            [
             0.4444444444444444,
             "#bd3786"
            ],
            [
             0.5555555555555556,
             "#d8576b"
            ],
            [
             0.6666666666666666,
             "#ed7953"
            ],
            [
             0.7777777777777778,
             "#fb9f3a"
            ],
            [
             0.8888888888888888,
             "#fdca26"
            ],
            [
             1,
             "#f0f921"
            ]
           ],
           "sequentialminus": [
            [
             0,
             "#0d0887"
            ],
            [
             0.1111111111111111,
             "#46039f"
            ],
            [
             0.2222222222222222,
             "#7201a8"
            ],
            [
             0.3333333333333333,
             "#9c179e"
            ],
            [
             0.4444444444444444,
             "#bd3786"
            ],
            [
             0.5555555555555556,
             "#d8576b"
            ],
            [
             0.6666666666666666,
             "#ed7953"
            ],
            [
             0.7777777777777778,
             "#fb9f3a"
            ],
            [
             0.8888888888888888,
             "#fdca26"
            ],
            [
             1,
             "#f0f921"
            ]
           ]
          },
          "colorway": [
           "#636efa",
           "#EF553B",
           "#00cc96",
           "#ab63fa",
           "#FFA15A",
           "#19d3f3",
           "#FF6692",
           "#B6E880",
           "#FF97FF",
           "#FECB52"
          ],
          "font": {
           "color": "#2a3f5f"
          },
          "geo": {
           "bgcolor": "white",
           "lakecolor": "white",
           "landcolor": "#E5ECF6",
           "showlakes": true,
           "showland": true,
           "subunitcolor": "white"
          },
          "hoverlabel": {
           "align": "left"
          },
          "hovermode": "closest",
          "mapbox": {
           "style": "light"
          },
          "paper_bgcolor": "white",
          "plot_bgcolor": "#E5ECF6",
          "polar": {
           "angularaxis": {
            "gridcolor": "white",
            "linecolor": "white",
            "ticks": ""
           },
           "bgcolor": "#E5ECF6",
           "radialaxis": {
            "gridcolor": "white",
            "linecolor": "white",
            "ticks": ""
           }
          },
          "scene": {
           "xaxis": {
            "backgroundcolor": "#E5ECF6",
            "gridcolor": "white",
            "gridwidth": 2,
            "linecolor": "white",
            "showbackground": true,
            "ticks": "",
            "zerolinecolor": "white"
           },
           "yaxis": {
            "backgroundcolor": "#E5ECF6",
            "gridcolor": "white",
            "gridwidth": 2,
            "linecolor": "white",
            "showbackground": true,
            "ticks": "",
            "zerolinecolor": "white"
           },
           "zaxis": {
            "backgroundcolor": "#E5ECF6",
            "gridcolor": "white",
            "gridwidth": 2,
            "linecolor": "white",
            "showbackground": true,
            "ticks": "",
            "zerolinecolor": "white"
           }
          },
          "shapedefaults": {
           "line": {
            "color": "#2a3f5f"
           }
          },
          "ternary": {
           "aaxis": {
            "gridcolor": "white",
            "linecolor": "white",
            "ticks": ""
           },
           "baxis": {
            "gridcolor": "white",
            "linecolor": "white",
            "ticks": ""
           },
           "bgcolor": "#E5ECF6",
           "caxis": {
            "gridcolor": "white",
            "linecolor": "white",
            "ticks": ""
           }
          },
          "title": {
           "x": 0.05
          },
          "xaxis": {
           "automargin": true,
           "gridcolor": "white",
           "linecolor": "white",
           "ticks": "",
           "title": {
            "standoff": 15
           },
           "zerolinecolor": "white",
           "zerolinewidth": 2
          },
          "yaxis": {
           "automargin": true,
           "gridcolor": "white",
           "linecolor": "white",
           "ticks": "",
           "title": {
            "standoff": 15
           },
           "zerolinecolor": "white",
           "zerolinewidth": 2
          }
         }
        },
        "title": {
         "text": "Tesla"
        },
        "xaxis": {
         "anchor": "y",
         "autorange": true,
         "domain": [
          0,
          1
         ],
         "matches": "x2",
         "range": [
          -1,
          6
         ],
         "rangeslider": {
          "autorange": true,
          "range": [
           -1,
           6
          ],
          "visible": true,
          "yaxis": {
           "_template": null,
           "rangemode": "match"
          }
         },
         "showticklabels": false,
         "title": {
          "text": "Date"
         }
        },
        "xaxis2": {
         "anchor": "y2",
         "autorange": true,
         "domain": [
          0,
          1
         ],
         "range": [
          "2009-06-30",
          "2021-03-31"
         ],
         "title": {
          "text": "Date"
         },
         "type": "date"
        },
        "yaxis": {
         "anchor": "x",
         "autorange": true,
         "domain": [
          0.6499999999999999,
          0.9999999999999999
         ],
         "range": [
          -1,
          4
         ],
         "title": {
          "text": "Price ($US)"
         }
        },
        "yaxis2": {
         "anchor": "x2",
         "autorange": true,
         "domain": [
          0,
          0.35
         ],
         "range": [
          -574.7222222222222,
          11339.722222222223
         ],
         "title": {
          "text": "Revenue ($US Millions)"
         },
         "type": "linear"
        }
       }
      },
      "image/png": "[encoded data removed]",
      "text/html": [
       "<div>                            <div id=\"e9296fb3-e5dd-4b36-ad28-8202de19b23a\" class=\"plotly-graph-div\" style=\"height:900px; width:100%;\"></div>            <script type=\"text/javascript\">                require([\"plotly\"], function(Plotly) {                    window.PLOTLYENV=window.PLOTLYENV || {};                                    if (document.getElementById(\"e9296fb3-e5dd-4b36-ad28-8202de19b23a\")) {                    Plotly.newPlot(                        \"e9296fb3-e5dd-4b36-ad28-8202de19b23a\",                        [{\"name\":\"Share Price\",\"x\":[],\"y\":[],\"type\":\"scatter\",\"xaxis\":\"x\",\"yaxis\":\"y\"},{\"name\":\"Revenue\",\"x\":[\"2021-03-31T00:00:00\",\"2020-12-31T00:00:00\",\"2020-09-30T00:00:00\",\"2020-06-30T00:00:00\",\"2020-03-31T00:00:00\",\"2019-12-31T00:00:00\",\"2019-09-30T00:00:00\",\"2019-06-30T00:00:00\",\"2019-03-31T00:00:00\",\"2018-12-31T00:00:00\",\"2018-09-30T00:00:00\",\"2018-06-30T00:00:00\",\"2018-03-31T00:00:00\",\"2017-12-31T00:00:00\",\"2017-09-30T00:00:00\",\"2017-06-30T00:00:00\",\"2017-03-31T00:00:00\",\"2016-12-31T00:00:00\",\"2016-09-30T00:00:00\",\"2016-06-30T00:00:00\",\"2016-03-31T00:00:00\",\"2015-12-31T00:00:00\",\"2015-09-30T00:00:00\",\"2015-06-30T00:00:00\",\"2015-03-31T00:00:00\",\"2014-12-31T00:00:00\",\"2014-09-30T00:00:00\",\"2014-06-30T00:00:00\",\"2014-03-31T00:00:00\",\"2013-12-31T00:00:00\",\"2013-09-30T00:00:00\",\"2013-06-30T00:00:00\",\"2013-03-31T00:00:00\",\"2012-12-31T00:00:00\",\"2012-09-30T00:00:00\",\"2012-06-30T00:00:00\",\"2012-03-31T00:00:00\",\"2011-12-31T00:00:00\",\"2011-09-30T00:00:00\",\"2011-06-30T00:00:00\",\"2011-03-31T00:00:00\",\"2010-12-31T00:00:00\",\"2010-09-30T00:00:00\",\"2010-06-30T00:00:00\",\"2010-03-31T00:00:00\",\"2009-09-30T00:00:00\",\"2009-06-30T00:00:00\"],\"y\":[10389.0,10744.0,8771.0,6036.0,5985.0,7384.0,6303.0,6350.0,4541.0,7226.0,6824.0,4002.0,3409.0,3288.0,2985.0,2790.0,2696.0,2285.0,2298.0,1270.0,1147.0,1214.0,937.0,955.0,940.0,957.0,852.0,769.0,621.0,615.0,431.0,405.0,562.0,306.0,50.0,27.0,30.0,39.0,58.0,58.0,49.0,36.0,31.0,28.0,21.0,46.0,27.0],\"type\":\"scatter\",\"xaxis\":\"x2\",\"yaxis\":\"y2\"}],                        {\"template\":{\"data\":{\"histogram2dcontour\":[{\"type\":\"histogram2dcontour\",\"colorbar\":{\"outlinewidth\":0,\"ticks\":\"\"},\"colorscale\":[[0.0,\"#0d0887\"],[0.1111111111111111,\"#46039f\"],[0.2222222222222222,\"#7201a8\"],[0.3333333333333333,\"#9c179e\"],[0.4444444444444444,\"#bd3786\"],[0.5555555555555556,\"#d8576b\"],[0.6666666666666666,\"#ed7953\"],[0.7777777777777778,\"#fb9f3a\"],[0.8888888888888888,\"#fdca26\"],[1.0,\"#f0f921\"]]}],\"choropleth\":[{\"type\":\"choropleth\",\"colorbar\":{\"outlinewidth\":0,\"ticks\":\"\"}}],\"histogram2d\":[{\"type\":\"histogram2d\",\"colorbar\":{\"outlinewidth\":0,\"ticks\":\"\"},\"colorscale\":[[0.0,\"#0d0887\"],[0.1111111111111111,\"#46039f\"],[0.2222222222222222,\"#7201a8\"],[0.3333333333333333,\"#9c179e\"],[0.4444444444444444,\"#bd3786\"],[0.5555555555555556,\"#d8576b\"],[0.6666666666666666,\"#ed7953\"],[0.7777777777777778,\"#fb9f3a\"],[0.8888888888888888,\"#fdca26\"],[1.0,\"#f0f921\"]]}],\"heatmap\":[{\"type\":\"heatmap\",\"colorbar\":{\"outlinewidth\":0,\"ticks\":\"\"},\"colorscale\":[[0.0,\"#0d0887\"],[0.1111111111111111,\"#46039f\"],[0.2222222222222222,\"#7201a8\"],[0.3333333333333333,\"#9c179e\"],[0.4444444444444444,\"#bd3786\"],[0.5555555555555556,\"#d8576b\"],[0.6666666666666666,\"#ed7953\"],[0.7777777777777778,\"#fb9f3a\"],[0.8888888888888888,\"#fdca26\"],[1.0,\"#f0f921\"]]}],\"heatmapgl\":[{\"type\":\"heatmapgl\",\"colorbar\":{\"outlinewidth\":0,\"ticks\":\"\"},\"colorscale\":[[0.0,\"#0d0887\"],[0.1111111111111111,\"#46039f\"],[0.2222222222222222,\"#7201a8\"],[0.3333333333333333,\"#9c179e\"],[0.4444444444444444,\"#bd3786\"],[0.5555555555555556,\"#d8576b\"],[0.6666666666666666,\"#ed7953\"],[0.7777777777777778,\"#fb9f3a\"],[0.8888888888888888,\"#fdca26\"],[1.0,\"#f0f921\"]]}],\"contourcarpet\":[{\"type\":\"contourcarpet\",\"colorbar\":{\"outlinewidth\":0,\"ticks\":\"\"}}],\"contour\":[{\"type\":\"contour\",\"colorbar\":{\"outlinewidth\":0,\"ticks\":\"\"},\"colorscale\":[[0.0,\"#0d0887\"],[0.1111111111111111,\"#46039f\"],[0.2222222222222222,\"#7201a8\"],[0.3333333333333333,\"#9c179e\"],[0.4444444444444444,\"#bd3786\"],[0.5555555555555556,\"#d8576b\"],[0.6666666666666666,\"#ed7953\"],[0.7777777777777778,\"#fb9f3a\"],[0.8888888888888888,\"#fdca26\"],[1.0,\"#f0f921\"]]}],\"surface\":[{\"type\":\"surface\",\"colorbar\":{\"outlinewidth\":0,\"ticks\":\"\"},\"colorscale\":[[0.0,\"#0d0887\"],[0.1111111111111111,\"#46039f\"],[0.2222222222222222,\"#7201a8\"],[0.3333333333333333,\"#9c179e\"],[0.4444444444444444,\"#bd3786\"],[0.5555555555555556,\"#d8576b\"],[0.6666666666666666,\"#ed7953\"],[0.7777777777777778,\"#fb9f3a\"],[0.8888888888888888,\"#fdca26\"],[1.0,\"#f0f921\"]]}],\"mesh3d\":[{\"type\":\"mesh3d\",\"colorbar\":{\"outlinewidth\":0,\"ticks\":\"\"}}],\"scatter\":[{\"fillpattern\":{\"fillmode\":\"overlay\",\"size\":10,\"solidity\":0.2},\"type\":\"scatter\"}],\"parcoords\":[{\"type\":\"parcoords\",\"line\":{\"colorbar\":{\"outlinewidth\":0,\"ticks\":\"\"}}}],\"scatterpolargl\":[{\"type\":\"scatterpolargl\",\"marker\":{\"colorbar\":{\"outlinewidth\":0,\"ticks\":\"\"}}}],\"bar\":[{\"error_x\":{\"color\":\"#2a3f5f\"},\"error_y\":{\"color\":\"#2a3f5f\"},\"marker\":{\"line\":{\"color\":\"#E5ECF6\",\"width\":0.5},\"pattern\":{\"fillmode\":\"overlay\",\"size\":10,\"solidity\":0.2}},\"type\":\"bar\"}],\"scattergeo\":[{\"type\":\"scattergeo\",\"marker\":{\"colorbar\":{\"outlinewidth\":0,\"ticks\":\"\"}}}],\"scatterpolar\":[{\"type\":\"scatterpolar\",\"marker\":{\"colorbar\":{\"outlinewidth\":0,\"ticks\":\"\"}}}],\"histogram\":[{\"marker\":{\"pattern\":{\"fillmode\":\"overlay\",\"size\":10,\"solidity\":0.2}},\"type\":\"histogram\"}],\"scattergl\":[{\"type\":\"scattergl\",\"marker\":{\"colorbar\":{\"outlinewidth\":0,\"ticks\":\"\"}}}],\"scatter3d\":[{\"type\":\"scatter3d\",\"line\":{\"colorbar\":{\"outlinewidth\":0,\"ticks\":\"\"}},\"marker\":{\"colorbar\":{\"outlinewidth\":0,\"ticks\":\"\"}}}],\"scattermapbox\":[{\"type\":\"scattermapbox\",\"marker\":{\"colorbar\":{\"outlinewidth\":0,\"ticks\":\"\"}}}],\"scatterternary\":[{\"type\":\"scatterternary\",\"marker\":{\"colorbar\":{\"outlinewidth\":0,\"ticks\":\"\"}}}],\"scattercarpet\":[{\"type\":\"scattercarpet\",\"marker\":{\"colorbar\":{\"outlinewidth\":0,\"ticks\":\"\"}}}],\"carpet\":[{\"aaxis\":{\"endlinecolor\":\"#2a3f5f\",\"gridcolor\":\"white\",\"linecolor\":\"white\",\"minorgridcolor\":\"white\",\"startlinecolor\":\"#2a3f5f\"},\"baxis\":{\"endlinecolor\":\"#2a3f5f\",\"gridcolor\":\"white\",\"linecolor\":\"white\",\"minorgridcolor\":\"white\",\"startlinecolor\":\"#2a3f5f\"},\"type\":\"carpet\"}],\"table\":[{\"cells\":{\"fill\":{\"color\":\"#EBF0F8\"},\"line\":{\"color\":\"white\"}},\"header\":{\"fill\":{\"color\":\"#C8D4E3\"},\"line\":{\"color\":\"white\"}},\"type\":\"table\"}],\"barpolar\":[{\"marker\":{\"line\":{\"color\":\"#E5ECF6\",\"width\":0.5},\"pattern\":{\"fillmode\":\"overlay\",\"size\":10,\"solidity\":0.2}},\"type\":\"barpolar\"}],\"pie\":[{\"automargin\":true,\"type\":\"pie\"}]},\"layout\":{\"autotypenumbers\":\"strict\",\"colorway\":[\"#636efa\",\"#EF553B\",\"#00cc96\",\"#ab63fa\",\"#FFA15A\",\"#19d3f3\",\"#FF6692\",\"#B6E880\",\"#FF97FF\",\"#FECB52\"],\"font\":{\"color\":\"#2a3f5f\"},\"hovermode\":\"closest\",\"hoverlabel\":{\"align\":\"left\"},\"paper_bgcolor\":\"white\",\"plot_bgcolor\":\"#E5ECF6\",\"polar\":{\"bgcolor\":\"#E5ECF6\",\"angularaxis\":{\"gridcolor\":\"white\",\"linecolor\":\"white\",\"ticks\":\"\"},\"radialaxis\":{\"gridcolor\":\"white\",\"linecolor\":\"white\",\"ticks\":\"\"}},\"ternary\":{\"bgcolor\":\"#E5ECF6\",\"aaxis\":{\"gridcolor\":\"white\",\"linecolor\":\"white\",\"ticks\":\"\"},\"baxis\":{\"gridcolor\":\"white\",\"linecolor\":\"white\",\"ticks\":\"\"},\"caxis\":{\"gridcolor\":\"white\",\"linecolor\":\"white\",\"ticks\":\"\"}},\"coloraxis\":{\"colorbar\":{\"outlinewidth\":0,\"ticks\":\"\"}},\"colorscale\":{\"sequential\":[[0.0,\"#0d0887\"],[0.1111111111111111,\"#46039f\"],[0.2222222222222222,\"#7201a8\"],[0.3333333333333333,\"#9c179e\"],[0.4444444444444444,\"#bd3786\"],[0.5555555555555556,\"#d8576b\"],[0.6666666666666666,\"#ed7953\"],[0.7777777777777778,\"#fb9f3a\"],[0.8888888888888888,\"#fdca26\"],[1.0,\"#f0f921\"]],\"sequentialminus\":[[0.0,\"#0d0887\"],[0.1111111111111111,\"#46039f\"],[0.2222222222222222,\"#7201a8\"],[0.3333333333333333,\"#9c179e\"],[0.4444444444444444,\"#bd3786\"],[0.5555555555555556,\"#d8576b\"],[0.6666666666666666,\"#ed7953\"],[0.7777777777777778,\"#fb9f3a\"],[0.8888888888888888,\"#fdca26\"],[1.0,\"#f0f921\"]],\"diverging\":[[0,\"#8e0152\"],[0.1,\"#c51b7d\"],[0.2,\"#de77ae\"],[0.3,\"#f1b6da\"],[0.4,\"#fde0ef\"],[0.5,\"#f7f7f7\"],[0.6,\"#e6f5d0\"],[0.7,\"#b8e186\"],[0.8,\"#7fbc41\"],[0.9,\"#4d9221\"],[1,\"#276419\"]]},\"xaxis\":{\"gridcolor\":\"white\",\"linecolor\":\"white\",\"ticks\":\"\",\"title\":{\"standoff\":15},\"zerolinecolor\":\"white\",\"automargin\":true,\"zerolinewidth\":2},\"yaxis\":{\"gridcolor\":\"white\",\"linecolor\":\"white\",\"ticks\":\"\",\"title\":{\"standoff\":15},\"zerolinecolor\":\"white\",\"automargin\":true,\"zerolinewidth\":2},\"scene\":{\"xaxis\":{\"backgroundcolor\":\"#E5ECF6\",\"gridcolor\":\"white\",\"linecolor\":\"white\",\"showbackground\":true,\"ticks\":\"\",\"zerolinecolor\":\"white\",\"gridwidth\":2},\"yaxis\":{\"backgroundcolor\":\"#E5ECF6\",\"gridcolor\":\"white\",\"linecolor\":\"white\",\"showbackground\":true,\"ticks\":\"\",\"zerolinecolor\":\"white\",\"gridwidth\":2},\"zaxis\":{\"backgroundcolor\":\"#E5ECF6\",\"gridcolor\":\"white\",\"linecolor\":\"white\",\"showbackground\":true,\"ticks\":\"\",\"zerolinecolor\":\"white\",\"gridwidth\":2}},\"shapedefaults\":{\"line\":{\"color\":\"#2a3f5f\"}},\"annotationdefaults\":{\"arrowcolor\":\"#2a3f5f\",\"arrowhead\":0,\"arrowwidth\":1},\"geo\":{\"bgcolor\":\"white\",\"landcolor\":\"#E5ECF6\",\"subunitcolor\":\"white\",\"showland\":true,\"showlakes\":true,\"lakecolor\":\"white\"},\"title\":{\"x\":0.05},\"mapbox\":{\"style\":\"light\"}}},\"xaxis\":{\"anchor\":\"y\",\"domain\":[0.0,1.0],\"matches\":\"x2\",\"showticklabels\":false,\"title\":{\"text\":\"Date\"},\"rangeslider\":{\"visible\":true}},\"yaxis\":{\"anchor\":\"x\",\"domain\":[0.6499999999999999,0.9999999999999999],\"title\":{\"text\":\"Price ($US)\"}},\"xaxis2\":{\"anchor\":\"y2\",\"domain\":[0.0,1.0],\"title\":{\"text\":\"Date\"}},\"yaxis2\":{\"anchor\":\"x2\",\"domain\":[0.0,0.35],\"title\":{\"text\":\"Revenue ($US Millions)\"}},\"annotations\":[{\"font\":{\"size\":16},\"showarrow\":false,\"text\":\"Historical Share Price\",\"x\":0.5,\"xanchor\":\"center\",\"xref\":\"paper\",\"y\":0.9999999999999999,\"yanchor\":\"bottom\",\"yref\":\"paper\"},{\"font\":{\"size\":16},\"showarrow\":false,\"text\":\"Historical Revenue\",\"x\":0.5,\"xanchor\":\"center\",\"xref\":\"paper\",\"y\":0.35,\"yanchor\":\"bottom\",\"yref\":\"paper\"}],\"showlegend\":false,\"height\":900,\"title\":{\"text\":\"Tesla\"}},                        {\"responsive\": true}                    ).then(function(){\n",
       "                            \n",
       "var gd = document.getElementById('e9296fb3-e5dd-4b36-ad28-8202de19b23a');\n",
       "var x = new MutationObserver(function (mutations, observer) {{\n",
       "        var display = window.getComputedStyle(gd).display;\n",
       "        if (!display || display === 'none') {{\n",
       "            console.log([gd, 'removed!']);\n",
       "            Plotly.purge(gd);\n",
       "            observer.disconnect();\n",
       "        }}\n",
       "}});\n",
       "\n",
       "// Listen for the removal of the full notebook cells\n",
       "var notebookContainer = gd.closest('#notebook-container');\n",
       "if (notebookContainer) {{\n",
       "    x.observe(notebookContainer, {childList: true});\n",
       "}}\n",
       "\n",
       "// Listen for the clearing of the current output cell\n",
       "var outputEl = gd.closest('.output');\n",
       "if (outputEl) {{\n",
       "    x.observe(outputEl, {childList: true});\n",
       "}}\n",
       "\n",
       "                        })                };                });            </script>        </div>"
      ]
     },
     "metadata": {},
     "output_type": "display_data"
    }
   ],
   "source": [
    "make_graph(tesla_data, tesla_revenue, 'Tesla')"
   ]
  },
  {
   "cell_type": "markdown",
   "metadata": {},
   "source": [
    "## Question 6: Plot GameStop Stock Graph\n"
   ]
  },
  {
   "cell_type": "markdown",
   "metadata": {},
   "source": [
    "Use the `make_graph` function to graph the GameStop Stock Data, also provide a title for the graph. The structure to call the `make_graph` function is `make_graph(gme_data, gme_revenue, 'GameStop')`. Note the graph will only show data upto June 2021.\n"
   ]
  },
  {
   "cell_type": "code",
   "execution_count": 45,
   "metadata": {
    "tags": []
   },
   "outputs": [
    {
     "data": {
      "application/vnd.plotly.v1+json": {
       "config": {
        "plotlyServerURL": "https://plot.ly"
       },
       "data": [
        {
         "name": "Share Price",
         "type": "scatter",
         "x": [],
         "xaxis": "x",
         "y": [],
         "yaxis": "y"
        },
        {
         "name": "Revenue",
         "type": "scatter",
         "x": [
          "2020-04-30T00:00:00",
          "2020-01-31T00:00:00",
          "2019-10-31T00:00:00",
          "2019-07-31T00:00:00",
          "2019-04-30T00:00:00",
          "2019-01-31T00:00:00",
          "2018-10-31T00:00:00",
          "2018-07-31T00:00:00",
          "2018-04-30T00:00:00",
          "2018-01-31T00:00:00",
          "2017-10-31T00:00:00",
          "2017-07-31T00:00:00",
          "2017-04-30T00:00:00",
          "2017-01-31T00:00:00",
          "2016-10-31T00:00:00",
          "2016-07-31T00:00:00",
          "2016-04-30T00:00:00",
          "2016-01-31T00:00:00",
          "2015-10-31T00:00:00",
          "2015-07-31T00:00:00",
          "2015-04-30T00:00:00",
          "2015-01-31T00:00:00",
          "2014-10-31T00:00:00",
          "2014-07-31T00:00:00",
          "2014-04-30T00:00:00",
          "2014-01-31T00:00:00",
          "2013-10-31T00:00:00",
          "2013-07-31T00:00:00",
          "2013-04-30T00:00:00",
          "2013-01-31T00:00:00",
          "2012-10-31T00:00:00",
          "2012-07-31T00:00:00",
          "2012-04-30T00:00:00",
          "2012-01-31T00:00:00",
          "2011-10-31T00:00:00",
          "2011-07-31T00:00:00",
          "2011-04-30T00:00:00",
          "2011-01-31T00:00:00",
          "2010-10-31T00:00:00",
          "2010-07-31T00:00:00",
          "2010-04-30T00:00:00",
          "2010-01-31T00:00:00",
          "2009-10-31T00:00:00",
          "2009-07-31T00:00:00",
          "2009-04-30T00:00:00",
          "2009-01-31T00:00:00",
          "2008-10-31T00:00:00",
          "2008-07-31T00:00:00",
          "2008-04-30T00:00:00",
          "2008-01-31T00:00:00",
          "2007-10-31T00:00:00",
          "2007-07-31T00:00:00",
          "2007-04-30T00:00:00",
          "2007-01-31T00:00:00",
          "2006-10-31T00:00:00",
          "2006-07-31T00:00:00",
          "2006-04-30T00:00:00",
          "2006-01-31T00:00:00",
          "2005-10-31T00:00:00",
          "2005-07-31T00:00:00",
          "2005-04-30T00:00:00",
          "2005-01-31T00:00:00"
         ],
         "xaxis": "x2",
         "y": [
          1021,
          2194,
          1439,
          1286,
          1548,
          3063,
          1935,
          1501,
          1786,
          2825,
          1989,
          1688,
          2046,
          2403,
          1959,
          1632,
          1972,
          3525,
          2016,
          1762,
          2061,
          3476,
          2092,
          1731,
          1996,
          3684,
          2107,
          1384,
          1865,
          3562,
          1773,
          1550,
          2002,
          3579,
          1947,
          1744,
          2281,
          3693,
          1899,
          1799,
          2083,
          3524,
          1835,
          1739,
          1981,
          3492,
          1696,
          1804,
          1814,
          2866,
          1611,
          1338,
          1279,
          2304,
          1012,
          963,
          1040,
          1667,
          534,
          416,
          475,
          709
         ],
         "yaxis": "y2"
        }
       ],
       "layout": {
        "annotations": [
         {
          "font": {
           "size": 16
          },
          "showarrow": false,
          "text": "Historical Share Price",
          "x": 0.5,
          "xanchor": "center",
          "xref": "paper",
          "y": 0.9999999999999999,
          "yanchor": "bottom",
          "yref": "paper"
         },
         {
          "font": {
           "size": 16
          },
          "showarrow": false,
          "text": "Historical Revenue",
          "x": 0.5,
          "xanchor": "center",
          "xref": "paper",
          "y": 0.35,
          "yanchor": "bottom",
          "yref": "paper"
         }
        ],
        "autosize": true,
        "showlegend": false,
        "template": {
         "data": {
          "bar": [
           {
            "error_x": {
             "color": "#2a3f5f"
            },
            "error_y": {
             "color": "#2a3f5f"
            },
            "marker": {
             "line": {
              "color": "#E5ECF6",
              "width": 0.5
             },
             "pattern": {
              "fillmode": "overlay",
              "size": 10,
              "solidity": 0.2
             }
            },
            "type": "bar"
           }
          ],
          "barpolar": [
           {
            "marker": {
             "line": {
              "color": "#E5ECF6",
              "width": 0.5
             },
             "pattern": {
              "fillmode": "overlay",
              "size": 10,
              "solidity": 0.2
             }
            },
            "type": "barpolar"
           }
          ],
          "carpet": [
           {
            "aaxis": {
             "endlinecolor": "#2a3f5f",
             "gridcolor": "white",
             "linecolor": "white",
             "minorgridcolor": "white",
             "startlinecolor": "#2a3f5f"
            },
            "baxis": {
             "endlinecolor": "#2a3f5f",
             "gridcolor": "white",
             "linecolor": "white",
             "minorgridcolor": "white",
             "startlinecolor": "#2a3f5f"
            },
            "type": "carpet"
           }
          ],
          "choropleth": [
           {
            "colorbar": {
             "outlinewidth": 0,
             "ticks": ""
            },
            "type": "choropleth"
           }
          ],
          "contour": [
           {
            "colorbar": {
             "outlinewidth": 0,
             "ticks": ""
            },
            "colorscale": [
             [
              0,
              "#0d0887"
             ],
             [
              0.1111111111111111,
              "#46039f"
             ],
             [
              0.2222222222222222,
              "#7201a8"
             ],
             [
              0.3333333333333333,
              "#9c179e"
             ],
             [
              0.4444444444444444,
              "#bd3786"
             ],
             [
              0.5555555555555556,
              "#d8576b"
             ],
             [
              0.6666666666666666,
              "#ed7953"
             ],
             [
              0.7777777777777778,
              "#fb9f3a"
             ],
             [
              0.8888888888888888,
              "#fdca26"
             ],
             [
              1,
              "#f0f921"
             ]
            ],
            "type": "contour"
           }
          ],
          "contourcarpet": [
           {
            "colorbar": {
             "outlinewidth": 0,
             "ticks": ""
            },
            "type": "contourcarpet"
           }
          ],
          "heatmap": [
           {
            "colorbar": {
             "outlinewidth": 0,
             "ticks": ""
            },
            "colorscale": [
             [
              0,
              "#0d0887"
             ],
             [
              0.1111111111111111,
              "#46039f"
             ],
             [
              0.2222222222222222,
              "#7201a8"
             ],
             [
              0.3333333333333333,
              "#9c179e"
             ],
             [
              0.4444444444444444,
              "#bd3786"
             ],
             [
              0.5555555555555556,
              "#d8576b"
             ],
             [
              0.6666666666666666,
              "#ed7953"
             ],
             [
              0.7777777777777778,
              "#fb9f3a"
             ],
             [
              0.8888888888888888,
              "#fdca26"
             ],
             [
              1,
              "#f0f921"
             ]
            ],
            "type": "heatmap"
           }
          ],
          "heatmapgl": [
           {
            "colorbar": {
             "outlinewidth": 0,
             "ticks": ""
            },
            "colorscale": [
             [
              0,
              "#0d0887"
             ],
             [
              0.1111111111111111,
              "#46039f"
             ],
             [
              0.2222222222222222,
              "#7201a8"
             ],
             [
              0.3333333333333333,
              "#9c179e"
             ],
             [
              0.4444444444444444,
              "#bd3786"
             ],
             [
              0.5555555555555556,
              "#d8576b"
             ],
             [
              0.6666666666666666,
              "#ed7953"
             ],
             [
              0.7777777777777778,
              "#fb9f3a"
             ],
             [
              0.8888888888888888,
              "#fdca26"
             ],
             [
              1,
              "#f0f921"
             ]
            ],
            "type": "heatmapgl"
           }
          ],
          "histogram": [
           {
            "marker": {
             "pattern": {
              "fillmode": "overlay",
              "size": 10,
              "solidity": 0.2
             }
            },
            "type": "histogram"
           }
          ],
          "histogram2d": [
           {
            "colorbar": {
             "outlinewidth": 0,
             "ticks": ""
            },
            "colorscale": [
             [
              0,
              "#0d0887"
             ],
             [
              0.1111111111111111,
              "#46039f"
             ],
             [
              0.2222222222222222,
              "#7201a8"
             ],
             [
              0.3333333333333333,
              "#9c179e"
             ],
             [
              0.4444444444444444,
              "#bd3786"
             ],
             [
              0.5555555555555556,
              "#d8576b"
             ],
             [
              0.6666666666666666,
              "#ed7953"
             ],
             [
              0.7777777777777778,
              "#fb9f3a"
             ],
             [
              0.8888888888888888,
              "#fdca26"
             ],
             [
              1,
              "#f0f921"
             ]
            ],
            "type": "histogram2d"
           }
          ],
          "histogram2dcontour": [
           {
            "colorbar": {
             "outlinewidth": 0,
             "ticks": ""
            },
            "colorscale": [
             [
              0,
              "#0d0887"
             ],
             [
              0.1111111111111111,
              "#46039f"
             ],
             [
              0.2222222222222222,
              "#7201a8"
             ],
             [
              0.3333333333333333,
              "#9c179e"
             ],
             [
              0.4444444444444444,
              "#bd3786"
             ],
             [
              0.5555555555555556,
              "#d8576b"
             ],
             [
              0.6666666666666666,
              "#ed7953"
             ],
             [
              0.7777777777777778,
              "#fb9f3a"
             ],
             [
              0.8888888888888888,
              "#fdca26"
             ],
             [
              1,
              "#f0f921"
             ]
            ],
            "type": "histogram2dcontour"
           }
          ],
          "mesh3d": [
           {
            "colorbar": {
             "outlinewidth": 0,
             "ticks": ""
            },
            "type": "mesh3d"
           }
          ],
          "parcoords": [
           {
            "line": {
             "colorbar": {
              "outlinewidth": 0,
              "ticks": ""
             }
            },
            "type": "parcoords"
           }
          ],
          "pie": [
           {
            "automargin": true,
            "type": "pie"
           }
          ],
          "scatter": [
           {
            "fillpattern": {
             "fillmode": "overlay",
             "size": 10,
             "solidity": 0.2
            },
            "type": "scatter"
           }
          ],
          "scatter3d": [
           {
            "line": {
             "colorbar": {
              "outlinewidth": 0,
              "ticks": ""
             }
            },
            "marker": {
             "colorbar": {
              "outlinewidth": 0,
              "ticks": ""
             }
            },
            "type": "scatter3d"
           }
          ],
          "scattercarpet": [
           {
            "marker": {
             "colorbar": {
              "outlinewidth": 0,
              "ticks": ""
             }
            },
            "type": "scattercarpet"
           }
          ],
          "scattergeo": [
           {
            "marker": {
             "colorbar": {
              "outlinewidth": 0,
              "ticks": ""
             }
            },
            "type": "scattergeo"
           }
          ],
          "scattergl": [
           {
            "marker": {
             "colorbar": {
              "outlinewidth": 0,
              "ticks": ""
             }
            },
            "type": "scattergl"
           }
          ],
          "scattermapbox": [
           {
            "marker": {
             "colorbar": {
              "outlinewidth": 0,
              "ticks": ""
             }
            },
            "type": "scattermapbox"
           }
          ],
          "scatterpolar": [
           {
            "marker": {
             "colorbar": {
              "outlinewidth": 0,
              "ticks": ""
             }
            },
            "type": "scatterpolar"
           }
          ],
          "scatterpolargl": [
           {
            "marker": {
             "colorbar": {
              "outlinewidth": 0,
              "ticks": ""
             }
            },
            "type": "scatterpolargl"
           }
          ],
          "scatterternary": [
           {
            "marker": {
             "colorbar": {
              "outlinewidth": 0,
              "ticks": ""
             }
            },
            "type": "scatterternary"
           }
          ],
          "surface": [
           {
            "colorbar": {
             "outlinewidth": 0,
             "ticks": ""
            },
            "colorscale": [
             [
              0,
              "#0d0887"
             ],
             [
              0.1111111111111111,
              "#46039f"
             ],
             [
              0.2222222222222222,
              "#7201a8"
             ],
             [
              0.3333333333333333,
              "#9c179e"
             ],
             [
              0.4444444444444444,
              "#bd3786"
             ],
             [
              0.5555555555555556,
              "#d8576b"
             ],
             [
              0.6666666666666666,
              "#ed7953"
             ],
             [
              0.7777777777777778,
              "#fb9f3a"
             ],
             [
              0.8888888888888888,
              "#fdca26"
             ],
             [
              1,
              "#f0f921"
             ]
            ],
            "type": "surface"
           }
          ],
          "table": [
           {
            "cells": {
             "fill": {
              "color": "#EBF0F8"
             },
             "line": {
              "color": "white"
             }
            },
            "header": {
             "fill": {
              "color": "#C8D4E3"
             },
             "line": {
              "color": "white"
             }
            },
            "type": "table"
           }
          ]
         },
         "layout": {
          "annotationdefaults": {
           "arrowcolor": "#2a3f5f",
           "arrowhead": 0,
           "arrowwidth": 1
          },
          "autotypenumbers": "strict",
          "coloraxis": {
           "colorbar": {
            "outlinewidth": 0,
            "ticks": ""
           }
          },
          "colorscale": {
           "diverging": [
            [
             0,
             "#8e0152"
            ],
            [
             0.1,
             "#c51b7d"
            ],
            [
             0.2,
             "#de77ae"
            ],
            [
             0.3,
             "#f1b6da"
            ],
            [
             0.4,
             "#fde0ef"
            ],
            [
             0.5,
             "#f7f7f7"
            ],
            [
             0.6,
             "#e6f5d0"
            ],
            [
             0.7,
             "#b8e186"
            ],
            [
             0.8,
             "#7fbc41"
            ],
            [
             0.9,
             "#4d9221"
            ],
            [
             1,
             "#276419"
            ]
           ],
           "sequential": [
            [
             0,
             "#0d0887"
            ],
            [
             0.1111111111111111,
             "#46039f"
            ],
            [
             0.2222222222222222,
             "#7201a8"
            ],
            [
             0.3333333333333333,
             "#9c179e"
            ],
            [
             0.4444444444444444,
             "#bd3786"
            ],
            [
             0.5555555555555556,
             "#d8576b"
            ],
            [
             0.6666666666666666,
             "#ed7953"
            ],
            [
             0.7777777777777778,
             "#fb9f3a"
            ],
            [
             0.8888888888888888,
             "#fdca26"
            ],
            [
             1,
             "#f0f921"
            ]
           ],
           "sequentialminus": [
            [
             0,
             "#0d0887"
            ],
            [
             0.1111111111111111,
             "#46039f"
            ],
            [
             0.2222222222222222,
             "#7201a8"
            ],
            [
             0.3333333333333333,
             "#9c179e"
            ],
            [
             0.4444444444444444,
             "#bd3786"
            ],
            [
             0.5555555555555556,
             "#d8576b"
            ],
            [
             0.6666666666666666,
             "#ed7953"
            ],
            [
             0.7777777777777778,
             "#fb9f3a"
            ],
            [
             0.8888888888888888,
             "#fdca26"
            ],
            [
             1,
             "#f0f921"
            ]
           ]
          },
          "colorway": [
           "#636efa",
           "#EF553B",
           "#00cc96",
           "#ab63fa",
           "#FFA15A",
           "#19d3f3",
           "#FF6692",
           "#B6E880",
           "#FF97FF",
           "#FECB52"
          ],
          "font": {
           "color": "#2a3f5f"
          },
          "geo": {
           "bgcolor": "white",
           "lakecolor": "white",
           "landcolor": "#E5ECF6",
           "showlakes": true,
           "showland": true,
           "subunitcolor": "white"
          },
          "hoverlabel": {
           "align": "left"
          },
          "hovermode": "closest",
          "mapbox": {
           "style": "light"
          },
          "paper_bgcolor": "white",
          "plot_bgcolor": "#E5ECF6",
          "polar": {
           "angularaxis": {
            "gridcolor": "white",
            "linecolor": "white",
            "ticks": ""
           },
           "bgcolor": "#E5ECF6",
           "radialaxis": {
            "gridcolor": "white",
            "linecolor": "white",
            "ticks": ""
           }
          },
          "scene": {
           "xaxis": {
            "backgroundcolor": "#E5ECF6",
            "gridcolor": "white",
            "gridwidth": 2,
            "linecolor": "white",
            "showbackground": true,
            "ticks": "",
            "zerolinecolor": "white"
           },
           "yaxis": {
            "backgroundcolor": "#E5ECF6",
            "gridcolor": "white",
            "gridwidth": 2,
            "linecolor": "white",
            "showbackground": true,
            "ticks": "",
            "zerolinecolor": "white"
           },
           "zaxis": {
            "backgroundcolor": "#E5ECF6",
            "gridcolor": "white",
            "gridwidth": 2,
            "linecolor": "white",
            "showbackground": true,
            "ticks": "",
            "zerolinecolor": "white"
           }
          },
          "shapedefaults": {
           "line": {
            "color": "#2a3f5f"
           }
          },
          "ternary": {
           "aaxis": {
            "gridcolor": "white",
            "linecolor": "white",
            "ticks": ""
           },
           "baxis": {
            "gridcolor": "white",
            "linecolor": "white",
            "ticks": ""
           },
           "bgcolor": "#E5ECF6",
           "caxis": {
            "gridcolor": "white",
            "linecolor": "white",
            "ticks": ""
           }
          },
          "title": {
           "x": 0.05
          },
          "xaxis": {
           "automargin": true,
           "gridcolor": "white",
           "linecolor": "white",
           "ticks": "",
           "title": {
            "standoff": 15
           },
           "zerolinecolor": "white",
           "zerolinewidth": 2
          },
          "yaxis": {
           "automargin": true,
           "gridcolor": "white",
           "linecolor": "white",
           "ticks": "",
           "title": {
            "standoff": 15
           },
           "zerolinecolor": "white",
           "zerolinewidth": 2
          }
         }
        },
        "title": {
         "text": "GameStop"
        },
        "xaxis": {
         "anchor": "y",
         "autorange": true,
         "domain": [
          0,
          1
         ],
         "matches": "x2",
         "range": [
          -1,
          6
         ],
         "rangeslider": {
          "autorange": true,
          "range": [
           -1,
           6
          ],
          "visible": true,
          "yaxis": {
           "_template": null,
           "rangemode": "match"
          }
         },
         "showticklabels": false,
         "title": {
          "text": "Date"
         }
        },
        "xaxis2": {
         "anchor": "y2",
         "autorange": true,
         "domain": [
          0,
          1
         ],
         "range": [
          "2005-01-31",
          "2020-04-30"
         ],
         "title": {
          "text": "Date"
         },
         "type": "date"
        },
        "yaxis": {
         "anchor": "x",
         "autorange": true,
         "domain": [
          0.6499999999999999,
          0.9999999999999999
         ],
         "range": [
          -1,
          4
         ],
         "title": {
          "text": "Price ($US)"
         }
        },
        "yaxis2": {
         "anchor": "x2",
         "autorange": true,
         "domain": [
          0,
          0.35
         ],
         "range": [
          233.94444444444443,
          3875.0555555555557
         ],
         "title": {
          "text": "Revenue ($US Millions)"
         },
         "type": "linear"
        }
       }
      },
      "image/png": "[encoded data removed]",
      "text/html": [
       "<div>                            <div id=\"9c5b6d64-15d8-4468-b008-ec19c173a55c\" class=\"plotly-graph-div\" style=\"height:900px; width:100%;\"></div>            <script type=\"text/javascript\">                require([\"plotly\"], function(Plotly) {                    window.PLOTLYENV=window.PLOTLYENV || {};                                    if (document.getElementById(\"9c5b6d64-15d8-4468-b008-ec19c173a55c\")) {                    Plotly.newPlot(                        \"9c5b6d64-15d8-4468-b008-ec19c173a55c\",                        [{\"name\":\"Share Price\",\"x\":[],\"y\":[],\"type\":\"scatter\",\"xaxis\":\"x\",\"yaxis\":\"y\"},{\"name\":\"Revenue\",\"x\":[\"2020-04-30T00:00:00\",\"2020-01-31T00:00:00\",\"2019-10-31T00:00:00\",\"2019-07-31T00:00:00\",\"2019-04-30T00:00:00\",\"2019-01-31T00:00:00\",\"2018-10-31T00:00:00\",\"2018-07-31T00:00:00\",\"2018-04-30T00:00:00\",\"2018-01-31T00:00:00\",\"2017-10-31T00:00:00\",\"2017-07-31T00:00:00\",\"2017-04-30T00:00:00\",\"2017-01-31T00:00:00\",\"2016-10-31T00:00:00\",\"2016-07-31T00:00:00\",\"2016-04-30T00:00:00\",\"2016-01-31T00:00:00\",\"2015-10-31T00:00:00\",\"2015-07-31T00:00:00\",\"2015-04-30T00:00:00\",\"2015-01-31T00:00:00\",\"2014-10-31T00:00:00\",\"2014-07-31T00:00:00\",\"2014-04-30T00:00:00\",\"2014-01-31T00:00:00\",\"2013-10-31T00:00:00\",\"2013-07-31T00:00:00\",\"2013-04-30T00:00:00\",\"2013-01-31T00:00:00\",\"2012-10-31T00:00:00\",\"2012-07-31T00:00:00\",\"2012-04-30T00:00:00\",\"2012-01-31T00:00:00\",\"2011-10-31T00:00:00\",\"2011-07-31T00:00:00\",\"2011-04-30T00:00:00\",\"2011-01-31T00:00:00\",\"2010-10-31T00:00:00\",\"2010-07-31T00:00:00\",\"2010-04-30T00:00:00\",\"2010-01-31T00:00:00\",\"2009-10-31T00:00:00\",\"2009-07-31T00:00:00\",\"2009-04-30T00:00:00\",\"2009-01-31T00:00:00\",\"2008-10-31T00:00:00\",\"2008-07-31T00:00:00\",\"2008-04-30T00:00:00\",\"2008-01-31T00:00:00\",\"2007-10-31T00:00:00\",\"2007-07-31T00:00:00\",\"2007-04-30T00:00:00\",\"2007-01-31T00:00:00\",\"2006-10-31T00:00:00\",\"2006-07-31T00:00:00\",\"2006-04-30T00:00:00\",\"2006-01-31T00:00:00\",\"2005-10-31T00:00:00\",\"2005-07-31T00:00:00\",\"2005-04-30T00:00:00\",\"2005-01-31T00:00:00\"],\"y\":[1021.0,2194.0,1439.0,1286.0,1548.0,3063.0,1935.0,1501.0,1786.0,2825.0,1989.0,1688.0,2046.0,2403.0,1959.0,1632.0,1972.0,3525.0,2016.0,1762.0,2061.0,3476.0,2092.0,1731.0,1996.0,3684.0,2107.0,1384.0,1865.0,3562.0,1773.0,1550.0,2002.0,3579.0,1947.0,1744.0,2281.0,3693.0,1899.0,1799.0,2083.0,3524.0,1835.0,1739.0,1981.0,3492.0,1696.0,1804.0,1814.0,2866.0,1611.0,1338.0,1279.0,2304.0,1012.0,963.0,1040.0,1667.0,534.0,416.0,475.0,709.0],\"type\":\"scatter\",\"xaxis\":\"x2\",\"yaxis\":\"y2\"}],                        {\"template\":{\"data\":{\"histogram2dcontour\":[{\"type\":\"histogram2dcontour\",\"colorbar\":{\"outlinewidth\":0,\"ticks\":\"\"},\"colorscale\":[[0.0,\"#0d0887\"],[0.1111111111111111,\"#46039f\"],[0.2222222222222222,\"#7201a8\"],[0.3333333333333333,\"#9c179e\"],[0.4444444444444444,\"#bd3786\"],[0.5555555555555556,\"#d8576b\"],[0.6666666666666666,\"#ed7953\"],[0.7777777777777778,\"#fb9f3a\"],[0.8888888888888888,\"#fdca26\"],[1.0,\"#f0f921\"]]}],\"choropleth\":[{\"type\":\"choropleth\",\"colorbar\":{\"outlinewidth\":0,\"ticks\":\"\"}}],\"histogram2d\":[{\"type\":\"histogram2d\",\"colorbar\":{\"outlinewidth\":0,\"ticks\":\"\"},\"colorscale\":[[0.0,\"#0d0887\"],[0.1111111111111111,\"#46039f\"],[0.2222222222222222,\"#7201a8\"],[0.3333333333333333,\"#9c179e\"],[0.4444444444444444,\"#bd3786\"],[0.5555555555555556,\"#d8576b\"],[0.6666666666666666,\"#ed7953\"],[0.7777777777777778,\"#fb9f3a\"],[0.8888888888888888,\"#fdca26\"],[1.0,\"#f0f921\"]]}],\"heatmap\":[{\"type\":\"heatmap\",\"colorbar\":{\"outlinewidth\":0,\"ticks\":\"\"},\"colorscale\":[[0.0,\"#0d0887\"],[0.1111111111111111,\"#46039f\"],[0.2222222222222222,\"#7201a8\"],[0.3333333333333333,\"#9c179e\"],[0.4444444444444444,\"#bd3786\"],[0.5555555555555556,\"#d8576b\"],[0.6666666666666666,\"#ed7953\"],[0.7777777777777778,\"#fb9f3a\"],[0.8888888888888888,\"#fdca26\"],[1.0,\"#f0f921\"]]}],\"heatmapgl\":[{\"type\":\"heatmapgl\",\"colorbar\":{\"outlinewidth\":0,\"ticks\":\"\"},\"colorscale\":[[0.0,\"#0d0887\"],[0.1111111111111111,\"#46039f\"],[0.2222222222222222,\"#7201a8\"],[0.3333333333333333,\"#9c179e\"],[0.4444444444444444,\"#bd3786\"],[0.5555555555555556,\"#d8576b\"],[0.6666666666666666,\"#ed7953\"],[0.7777777777777778,\"#fb9f3a\"],[0.8888888888888888,\"#fdca26\"],[1.0,\"#f0f921\"]]}],\"contourcarpet\":[{\"type\":\"contourcarpet\",\"colorbar\":{\"outlinewidth\":0,\"ticks\":\"\"}}],\"contour\":[{\"type\":\"contour\",\"colorbar\":{\"outlinewidth\":0,\"ticks\":\"\"},\"colorscale\":[[0.0,\"#0d0887\"],[0.1111111111111111,\"#46039f\"],[0.2222222222222222,\"#7201a8\"],[0.3333333333333333,\"#9c179e\"],[0.4444444444444444,\"#bd3786\"],[0.5555555555555556,\"#d8576b\"],[0.6666666666666666,\"#ed7953\"],[0.7777777777777778,\"#fb9f3a\"],[0.8888888888888888,\"#fdca26\"],[1.0,\"#f0f921\"]]}],\"surface\":[{\"type\":\"surface\",\"colorbar\":{\"outlinewidth\":0,\"ticks\":\"\"},\"colorscale\":[[0.0,\"#0d0887\"],[0.1111111111111111,\"#46039f\"],[0.2222222222222222,\"#7201a8\"],[0.3333333333333333,\"#9c179e\"],[0.4444444444444444,\"#bd3786\"],[0.5555555555555556,\"#d8576b\"],[0.6666666666666666,\"#ed7953\"],[0.7777777777777778,\"#fb9f3a\"],[0.8888888888888888,\"#fdca26\"],[1.0,\"#f0f921\"]]}],\"mesh3d\":[{\"type\":\"mesh3d\",\"colorbar\":{\"outlinewidth\":0,\"ticks\":\"\"}}],\"scatter\":[{\"fillpattern\":{\"fillmode\":\"overlay\",\"size\":10,\"solidity\":0.2},\"type\":\"scatter\"}],\"parcoords\":[{\"type\":\"parcoords\",\"line\":{\"colorbar\":{\"outlinewidth\":0,\"ticks\":\"\"}}}],\"scatterpolargl\":[{\"type\":\"scatterpolargl\",\"marker\":{\"colorbar\":{\"outlinewidth\":0,\"ticks\":\"\"}}}],\"bar\":[{\"error_x\":{\"color\":\"#2a3f5f\"},\"error_y\":{\"color\":\"#2a3f5f\"},\"marker\":{\"line\":{\"color\":\"#E5ECF6\",\"width\":0.5},\"pattern\":{\"fillmode\":\"overlay\",\"size\":10,\"solidity\":0.2}},\"type\":\"bar\"}],\"scattergeo\":[{\"type\":\"scattergeo\",\"marker\":{\"colorbar\":{\"outlinewidth\":0,\"ticks\":\"\"}}}],\"scatterpolar\":[{\"type\":\"scatterpolar\",\"marker\":{\"colorbar\":{\"outlinewidth\":0,\"ticks\":\"\"}}}],\"histogram\":[{\"marker\":{\"pattern\":{\"fillmode\":\"overlay\",\"size\":10,\"solidity\":0.2}},\"type\":\"histogram\"}],\"scattergl\":[{\"type\":\"scattergl\",\"marker\":{\"colorbar\":{\"outlinewidth\":0,\"ticks\":\"\"}}}],\"scatter3d\":[{\"type\":\"scatter3d\",\"line\":{\"colorbar\":{\"outlinewidth\":0,\"ticks\":\"\"}},\"marker\":{\"colorbar\":{\"outlinewidth\":0,\"ticks\":\"\"}}}],\"scattermapbox\":[{\"type\":\"scattermapbox\",\"marker\":{\"colorbar\":{\"outlinewidth\":0,\"ticks\":\"\"}}}],\"scatterternary\":[{\"type\":\"scatterternary\",\"marker\":{\"colorbar\":{\"outlinewidth\":0,\"ticks\":\"\"}}}],\"scattercarpet\":[{\"type\":\"scattercarpet\",\"marker\":{\"colorbar\":{\"outlinewidth\":0,\"ticks\":\"\"}}}],\"carpet\":[{\"aaxis\":{\"endlinecolor\":\"#2a3f5f\",\"gridcolor\":\"white\",\"linecolor\":\"white\",\"minorgridcolor\":\"white\",\"startlinecolor\":\"#2a3f5f\"},\"baxis\":{\"endlinecolor\":\"#2a3f5f\",\"gridcolor\":\"white\",\"linecolor\":\"white\",\"minorgridcolor\":\"white\",\"startlinecolor\":\"#2a3f5f\"},\"type\":\"carpet\"}],\"table\":[{\"cells\":{\"fill\":{\"color\":\"#EBF0F8\"},\"line\":{\"color\":\"white\"}},\"header\":{\"fill\":{\"color\":\"#C8D4E3\"},\"line\":{\"color\":\"white\"}},\"type\":\"table\"}],\"barpolar\":[{\"marker\":{\"line\":{\"color\":\"#E5ECF6\",\"width\":0.5},\"pattern\":{\"fillmode\":\"overlay\",\"size\":10,\"solidity\":0.2}},\"type\":\"barpolar\"}],\"pie\":[{\"automargin\":true,\"type\":\"pie\"}]},\"layout\":{\"autotypenumbers\":\"strict\",\"colorway\":[\"#636efa\",\"#EF553B\",\"#00cc96\",\"#ab63fa\",\"#FFA15A\",\"#19d3f3\",\"#FF6692\",\"#B6E880\",\"#FF97FF\",\"#FECB52\"],\"font\":{\"color\":\"#2a3f5f\"},\"hovermode\":\"closest\",\"hoverlabel\":{\"align\":\"left\"},\"paper_bgcolor\":\"white\",\"plot_bgcolor\":\"#E5ECF6\",\"polar\":{\"bgcolor\":\"#E5ECF6\",\"angularaxis\":{\"gridcolor\":\"white\",\"linecolor\":\"white\",\"ticks\":\"\"},\"radialaxis\":{\"gridcolor\":\"white\",\"linecolor\":\"white\",\"ticks\":\"\"}},\"ternary\":{\"bgcolor\":\"#E5ECF6\",\"aaxis\":{\"gridcolor\":\"white\",\"linecolor\":\"white\",\"ticks\":\"\"},\"baxis\":{\"gridcolor\":\"white\",\"linecolor\":\"white\",\"ticks\":\"\"},\"caxis\":{\"gridcolor\":\"white\",\"linecolor\":\"white\",\"ticks\":\"\"}},\"coloraxis\":{\"colorbar\":{\"outlinewidth\":0,\"ticks\":\"\"}},\"colorscale\":{\"sequential\":[[0.0,\"#0d0887\"],[0.1111111111111111,\"#46039f\"],[0.2222222222222222,\"#7201a8\"],[0.3333333333333333,\"#9c179e\"],[0.4444444444444444,\"#bd3786\"],[0.5555555555555556,\"#d8576b\"],[0.6666666666666666,\"#ed7953\"],[0.7777777777777778,\"#fb9f3a\"],[0.8888888888888888,\"#fdca26\"],[1.0,\"#f0f921\"]],\"sequentialminus\":[[0.0,\"#0d0887\"],[0.1111111111111111,\"#46039f\"],[0.2222222222222222,\"#7201a8\"],[0.3333333333333333,\"#9c179e\"],[0.4444444444444444,\"#bd3786\"],[0.5555555555555556,\"#d8576b\"],[0.6666666666666666,\"#ed7953\"],[0.7777777777777778,\"#fb9f3a\"],[0.8888888888888888,\"#fdca26\"],[1.0,\"#f0f921\"]],\"diverging\":[[0,\"#8e0152\"],[0.1,\"#c51b7d\"],[0.2,\"#de77ae\"],[0.3,\"#f1b6da\"],[0.4,\"#fde0ef\"],[0.5,\"#f7f7f7\"],[0.6,\"#e6f5d0\"],[0.7,\"#b8e186\"],[0.8,\"#7fbc41\"],[0.9,\"#4d9221\"],[1,\"#276419\"]]},\"xaxis\":{\"gridcolor\":\"white\",\"linecolor\":\"white\",\"ticks\":\"\",\"title\":{\"standoff\":15},\"zerolinecolor\":\"white\",\"automargin\":true,\"zerolinewidth\":2},\"yaxis\":{\"gridcolor\":\"white\",\"linecolor\":\"white\",\"ticks\":\"\",\"title\":{\"standoff\":15},\"zerolinecolor\":\"white\",\"automargin\":true,\"zerolinewidth\":2},\"scene\":{\"xaxis\":{\"backgroundcolor\":\"#E5ECF6\",\"gridcolor\":\"white\",\"linecolor\":\"white\",\"showbackground\":true,\"ticks\":\"\",\"zerolinecolor\":\"white\",\"gridwidth\":2},\"yaxis\":{\"backgroundcolor\":\"#E5ECF6\",\"gridcolor\":\"white\",\"linecolor\":\"white\",\"showbackground\":true,\"ticks\":\"\",\"zerolinecolor\":\"white\",\"gridwidth\":2},\"zaxis\":{\"backgroundcolor\":\"#E5ECF6\",\"gridcolor\":\"white\",\"linecolor\":\"white\",\"showbackground\":true,\"ticks\":\"\",\"zerolinecolor\":\"white\",\"gridwidth\":2}},\"shapedefaults\":{\"line\":{\"color\":\"#2a3f5f\"}},\"annotationdefaults\":{\"arrowcolor\":\"#2a3f5f\",\"arrowhead\":0,\"arrowwidth\":1},\"geo\":{\"bgcolor\":\"white\",\"landcolor\":\"#E5ECF6\",\"subunitcolor\":\"white\",\"showland\":true,\"showlakes\":true,\"lakecolor\":\"white\"},\"title\":{\"x\":0.05},\"mapbox\":{\"style\":\"light\"}}},\"xaxis\":{\"anchor\":\"y\",\"domain\":[0.0,1.0],\"matches\":\"x2\",\"showticklabels\":false,\"title\":{\"text\":\"Date\"},\"rangeslider\":{\"visible\":true}},\"yaxis\":{\"anchor\":\"x\",\"domain\":[0.6499999999999999,0.9999999999999999],\"title\":{\"text\":\"Price ($US)\"}},\"xaxis2\":{\"anchor\":\"y2\",\"domain\":[0.0,1.0],\"title\":{\"text\":\"Date\"}},\"yaxis2\":{\"anchor\":\"x2\",\"domain\":[0.0,0.35],\"title\":{\"text\":\"Revenue ($US Millions)\"}},\"annotations\":[{\"font\":{\"size\":16},\"showarrow\":false,\"text\":\"Historical Share Price\",\"x\":0.5,\"xanchor\":\"center\",\"xref\":\"paper\",\"y\":0.9999999999999999,\"yanchor\":\"bottom\",\"yref\":\"paper\"},{\"font\":{\"size\":16},\"showarrow\":false,\"text\":\"Historical Revenue\",\"x\":0.5,\"xanchor\":\"center\",\"xref\":\"paper\",\"y\":0.35,\"yanchor\":\"bottom\",\"yref\":\"paper\"}],\"showlegend\":false,\"height\":900,\"title\":{\"text\":\"GameStop\"}},                        {\"responsive\": true}                    ).then(function(){\n",
       "                            \n",
       "var gd = document.getElementById('9c5b6d64-15d8-4468-b008-ec19c173a55c');\n",
       "var x = new MutationObserver(function (mutations, observer) {{\n",
       "        var display = window.getComputedStyle(gd).display;\n",
       "        if (!display || display === 'none') {{\n",
       "            console.log([gd, 'removed!']);\n",
       "            Plotly.purge(gd);\n",
       "            observer.disconnect();\n",
       "        }}\n",
       "}});\n",
       "\n",
       "// Listen for the removal of the full notebook cells\n",
       "var notebookContainer = gd.closest('#notebook-container');\n",
       "if (notebookContainer) {{\n",
       "    x.observe(notebookContainer, {childList: true});\n",
       "}}\n",
       "\n",
       "// Listen for the clearing of the current output cell\n",
       "var outputEl = gd.closest('.output');\n",
       "if (outputEl) {{\n",
       "    x.observe(outputEl, {childList: true});\n",
       "}}\n",
       "\n",
       "                        })                };                });            </script>        </div>"
      ]
     },
     "metadata": {},
     "output_type": "display_data"
    }
   ],
   "source": [
    "make_graph(gme_data, gme_revenue, 'GameStop')"
   ]
  },
  {
   "cell_type": "markdown",
   "metadata": {},
   "source": [
    "<h2>About the Authors:</h2> \n",
    "\n",
    "<a href=\"https://www.linkedin.com/in/joseph-s-50398b136/\">Joseph Santarcangelo</a> has a PhD in Electrical Engineering, his research focused on using machine learning, signal processing, and computer vision to determine how videos impact human cognition. Joseph has been working for IBM since he completed his PhD.\n",
    "\n",
    "Azim Hirjani\n"
   ]
  },
  {
   "cell_type": "markdown",
   "metadata": {},
   "source": [
    "## Change Log\n",
    "\n",
    "| Date (YYYY-MM-DD) | Version | Changed By    | Change Description        |\n",
    "| ----------------- | ------- | ------------- | ------------------------- |\n",
    "| 2022-02-28        | 1.2     | Lakshmi Holla | Changed the URL of GameStop |\n",
    "| 2020-11-10        | 1.1     | Malika Singla | Deleted the Optional part |\n",
    "| 2020-08-27        | 1.0     | Malika Singla | Added lab to GitLab       |\n",
    "\n",
    "<hr>\n",
    "\n",
    "## <h3 align=\"center\"> © IBM Corporation 2020. All rights reserved. <h3/>\n",
    "\n",
    "<p>\n"
   ]
  },
  {
   "cell_type": "code",
   "execution_count": null,
   "metadata": {},
   "outputs": [],
   "source": []
  }
 ],
 "metadata": {
  "kernelspec": {
   "display_name": "Python 3 (ipykernel)",
   "language": "python",
   "name": "python3"
  },
  "language_info": {
   "codemirror_mode": {
    "name": "ipython",
    "version": 3
   },
   "file_extension": ".py",
   "mimetype": "text/x-python",
   "name": "python",
   "nbconvert_exporter": "python",
   "pygments_lexer": "ipython3",
   "version": "3.11.4"
  },
  "toc-autonumbering": true,
  "toc-showtags": true
 },
 "nbformat": 4,
 "nbformat_minor": 4
}
